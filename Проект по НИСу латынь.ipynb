{
 "cells": [
  {
   "cell_type": "markdown",
   "metadata": {},
   "source": [
    "NB! Этот файл должен находиться в папке со всеми файлами, которые мы рассматриваем"
   ]
  },
  {
   "cell_type": "code",
   "execution_count": 231,
   "metadata": {},
   "outputs": [],
   "source": [
    "import nltk\n",
    "from nltk.tokenize import word_tokenize\n",
    "import re\n",
    "import collections\n",
    "from collections import Counter"
   ]
  },
  {
   "cell_type": "markdown",
   "metadata": {},
   "source": [
    "Устанавливаем всё необходимое для лемматизации токенов:"
   ]
  },
  {
   "cell_type": "code",
   "execution_count": 230,
   "metadata": {},
   "outputs": [],
   "source": [
    "import cltk\n",
    "from cltk.stem.lemma import LemmaReplacer\n",
    "from cltk.corpus.utils.importer import CorpusImporter\n",
    "corpus_importer = CorpusImporter('latin')\n",
    "corpus_importer.import_corpus('latin_models_cltk')\n",
    "lemmatizer = LemmaReplacer('latin')"
   ]
  },
  {
   "cell_type": "markdown",
   "metadata": {},
   "source": [
    "#### Отдельно рассмотрим этот текст, там больше всего нужно чистить"
   ]
  },
  {
   "cell_type": "code",
   "execution_count": 370,
   "metadata": {},
   "outputs": [],
   "source": [
    "with open('calpurniusS.txt', encoding='utf-8') as f:\n",
    "    text = f.read()"
   ]
  },
  {
   "cell_type": "code",
   "execution_count": 371,
   "metadata": {},
   "outputs": [],
   "source": [
    "text_clean = re.sub(r'[A-Z][A-Z]+\\W', '', text)#чистим текст от слов, написанных капсом\n",
    "text_clean_2 = re.sub(r'([IV].+\\n)', '', text_clean)#убираем строки с номером глав и действующими лицами\n",
    "\n",
    "line_split = text_clean_2.split('\\n')#делим полученный текст на строчки\n",
    "\n",
    "new_lines = []\n",
    "for line in line_split:\n",
    "    new_line = re.sub(r'([A-Z][a-z]+\\b\\s)?', '', line, count = 1)#удаляем имя говорящего из некоторых строк\n",
    "    new_lines.append(new_line.lower())#приводим к нижнему регистру"
   ]
  },
  {
   "cell_type": "markdown",
   "metadata": {},
   "source": [
    "#### Получаем строчку с первыми буквами для этого произведения"
   ]
  },
  {
   "cell_type": "code",
   "execution_count": 135,
   "metadata": {},
   "outputs": [
    {
     "name": "stdout",
     "output_type": "stream",
     "text": [
      "nqecmnthisbpqdppnmesqasocnpnsnmqqhlvvscnaaeaspiesdoicqqpoincipaaapiinaireevcfpnsaisfuncomscdfdvacpieaecpaedaocdieisepniieeaitqpniaiecnapelhdhuafirsnmrntpsqpsssvsamcmdonfaicshieeevenisnaqmantetshnipeihudiinaevvsfeehddnnutnaeidoaavqdspqqestqtsueahsmcdaqdqvqoihcmaivnqmqqircvsqddnqancrhqildfidnqphnsctthepelupdsainrissevnaacmqechmmipaqeefstqheicdtaaplmrqlcrcacsenauehesdaidclvmnrsepfnnipuuqsgetdatestmhvrcvtqondpiafsteotrpnenimtctqcpchaiaasepiptpttsqpsinocafimpdntshfnndbianiqefeaaeivirnqccshacmsdftrapevpsaiandaleosumnqeinndhphgneiitvcivepsupsfasciiinavnsavceqotivdrfeseamqncqscacalaciedhptanvnteutheipsgnrssdispnnatadnraddmhofeqsaellnuoqcmceqnisavnogddqasevinaqeiseqppcciasefvvbcpseierdsohhvdibncssqaveaoiinfdovpole\n"
     ]
    }
   ],
   "source": [
    "first_letters_calpurniusS = ''\n",
    "for line in new_lines:\n",
    "    first_letters_calpurniusS = first_letters_calpurniusS + line[:1]#добавляем первую букву каждой строки в отдельную строчку\n",
    "print(first_letters_calpurniusS)"
   ]
  },
  {
   "cell_type": "code",
   "execution_count": 194,
   "metadata": {
    "scrolled": false
   },
   "outputs": [
    {
     "name": "stdout",
     "output_type": "stream",
     "text": [
      "['nondum', 'solis', 'equos', 'declinis', 'mitigat', 'aestas', 'quamvis', 'et', 'madidis', 'incumbant', 'prela', 'racemis', 'et', 'spument', 'rauco', 'ferventia', 'musta', 'susurro', 'cernis', 'ut', 'ecce', 'pater', 'quas', 'tradidit', 'ornyte', 'vaccae', 'molle', 'sub', 'hirsuta', 'latus', 'explicuere', 'genista', 'nos', 'quoque', 'vicinis', 'cur', 'non', 'succedimus', 'umbris', 'torrida', 'cur', 'solo', 'defendimus', 'ora', 'galero', 'hoc', 'potius', 'frater', 'corydon', 'nemus', 'antra', 'petamus', 'ista', 'patris', 'fauni', 'graciles', 'ubi', 'pinea', 'denset', 'silva', 'comas', 'rapidoque', 'caput', 'levat', 'obvia', 'soli', 'bullantes', 'ubi', 'fagus', 'aquas', 'radice', 'sub', 'ipsa', 'protegit', 'et', 'ramis', 'errantibus', 'implicat', 'umbras', 'quo', 'me', 'cumque', 'vocas', 'sequor', 'ornyte', 'nam', 'mea', 'leuce', 'dum', 'negat', 'amplexus', 'nocturnaque', 'gaudia', 'nobis', 'pervia', 'cornigeri', 'fecit', 'sacraria', 'fauni', 'prome']\n"
     ]
    }
   ],
   "source": [
    "tokens = []\n",
    "new_tokens = []\n",
    "for line in new_lines:\n",
    "    tokens.extend(word_tokenize(line))#токенизируем текст с помощью nltk\n",
    "for token in tokens:\n",
    "    if token.isalpha():#оставляем только буквенные токены\n",
    "        new_tokens.append(token)\n",
    "print(new_tokens[:100])"
   ]
  },
  {
   "cell_type": "code",
   "execution_count": 372,
   "metadata": {},
   "outputs": [
    {
     "name": "stdout",
     "output_type": "stream",
     "text": [
      "4771\n"
     ]
    }
   ],
   "source": [
    "lemmas = lemmatizer.lemmatize(new_tokens)#лемматизируем токены\n",
    "print(len(lemmas))"
   ]
  },
  {
   "cell_type": "markdown",
   "metadata": {},
   "source": [
    "#### Нужен os, чтобы обойти все файлы в папке"
   ]
  },
  {
   "cell_type": "code",
   "execution_count": 11,
   "metadata": {},
   "outputs": [],
   "source": [
    "import os"
   ]
  },
  {
   "cell_type": "markdown",
   "metadata": {},
   "source": [
    "#### Создаем список со всеми файлами, которые будем обходить"
   ]
  },
  {
   "cell_type": "code",
   "execution_count": 37,
   "metadata": {},
   "outputs": [
    {
     "name": "stdout",
     "output_type": "stream",
     "text": [
      "['cicero_philosophia.txt', 'seneca_philosophia.txt', 'caesar_gallica.txt', 'lucretius.txt', 'nepos.txt', 'calpurniusS.txt', 'appendixV.txt', 'cicero_rhetorica.txt', 'horatius_sat_ep_ap.txt', 'vitruvius.txt', 'ovidius_met.txt', 'tacit_annales.txt', 'apuleius_meta.txt', 'hirtius.txt', 'lucanus.txt', 'suetonius_XII.txt', 'Vergil_Aeneis_Mynors.txt', 'apuleius_apol.txt', 'Vergil_Georg_Mynors.TXT', 'statius.txt', 'cicero_orationes.txt', 'persius.txt', 'herennium.txt', 'Vergil_Bukol_Mynors.TXT', 'bellumAf.txt', 'sallustius.txt', 'juvenalis.txt', 'manilius.txt', 'homerusL.txt', 'caesar_civile.txt', 'siliusI.txt', 'valeriusF.txt', 'catullus1.txt']\n"
     ]
    }
   ],
   "source": [
    "new_poems = []\n",
    "poems = os.listdir(path='.')\n",
    "for i in poems:\n",
    "    if (i != '.DS_Store') and (i != 'Проект по НИСу латынь.ipynb') and (i != '.ipynb_checkpoints'):\n",
    "        new_poems.append(i)\n",
    "print(new_poems)"
   ]
  },
  {
   "cell_type": "markdown",
   "metadata": {},
   "source": [
    "#### Функция, которая получает имя файла и уже начатый список с леммами и читает из данного файла леммы, возвращает дополненный список"
   ]
  },
  {
   "cell_type": "code",
   "execution_count": 185,
   "metadata": {},
   "outputs": [],
   "source": [
    "def lemmas_bag(filename, lemmas):\n",
    "    with open(filename, encoding='utf-8') as f:\n",
    "        text_def = f.read()\n",
    "    text_clean_def = re.sub(r'[A-Z][A-Z]+\\W', '', text_def)#чистим текст от слов, написанных капсом\n",
    "    line_split_def = text_clean_def.split('\\n')#делим полученный текст на строчки\n",
    "    tokens_def = []\n",
    "    new_tokens_def = []\n",
    "    for line in line_split_def:\n",
    "        tokens_def.extend(word_tokenize(line))#токенизируем текст с помощью nltk\n",
    "    for token in tokens_def:\n",
    "        if token.isalpha():#оставляем только буквенные токены\n",
    "            new_tokens_def.append(token.lower())\n",
    "    lemmas_list = lemmatizer.lemmatize(new_tokens_def)#лемматизируем токены\n",
    "    return lemmas + lemmas_list"
   ]
  },
  {
   "cell_type": "markdown",
   "metadata": {},
   "source": [
    "Эта функция выдает размер каждого из рассматриваемых файлов (в целом, она громоздкая и излишляя, это предыдущая функция, у которой я поменяла return; мне просто срочно нужно было достать длину текстов)"
   ]
  },
  {
   "cell_type": "code",
   "execution_count": 337,
   "metadata": {},
   "outputs": [],
   "source": [
    "def lemmas_bag_special(filename, lemmas):\n",
    "    with open(filename, encoding='utf-8') as f:\n",
    "        text_def = f.read()\n",
    "    text_clean_def = re.sub(r'[A-Z][A-Z]+\\W', '', text_def)#чистим текст от слов, написанных капсом\n",
    "    line_split_def = text_clean_def.split('\\n')#делим полученный текст на строчки\n",
    "    tokens_def = []\n",
    "    new_tokens_def = []\n",
    "    for line in line_split_def:\n",
    "        tokens_def.extend(word_tokenize(line))#токенизируем текст с помощью nltk\n",
    "    for token in tokens_def:\n",
    "        if token.isalpha():#оставляем только буквенные токены\n",
    "            new_tokens_def.append(token.lower())\n",
    "    lemmas_list = lemmatizer.lemmatize(new_tokens_def)#лемматизируем токены\n",
    "    return len(lemmas_list)"
   ]
  },
  {
   "cell_type": "markdown",
   "metadata": {},
   "source": [
    "Проходим этой функцией по всем файлам"
   ]
  },
  {
   "cell_type": "code",
   "execution_count": 338,
   "metadata": {
    "scrolled": true
   },
   "outputs": [
    {
     "name": "stdout",
     "output_type": "stream",
     "text": [
      "cicero_philosophia.txt\n",
      "280460\n",
      "seneca_philosophia.txt\n",
      "295443\n",
      "caesar_gallica.txt\n",
      "44653\n",
      "lucretius.txt\n",
      "49013\n",
      "nepos.txt\n",
      "28220\n",
      "appendixV.txt\n",
      "12560\n",
      "cicero_rhetorica.txt\n",
      "155055\n",
      "horatius_sat_ep_ap.txt\n",
      "27206\n",
      "vitruvius.txt\n",
      "57566\n",
      "ovidius_met.txt\n",
      "77965\n",
      "tacit_annales.txt\n",
      "88562\n",
      "apuleius_meta.txt\n",
      "53442\n",
      "hirtius.txt\n",
      "6603\n",
      "lucanus.txt\n",
      "51010\n",
      "suetonius_XII.txt\n",
      "69821\n",
      "Vergil_Aeneis_Mynors.txt\n",
      "67115\n",
      "apuleius_apol.txt\n",
      "21425\n",
      "Vergil_Georg_Mynors.TXT\n",
      "14991\n",
      "statius.txt\n",
      "91031\n",
      "cicero_orationes.txt\n",
      "413190\n",
      "persius.txt\n",
      "4516\n",
      "herennium.txt\n",
      "29957\n",
      "Vergil_Bukol_Mynors.TXT\n",
      "5735\n",
      "bellumAf.txt\n",
      "12916\n",
      "sallustius.txt\n",
      "45909\n",
      "juvenalis.txt\n",
      "25046\n",
      "manilius.txt\n",
      "27487\n",
      "homerusL.txt\n",
      "6611\n",
      "caesar_civile.txt\n",
      "32245\n",
      "siliusI.txt\n",
      "76394\n",
      "valeriusF.txt\n",
      "37203\n",
      "catullus1.txt\n",
      "2919\n",
      "4429309\n"
     ]
    }
   ],
   "source": [
    "for poem in new_poems:\n",
    "    if (poem != 'calpurniusS.txt'):\n",
    "        print(poem)\n",
    "        lemmas = lemmas_bag(poem,lemmas) \n",
    "        print(lemmas_bag_special(poem,lemmas))\n",
    "print(len(lemmas))"
   ]
  },
  {
   "cell_type": "markdown",
   "metadata": {},
   "source": [
    "#### Леммы не должны повторяться, для этого делаем словарь и оставляем только ключи"
   ]
  },
  {
   "cell_type": "code",
   "execution_count": 235,
   "metadata": {},
   "outputs": [
    {
     "name": "stdout",
     "output_type": "stream",
     "text": [
      "48433\n",
      "['nondum', 'solus1', 'equus1', 'declinis', 'mitigo', 'aestas', 'quivis', 'et', 'madidus', 'incumbo', 'prelum', 'racemus', 'spumo', 'raucus', 'ferveo', 'mustus', 'susurro1', 'cerno', 'ut', 'ecce', 'pater', 'qui1', 'trado', 'ornyte', 'vacca1', 'molle', 'sub', 'hirsutus', 'fero', 'explico', 'genesta', 'nos', 'quoque', 'vicinus', 'cur', 'non', 'succedo', 'umbra', 'torridus', 'solo1', 'defendo', 'oro', 'galerus', 'hic', 'potis', 'frater', 'corydon', 'no1', 'antrum', 'peto', 'iste', 'fauni', 'gracilis', 'ubi', 'pineum', 'denset', 'silva', 'como1', 'rapidus', 'caput', 'levo1', 'obvius', 'bullo', 'fagus', 'aqua', 'radix', 'ipse', 'protego', 'ramus', 'erro1', 'implico', 'umbro', 'quis1', 'ego', 'cumque', 'voco', 'sequor', 'nam', 'meo', 'leuce', 'dum', 'nego', 'amplector', 'nocturnus', 'gaudium', 'pervius', 'cornigeri', 'facio', 'sacrarium', 'promo', 'igitur', 'calamus', 'si', 'recondo', 'servo', 'neque', 'tu', 'desum', 'fistula', 'nuper', 'maturo', 'docilis', 'compingo1', 'harundo', 'ladon', 'jam', 'capto', 'parito', 'sed', 'quisnam', 'sacro', 'describo', 'edo1', 'pagina', 'modus', 'nescio', 'queo', 'propero', 'falx', 'noto', 'aspicio', 'viridis', 'etiam', 'nunc', 'littera', 'rimo', 'areo', 'sui', 'laxo', 'hio', 'propius', 'tuus', 'lumen', 'possum', 'alo', 'cortex', 'cieo', 'percurro', 'verro', 'longus', 'sero1', 'internodium', 'largus1', 'procerus', 'do', 'mater', 'invidus', 'corpus', 'pastor', 'trivialis', 'morior', 'viator', 'deus', 'cano', 'nihil', 'armentalis', 'resultat', 'montanus1', 'sacer', 'distinguo', 'jubilo', 'miro', 'refero', 'rumpo', 'mora', 'oculus', 'sequax', 'primus', 'divinus', 'perlego', 'carmen1', 'jugo1', 'tueor', 'aether', 'faunus', 'populus1', 'venio', 'juvo', 'arbor1', 'laeto', 'patefacio', 'incido1', 'for', 'o', 'praecipuus', 'nemus', 'gaudeo', 'colonus', 'meus', 'liceo1', 'omne', 'vago', 'securus', 'custos', 'pecus2', 'claudo', 'fraxineus', 'nolo', 'praesaepe', 'creo1']\n"
     ]
    }
   ],
   "source": [
    "new_lemmas = []#леммы без повторений\n",
    "x = Counter(lemmas)\n",
    "for i in x.keys():\n",
    "    new_lemmas.append(i)\n",
    "print(len(new_lemmas))\n",
    "print(new_lemmas[:200])"
   ]
  },
  {
   "cell_type": "markdown",
   "metadata": {},
   "source": [
    "#### Чистим леммы (всякие циферки убираем с конца)"
   ]
  },
  {
   "cell_type": "code",
   "execution_count": 236,
   "metadata": {},
   "outputs": [
    {
     "name": "stdout",
     "output_type": "stream",
     "text": [
      "['nondum', 'solus', 'equus', 'declinis', 'mitigo', 'aestas', 'quivis', 'et', 'madidus', 'incumbo', 'prelum', 'racemus', 'spumo', 'raucus', 'ferveo', 'mustus', 'susurro', 'cerno', 'ut', 'ecce', 'pater', 'qui', 'trado', 'ornyte', 'vacca', 'molle', 'sub', 'hirsutus', 'fero', 'explico', 'genesta', 'nos', 'quoque', 'vicinus', 'cur', 'non', 'succedo', 'umbra', 'torridus', 'solo', 'defendo', 'oro', 'galerus', 'hic', 'potis', 'frater', 'corydon', 'no', 'antrum', 'peto', 'iste', 'fauni', 'gracilis', 'ubi', 'pineum', 'denset', 'silva', 'como', 'rapidus', 'caput', 'levo', 'obvius', 'bullo', 'fagus', 'aqua', 'radix', 'ipse', 'protego', 'ramus', 'erro', 'implico', 'umbro', 'quis', 'ego', 'cumque', 'voco', 'sequor', 'nam', 'meo', 'leuce', 'dum', 'nego', 'amplector', 'nocturnus', 'gaudium', 'pervius', 'cornigeri', 'facio', 'sacrarium', 'promo', 'igitur', 'calamus', 'si', 'recondo', 'servo', 'neque', 'tu', 'desum', 'fistula', 'nuper', 'maturo', 'docilis', 'compingo', 'harundo', 'ladon', 'jam', 'capto', 'parito', 'sed', 'quisnam', 'sacro', 'describo', 'edo', 'pagina', 'modus', 'nescio', 'queo', 'propero', 'falx', 'noto', 'aspicio', 'viridis', 'etiam', 'nunc', 'littera', 'rimo', 'areo', 'sui', 'laxo', 'hio', 'propius', 'tuus', 'lumen', 'possum', 'alo', 'cortex', 'cieo', 'percurro', 'verro', 'longus', 'sero', 'internodium', 'largus', 'procerus', 'do', 'mater', 'invidus', 'corpus', 'pastor', 'trivialis', 'morior', 'viator', 'deus', 'cano', 'nihil', 'armentalis', 'resultat', 'montanus', 'sacer', 'distinguo', 'jubilo', 'miro', 'refero', 'rumpo', 'mora', 'oculus', 'sequax', 'primus', 'divinus', 'perlego', 'carmen', 'jugo', 'tueor', 'aether', 'faunus', 'populus', 'venio', 'juvo', 'arbor', 'laeto', 'patefacio', 'incido', 'for', 'o', 'praecipuus', 'nemus', 'gaudeo', 'colonus', 'meus', 'liceo', 'omne', 'vago', 'securus', 'custos', 'pecus', 'claudo', 'fraxineus', 'nolo', 'praesaepe', 'creo']\n"
     ]
    }
   ],
   "source": [
    "new_lemmas_final = []\n",
    "for i in new_lemmas:\n",
    "    if i.isalpha():\n",
    "        new_lemmas_final.append(i)\n",
    "    else:\n",
    "        new_lemmas_final.append(i[:-1])\n",
    "print(new_lemmas_final[:200])"
   ]
  },
  {
   "cell_type": "markdown",
   "metadata": {},
   "source": [
    "#### Функция которая из файла достает строчку с первыми буквами каждой строки"
   ]
  },
  {
   "cell_type": "code",
   "execution_count": 232,
   "metadata": {},
   "outputs": [],
   "source": [
    "def take_first_letters(filename):#функция для получения строки из первых букв строк поэм\n",
    "    with open(filename, encoding='utf-8') as f:\n",
    "        text_def = f.read()\n",
    "    text_clean_def = re.sub(r'[A-Z][A-Z]+\\W', '', text_def)#чистим текст от слов, написанных капсом\n",
    "    line_split_def = text_clean_def.split('\\n')#делим полученный текст на строчки\n",
    "    first_letters_def = ''\n",
    "    for line in line_split_def:\n",
    "        if line == '':\n",
    "            continue\n",
    "        else:\n",
    "            if (line[:1] == \"'\"):\n",
    "                first_letters_def = first_letters_def + line[1:2]\n",
    "            else:\n",
    "                if (line[:1] == \"{\"):\n",
    "                    first_letters_def = first_letters_def + line[1:2]\n",
    "                else:\n",
    "                    if (line[:1] == \"(\"):\n",
    "                        first_letters_def = first_letters_def + line[1:2]\n",
    "                    else:\n",
    "                        first_letters_def = first_letters_def + line[:1]\n",
    "    return first_letters_def.lower()"
   ]
  },
  {
   "cell_type": "markdown",
   "metadata": {},
   "source": [
    "Эта функция специально для Вергилия. Она не убирает \"{\". Из-за этого можно будет каждую часть произведения рассматривать отдельно"
   ]
  },
  {
   "cell_type": "code",
   "execution_count": 308,
   "metadata": {},
   "outputs": [],
   "source": [
    "def take_first_letters_special(filename):#функция для получения строки из первых букв строк поэм\n",
    "    with open(filename, encoding='utf-8') as f:\n",
    "        text_def = f.read()\n",
    "    text_clean_def = re.sub(r'[A-Z][A-Z]+\\W', '', text_def)#чистим текст от слов, написанных капсом\n",
    "    line_split_def = text_clean_def.split('\\n')#делим полученный текст на строчки\n",
    "    first_letters_def = ''\n",
    "    for line in line_split_def:\n",
    "        if line == '':\n",
    "            continue\n",
    "        else:\n",
    "            if (line[:1] == \"'\"):\n",
    "                first_letters_def = first_letters_def + line[1:2]\n",
    "            else:\n",
    "                if (line[:1] == \"(\"):\n",
    "                    first_letters_def = first_letters_def + line[1:2]\n",
    "                else:\n",
    "                    first_letters_def = first_letters_def + line[:1]\n",
    "    return first_letters_def.lower()"
   ]
  },
  {
   "cell_type": "markdown",
   "metadata": {},
   "source": [
    "#### Функция, которая находит слова из мешка с лексемами, содержащиеся в строчке из первых букв"
   ]
  },
  {
   "cell_type": "code",
   "execution_count": 60,
   "metadata": {},
   "outputs": [],
   "source": [
    "def acro(first_letters, new_lemmas_final):\n",
    "    acro_list = []\n",
    "    for lemma in new_lemmas_final:\n",
    "        if (len(lemma) >= 4) and (lemma in first_letters):\n",
    "            acro_list.append(lemma)\n",
    "    return acro_list"
   ]
  },
  {
   "cell_type": "markdown",
   "metadata": {},
   "source": [
    "#### А вот теперь пошли по поэтическим произведениям по отдельности: создаем строчку из первых букв и список содержащихся в ней лексем"
   ]
  },
  {
   "cell_type": "markdown",
   "metadata": {},
   "source": [
    "#### Кальпурний\n",
    "\n",
    "1) 'calpurniusS.txt'"
   ]
  },
  {
   "cell_type": "code",
   "execution_count": 352,
   "metadata": {},
   "outputs": [
    {
     "name": "stdout",
     "output_type": "stream",
     "text": [
      "Строка из первых букв строк: \n",
      " icqecmntoisbpcdppnmosqasccnposncqohlvvscnaaeasdpiesdoicqqpoincipaaapiinaireevcfpnsaisfunccmsodfiiidvacpieaecpaedaocditisepnieiiaeaiitqpaiaiiecnapelihdhaafiirssamrnitpsapssisvsamcmidonaaicishaieveeiivenislupiqmlhnteitshnilceihudainaeivvslfeielddnnutnaeidoaavqdspqqestqtsutahsmcdaqdqvqoihcpnpivinqmmqircvsqmdncancrhqmildfidnqpcnsctthepelupdsainrissevnaacmqedctmmipaqncfsmtqheicdtcsaplarqilcicccccsenauehecdaidaclvmcpsnpafnnicpuuqasgetcatesacmhvmcvtqcndpiafsttotapnemivftctqccchaiaasepiptpttlsqpsinocafimpdntshfnndvbianiqefeaaeivirnqccshacmsdftrapevpsaiandaleosumnqeinndhphgneiitvcivepsupsfaaciiilavasalvceqatlivadrleseaaqncqscacalaciedhplanvnteuthmipagnrlsdimspnnaladaraddlhoaemsaelllnucqclceqnicavnogldqacsevinaqeiseqppcciasefvvbcpseierdsohhvdibncssqavealiinfdcvpole\n",
      "Длина строки: \n",
      " 765\n",
      "Список \"акрослов\": \n",
      " ['sino', 'iani', 'lada', 'itis', 'cccc', 'lvce', 'avno', 'cala', 'ates', 'peli']\n",
      "Длина списка: \n",
      " 10\n"
     ]
    }
   ],
   "source": [
    "first_letters_calpurniusS = take_first_letters('calpurniusS.txt')\n",
    "print('Строка из первых букв строк: \\n', first_letters_calpurniusS)\n",
    "print('Длина строки: \\n', len(first_letters_calpurniusS))\n",
    "acro_calpurniusS = acro(first_letters_calpurniusS, new_lemmas_final)\n",
    "print('Список \"акрослов\": \\n', acro_calpurniusS)\n",
    "print('Длина списка: \\n', len(acro_calpurniusS))"
   ]
  },
  {
   "cell_type": "markdown",
   "metadata": {},
   "source": [
    "класть, идущий, днём, \n",
    "\n",
    "нет слов из 5 букв, все только из 4х; 10 слов. 765 - длина строки\n",
    "\n",
    "4771 - лемм всего"
   ]
  },
  {
   "cell_type": "markdown",
   "metadata": {},
   "source": [
    "#### Вергилий, так называемый аппендикс\n",
    "\n",
    "2) 'appendixV.txt'"
   ]
  },
  {
   "cell_type": "code",
   "execution_count": 353,
   "metadata": {},
   "outputs": [
    {
     "name": "stdout",
     "output_type": "stream",
     "text": [
      "Строка из первых букв строк: \n",
      " ﻿bdrademminsnirepidnhphmdslotinmfiniiteacnuptpqsulafqbtnmchaedrsbnnffindeectpeqcpaotemhhodetmtirsedcmqqgiheuuecioiadamegetdieaeqdfifufessseiccsillpeoaachqlcasiipnddnaicgepgtntnateiqntulalonqppnulpeashcqneaateostpnuningmuhgedgiccpplictspdhuhiomsqsaspcacsfuaoptiesqqnnntaiifildqiofastpctlqeiqicuduiqphenrqmiqnaihaahcpppqqihpaiubipqachqehcaaeapmassnnimostiaseamalsaafmspeqhioslieqphaienhqiecucletqcuteuploecashrpiiaapeaqndceitargqcoisaiaiqoaiaieieoaiieftqpacnndoisibiqslpaheniplsodpuapchaaaoqteluuiiochohfteuhdhrahepiiaphadrhinifuapscuoscacielohhohhcdmchfismiceceucsedeadhisqqrcdgictqceeallhcebniehepfaeqcssiuacuaipsnuqiaqdqfqeiipsvfcsidichapitsihscpiippiaihudaiesiiipitdgoahupsamhssiqnnnctidiaqensepatsipseupinneeaapdecncefodaaqhfcqchsaiipcaiatonssunuohsqnpstqfqienacafnhfiuhianophphipuhhnnmrqsiucnapffninnucqseihsniuihnucsdnmnispeshaossnqtcaalsqsqensssqhnittsqtdtncfhhaghpsissnancnucirpiuessptnpsciqhpcuemqpnspdauufeahheptihsdedeqfrqpippnopsishqcpcqinsuingstsceuahaineupnnpcscehdppqifsnqimunpiaipaqtuiqnssefesusutpcnumcuqhiqicisqdneqiisesiipiqsanmhsoncipcimhsscndetpnapipnahptaqucheaefiiqnhiqisapufpeeuceesisuustmfcnedsqncuhecqauniqifqnqchosenlmseinnscnuqpsuhsasffehtsmdtcencicnmdencecteeampciqssnuehacpinneeheaiuettcdhescccuacaepihieeefdmteisinseicfmlaenieqmsqudnnesqdtceffemhaqettpsnansnhpapisachpcnlsicddsnnqissisiscauisehphiaeqdidqoaqmpmdaspasapqsausehfhctasidrncectceacnnsosiieiiiondpsennpcpaopniecaqahuqesiincnmsasscnnnnatqfufnschnuftgqiuudcccqcinecaeteacnusnqsmcenanannqtqdifeiulqntsppomshfqdpnmiqnnnnisqdniqcdiqpusnnaapauieoosatteiuttaucdnpuudsnhcutnttscuqaeqsisepnnfsahqftctmphupuiifnfpeqhputluncncninqueiantfdispruntrptngetttpcmeielicthfalsdpuucsicqiduunshusfotmfttuntmcmnonpnpommcnaisuuolmfudcpisieifslnpmaiemauufcadncsinaecheissuoectepamliceeunpnnqceiirnoccissrfqhiinusseqeiiiestmsupeaeetoefhqiqllpalhtiaaiatpchiptesecctileiadsusndteeheeninsfhnuhfhg eusuiucqitaqiuhesesthcedaidnnsssipseeatcceqiasavmiqseiqcnpsinoqcqqcqcpdioehosaoesshiscuhdheneeshmq\n",
      "Длина строки: \n",
      " 1959\n",
      "Список \"акрослов\": \n",
      " ['ipse', 'sino', 'suus', 'apis', 'spes', 'cena', 'uacua', 'dccc', 'pisa', 'iano', 'eoos', 'runt', 'laeni', 'isis', 'insu']\n",
      "Длина списка: \n",
      " 15\n"
     ]
    }
   ],
   "source": [
    "first_letters_appendixV = take_first_letters('appendixV.txt')\n",
    "print('Строка из первых букв строк: \\n', first_letters_appendixV)\n",
    "print('Длина строки: \\n', len(first_letters_appendixV))\n",
    "acro_appendixV = acro(first_letters_appendixV, new_lemmas_final)\n",
    "print('Список \"акрослов\": \\n', acro_appendixV)\n",
    "print('Длина списка: \\n', len(acro_appendixV))"
   ]
  },
  {
   "cell_type": "markdown",
   "metadata": {},
   "source": [
    "uacua - свободный, пустой, одинокий\n",
    "\n",
    "laeni\n",
    "\n",
    "два слова из 5 букв, остальные из 4х; "
   ]
  },
  {
   "cell_type": "markdown",
   "metadata": {},
   "source": [
    "#### Катулл\n",
    "\n",
    "3) 'catullus1.txt'"
   ]
  },
  {
   "cell_type": "code",
   "execution_count": 354,
   "metadata": {},
   "outputs": [
    {
     "name": "stdout",
     "output_type": "stream",
     "text": [
      "Строка из первых букв строк: \n",
      " ﻿esihcnsnhnannniqdhhqceqhhqqnqhhnnhaqhhnnhaqhuiqiminscnhunsihamsccenivttqhpdpcaacdipiqteaimntttohpvttittoqatddcprnnnsirctpsthhntinudiiqspnnnoisitasieanaecqipfamhrlqanlfhsqqfqqcanpnqiepsnientscuqoavlscautmafspsinciavsqnnqnsdceqppqqqtssaqcpseninsficipncnidarcqpnnonnqcqefhqcqvsthsaqaicqdsnltnrnqelnnscincqqathufcqahtaaacpasmoqmactcehpppopambtpqehhaqpppsaqanmahqcthnfnfhvpeqpiaupnqlcvhcaaldflalqavhtcoeavcahqllcnnqcnhqfcnctpciscpcnstctqcacdcecnuaqpcqadcnhasctcphcsacstcasaasipdoliioiqn\n",
      "Длина строки: \n",
      " 482\n",
      "Список \"акрослов\": \n",
      " ['seni', 'fici', 'popa']\n",
      "Длина списка: \n",
      " 3\n"
     ]
    }
   ],
   "source": [
    "first_letters_catullus1 = take_first_letters('catullus1.txt')\n",
    "print('Строка из первых букв строк: \\n', first_letters_catullus1)\n",
    "print('Длина строки: \\n', len(first_letters_catullus1))\n",
    "acro_catullus1 = acro(first_letters_catullus1, new_lemmas_final)\n",
    "print('Список \"акрослов\": \\n', acro_catullus1)\n",
    "print('Длина списка: \\n', len(acro_catullus1))"
   ]
  },
  {
   "cell_type": "markdown",
   "metadata": {},
   "source": [
    "нет слов из 5 букв; "
   ]
  },
  {
   "cell_type": "markdown",
   "metadata": {},
   "source": [
    "#### Гомер\n",
    "\n",
    "4) 'homerusL.txt'"
   ]
  },
  {
   "cell_type": "code",
   "execution_count": 355,
   "metadata": {},
   "outputs": [
    {
     "name": "stdout",
     "output_type": "stream",
     "text": [
      "Строка из первых букв строк: \n",
      " ﻿talicpsqliiniiepncpudmsdhcsdmfqaqsesaipafadlivdtccecihrsdtmiccimiapenmmsatmnqtginacaetpnputimtdlodudehtitceiinhcvadhecndcarqafedicichphvbvctvttcatcaatiqacdpepevnedeapabeiqceiqciagleietbateiqctaeteqaedaheqeiibedaehpieqahbicqnpfcoeochbdeanpaimechafashvicasacatevlhndsaidadqopnddpfdipqcnmdishipticccnbacdcsdteatfufieieidqvcainofqadidtomapiaiqqasdcftidcpiaebfintoeioepovticeidteciiddpiosmielhaiihbaiqesvcidapovitehvcgstuaaqssenioishmempeeptqhetifciepptoddoicuepqsbsiqanfeciadauchpacdhsedtnsuntiidaurhmoulaisiveftccvpividopasqthqssehicpieahsiieuitpvcipiedpicqmqmhpppcchaoctupauvhupgnemaeqpeespmdedtnpffitatinitseapsieqiscnqdqvahnhaeiapdiapicspipauptiiftucniuisfeipudhlpphtohtgmhoapasccaecianslunuaiearceqsqdcmpqaptnppcihqamsiipnhcecdioeptniaafflidtidtaphhaphpneivopirdedsatetnpiaamdhqdcsiapabpptaacafeasshipnppqnpsepqttohieniiutdpqtimdpitvolintpmdudecmnhpipffemmeiisfoaqelelaotftficipdipcrmethqaticdoacquaniiscaiisacuoevpcepasrhfnppacuhneqapiihfanspqhontciiaschiqevndcinidrsiandcteeteqdtpnaptqpstdhsordtfdleiftetmccemiftiahhatoemaahovcedaisnsehvhhariatqchsaitfipstdiscripsit\n",
      "Длина строки: \n",
      " 1070\n",
      "Список \"акрослов\": \n",
      " ['acuo', 'sive', 'seni', 'coeo', 'opas', 'fici', 'icci', 'teat', 'cipi', 'senio', 'hvic', 'fufi']\n",
      "Длина списка: \n",
      " 12\n"
     ]
    }
   ],
   "source": [
    "first_letters_homerusL = take_first_letters('homerusL.txt')\n",
    "print('Строка из первых букв строк: \\n', first_letters_homerusL)\n",
    "print('Длина строки: \\n', len(first_letters_homerusL))\n",
    "acro_homerusL = acro(first_letters_homerusL, new_lemmas_final)\n",
    "print('Список \"акрослов\": \\n', acro_homerusL)\n",
    "print('Длина списка: \\n', len(acro_homerusL))"
   ]
  },
  {
   "cell_type": "markdown",
   "metadata": {},
   "source": [
    "senio - с возрастом\n",
    "\n",
    "одно слово из 5 букв, остальные из 4х\n"
   ]
  },
  {
   "cell_type": "markdown",
   "metadata": {},
   "source": [
    "#### Гораций\n",
    "\n",
    "5) 'horatius_sat_ep_ap.txt'"
   ]
  },
  {
   "cell_type": "code",
   "execution_count": 356,
   "metadata": {},
   "outputs": [
    {
     "name": "stdout",
     "output_type": "stream",
     "text": [
      "Строка из первых букв строк: \n",
      " ﻿qscomcmmasiscdqimvqqitppqdsipasapoqqnqdnqfqamnrfqnmdcuvqpcatanqqssitfficnpqafnsaaasnvmsaqiidpiuunsodqufceeqisqttsuipidcicammqdfhposrfdqqnsipqfisdmipnqcqvnhpsaquahaphadtlnqmedhuqnvfporevnqehdmvqaddindpnsraqirimqhcqdmcshcapaumiqicthanqqnppacnigscnhinipdcdndouiisquvncisocqhnmsnmqvsccqeinrinicnnitdveasassbpeppchasnticiasoacqnqcssqppdcpussismqoqmpceasspqcacmupdnonncqvitndnqernnvffpeccnuoaselurnrpiipeasqfhmenucgscacdfauudsqcahhhvfsofeegepedsimiendsfenanqqotpnbihnsameunnqnnsshtihvqqfqsepchipldtmafsfaapdcucvnbpcnpastdimfuusnhesapilcphoiciemsivehgdhphieutiitamcinisafomihclhicfflpimppotonpphlnhqsmcsaemnsscpnmendfptpnvctionvuhainqmshcnqficpbidpnntbninouicnamectnisqnnqavsnsinpaueissiqotdaneccnqnqdipamnvuinmspeqnamesoucnqlisasieicqnnsmlnnqseaaofinnaeepimocthmifsacpvdsvaanaapvvhqphopcdcsacqhinsacmdcapcsaiftevcapohocmmoathchpmhnaachqhnpvccfucmllciainmcisuualhndcevinaascnhidmfgnipctndcsnamicocqhngsvpdsaetechnmhsqndcspedmeovfqqedrcatcrmtsaiouxdeqqeagnluuneeaeiediefihhnamdcscdsccvavpimtdqnaeufuvhaihaptnncqqvmhaqiacqqsdpssscvncmvfpvfapvcpaddiislcmqootiacpdaaascvcqpcqacpmlicdvvnmqsiqvtinqfccguidmmusnedqvfpdcdifpsqvndiciodsisiiosqnrdcavdclmmscsndlqssnvhcrtqciucomdpmipvppaapngitdspsiscqacifcqumiascaauqmdlchaamhssaiqdritihdogieaidqctnuoapaiqiqcnqasvsepaesqonnipndnfsminsdciasqeicdpvtaeqqchcieetudfsdsanmtipsqcaedipiecqsuapmhncmeiiatrsnecfspdaaqaddnhndfshshpfivdcesgipnsnsauqcspaasmpobnmfdqucsuiicinaaiqnnehpqcqiceeanmditqqqscnhqnhndsafaftetqtqpivilnsanrrddecpgpmetarfunvenqpsacsshrdpqisehnvheucmvcaicssufsdiqnlqalssnqsmfdppseqiaesntpmriqgqashcaellqdaecimfmiaiqhadrsqiqgsaaaacsataubqmspaqnmmoupppiqsqueilupcdsndhnafamnpmelsmopnnnilucnvfpasnuqmneisvqtppfqenqnhcppnrhpiiamtsvcteohqddnnvnnavhrananaeqasreaqstumpeddtiamvqdsqaiecnppifnipspcahiqascvscnodqtdmftuanilaaelppqvnsdumeusqndnsocoiacceansgpefdeihhedmsnspotihpieqnamuipnsiplqiahvprdoidseivhmepilfqsnsspispondouoapslpsnpdqecesraassafvcetpvcmadvaamnitmqeacfirvcepetipmuqppicvamivscmciqnffsaanrtavqmcamdditioqmdtpnqcddtrtnaqaqcminciceqpcnpittiasvtdqqrfeieppcusvqaprasnvotqnicfnnpifuanundiqicrphgspcchtdfssvnrninluipaanetpfivcaichpvdhqemuiiqnsfftthvhrtsnpausancesnrqqrnemmpeqvsnucipsmnhnespnqcanqnvneulpscaarnnnnefspltinsvseqipndqmcvovplespsnrneisualqnnorobpfemeinsfftnsqqbnsotrqadinacdalptdqpcfgsaqcihqsiruqedpsqsvnsicauuspiiqedirlquqnansquasssiimidiifitmpqtnictaaqqbqpfutaqpsngfqisrpfqhsdqgsivpaqsacndqqgeiogmcvsnsvisimedaqpaiqssfchicosiedstanshtiqlqqqigsdiuisgnnmhqdpisqshlnmtseamnsqmeeeshsmqpccusqgdueqdcsnvcqssqmddoaqaccntintuphvndqfrifricmhnosaihnpapsscdiacdacipegesamrnvoeqpmputomrinedpmqsivsoaqdesqoqpmcmsvcnsnfcqrpuspusqsdmqmsdsfdsxurmfatrqqupvpnelcedpqnlnenncqqmircpisnslscslncitheqqzcaasfonsafuniippdrtgutncsqefsapsdsvcvvmccnqsqqevudvncaciuasnssaccvvsfuunccvvqqcemfifrcsitnmqnmcqianqaidamnqqqcnnlrchloqqqmmpdsqcmpedmciraqiqtupsmfsiqpqhavsdqvanncvvcnapscvltcmdffihitisnnddssdtsicrvqdpicmfqqqqsinsnscsotsndvqildnqinqpsvsnavrilcihqqdcesdsnnstsnfvcmssodotcmaqpavrrapnsqhuhacpaieqespbqansnnflcqssudeaqdvadsurapsaabqgqqsapvsacvcdotacnngzcmlascrvvpnpmsnaqcptaacfpqpneninmqifqutdanedehospondoiqnnvqqamqqsqscsdpnqavlepmhnqevrddpoblndoaaqttnnhvislninghssstfdlivsopnnqiqcccarqihocmmumcifmcicrlsrpdcpsncuipinstcatsqvpdsssnvpssspveqiaiqupdqmeuqnpapdpvhsaisusdeneopisiicnrfcqvviiqinqqqucnmsnsqqhrmcmcmsfiisnnpshvndnpmsotmaricdpcaicaccctffvlliidcpdagidmmseqtenscspquqqgsqesspsqisavoqdmecsdssusfegtdcdlaciiiuvqcvumussccnccasavgcrsasqepfiabamdnqcrtmacescrspdqninncdefstcfvlcqmlrnqidipidtiqselapipscafnvigpiriasadccudeuqnsetdcitpqqpshohipftthisrtvielpfvfagqccqsmqcldqfmciorgsacaeveopqnavflllnpdqqicmcepheeneneasqsntsnprspasvsqqctppaqeesslsnpshqsggascpdssnqutqsddiaepnnnvencasnnlqvltrhiudscpfrqsssipaeassnidmdodsqdiaeinnssvqnoupihdrifcegcvssnsupedtrvsdnmqqrqvpqgahavmeedccvidsiietpsneuhptavlffapsrimfmcasiispspqdrqpnniunfqpqdqncannsndaptssamrscigcuscqcmqvddsmmmsasqidenaaqnfniadqieiiiutaanqeplpairstseuscmiisvcnrmaeuinvnupaesatsnaaonaspnptsccniaaneivsnnalnslidqpaesldtnnavnqqpmpicdnnstqnnrmuqsrvqqqprrdifvqgmrdfurscpaaqpofnnccolhesnpnvoauqrsqivuthihoftrcmsnueosslinqlstisemqscddsdpcosctvepesnqnaqmatnoeuadselntnlpeuedreanqhbesnqvctoafoiuavqhsicsqsndiinfnmmoiqn\n",
      "Длина строки: \n",
      " 4097\n",
      "Список \"акрослов\": \n",
      " ['aqua', 'meus', 'fons', 'mico', 'sive', 'puto', 'sica', 'pondo', 'poto', 'rana', 'itio', 'icta', 'dicio', 'cinis', 'vlli', 'itis', 'pausa', 'sura', 'itam', 'meta', 'cipe', 'iaso', 'isim', 'avri', 'vndi', 'vncis', 'same', 'irim', 'svis', 'vnci', 'amico', 'iden', 'aona', 'daci', 'eivs', 'ccvi', 'cepe', 'tiam', 'aonas']\n",
      "Длина списка: \n",
      " 39\n"
     ]
    }
   ],
   "source": [
    "first_letters_horatius_sat_ep_ap = take_first_letters('horatius_sat_ep_ap.txt')\n",
    "print('Строка из первых букв строк: \\n', first_letters_horatius_sat_ep_ap)\n",
    "print('Длина строки: \\n', len(first_letters_horatius_sat_ep_ap))\n",
    "acro_horatius_sat_ep_ap = acro(first_letters_horatius_sat_ep_ap, new_lemmas_final)\n",
    "print('Список \"акрослов\": \\n', acro_horatius_sat_ep_ap)\n",
    "print('Длина списка: \\n', len(acro_horatius_sat_ep_ap))"
   ]
  },
  {
   "cell_type": "markdown",
   "metadata": {},
   "source": [
    "pondo - фунты\n",
    "\n",
    "dicio\n",
    "\n",
    "cinis\n",
    "\n",
    "pausa\n",
    "\n",
    "vncis\n",
    "\n",
    "amico\n",
    "\n",
    "aonas\n",
    "\n",
    "\n",
    "7 слов по 5 букв. остальные по 4\n"
   ]
  },
  {
   "cell_type": "markdown",
   "metadata": {},
   "source": [
    "#### Ювенал\n",
    "\n",
    "6) 'juvenalis.txt'"
   ]
  },
  {
   "cell_type": "code",
   "execution_count": 357,
   "metadata": {},
   "outputs": [
    {
     "name": "stdout",
     "output_type": "stream",
     "text": [
      "Строка из первых букв строк: \n",
      " ﻿suihtsnmvapfseecducpscfpqccundtcpeqccnnupapaqcpieihhaecidcqmfinqheseopipascaqqsqenpeqgemhapapqslisainscnaqocpunqmnuqssqeqlhogpisancuusornanlppthidnpotissqpqeqpcascaeicihpqvoqicseftihpcraeihdhcilqqsciqcocsncncamthqqaedmethnnluuphnldtddfsncidnaeumqsaceuufnpfaeesctcioarceiaarhnebeqmhhlsgqmqcscosssasuhtnnipqnfiqsntnuleeoaecanssqtusilosnamahimsqldisndtusshnioaidnhhnrdiddpceqseqpmccqeqsaniqfmqanpcaoutqengieouirehheuipegagiqhsauhqsehmihcucninancnannasspnshsegsdanpqselsqpcpndfaucednspqiqtecqospanqsclhpsqsqdhrcsftcpnfmeiaoshqcpcuipfcqasnmusunvtualocienpansptachhhhpssaqhiuueuplaaiuesdanauqapcnccissspnaqimishipirqtueeineuedpesaummccssnfcsnedtipunnfiaesqmufsuhsnarmcaeaadqpinisssnccaucpeqnqshpuqiepiuicpcuiaiqsddpadindesqrnassuioueipieisnseipcpaiticiqsccuitusspcepupfupbnremeqpefeqgcdbnibenporeefqdqdatuliatloescttdaatiscvsuscqudndtepmfestuqdtsfqlisipicccsdqbhvuqdnaptsqsfnugecfqefrpdqqqmeuqsssiuisceiaqadspiplcpqmterpiqvgdcuaueinalmpeaastmosscoqdehvppnqeediuslisigaaubavpqctqdfhqsctcnbussaiispfcipesfptsequcmabpcphacouctpcdfccanpnescmqvsqqqdpspqpuemuuqspdqctsaaeapvgscgaalounnapinusecctpmspfstqcpqescpagshaaqrqsalsiepoecmtceofhpiobnilrcstfcioipqqmcgmiboenspcrqmggtipnaedaqinpuhqnfdchhctpi uusqsnclqdsefaeunhhitlnpsnohipaousqdiincaaisafnmcpeqqafpqquqbdphdaepedghsitcauiqtessdhuicdupqtuhnlnpeapidigccaimtneiicniamcilpipnaltaiissqqahnmiiqeseaapcinqucnhlmpqpfpannioihpcpipimqascfhhhsdsshpqpacpchpsoesiettmdcbpctsuisqsqeasafppdrnhcsacihqedmipeidqnueradbnccacuoaddmpdnilcactatpuinccndtshsinuncaiipsauhtipestaeqacdchuaeeipnoadnacqseeehcatapsuendhebsmipgaeuihtuteiaiceeqpicmeiuscaiaiqsttpicdhepcmilnsccaephsqiiccnasaaasmpdcapqcahnstqcpeaitapcaisihpeiqsiqecianibiihhtonuclmqfsgmncqttcdgndhpsisamomhiaspesrbtpunoesahqqancehmspicafqustuettaqipshisoneqndncssqchaifppcqupmaanhsncnquincmgctpaaeisqephqatpusnosqqsdoipqtcspcdifqpasiaeqbestqpesecesfnroasqqqgadcnpoqqnmsnqqacquuefeecasfclbgehpsqchucqffafesessvssfpscndsqecesrqqqdeeidsqdqfrnuutdnaqeuenohassmecqcfstalcnussftaphppiasceiiiaelnqehbfunuqagfnqhcnnidqsfncshnueseqqhtrfplnseiifsedgerporpeppcindpnepmisoneispfdchiqqccfaeqcsunutnidqsdinocqiatpcinicsisimssochedhfqitmasmipieanqnatqucsliiqpmqnfqzrndndnpnecpeulpcspdpesmtdqhgpmaseqinuashmptntcrapnsheaqnpnospaepemqiomamaqenmasoqrnnpctueosbsqtdcipnpenquimeafqnqusqhccoalsqeucegimdatsnqicciplapqeumdseastaicqnqtaiilcsnnhenqtfnheoeeueqpfcibniaapuipcdqundfppnscqsgheoaqapsdssqqhaqxoaueacedmecssqtlctpnecpdnfgirpsmpdpqeietqndiadtosurimepqipiciasfpcsuhdnatdfpauicpnbqudsctutipcehpuhaefeseecqasmadeiqqelisoaoquetdqaibleahreiupghdqeipratdiafocenmdfncauuaucsquasdpiibimcsfhdhspdpqiphuefuungceacqnseqqcqpfmpqqpmpqippisomncqhaqufchsprefdqafaqqhaiapicscleteqpelfereehnsbcpouslifmucsiacsatpslcnitdnsimpimicusmfcidshenccsdgmfsahnnsndoppnpcncicnueofqnnhemtnnasecdsnsmceeeinaelefrlsdoisfcetaponinieaatanlhenqceimspepscnehafdhnqagopsanahcisqsmeaccfececnqcsuattumuriappaotnlohfitaanugdeeihacdemorspseecnntppnqiapseiqntchanfiasqidaantfuqntoncaqsepmnuuppaiipitpnhcsnefacmnqepstqsdspmleonnencantteeepacaarcetfppaiuipeacsansidrepicqmaspepluuusacsettqiqitgisaiiahtcenptetnslpqnbacphhpnpetadciinlmdpfigupeedigqdtiqtpntpudsamuhnqpqrtntnnqsqqeeqssennabptnpinpicsbptpnspqehpsecgishstsupeppaqsssenaehdidesnapusqfciscpncutuidipoeaeasctsotqepfcpssuastpnrscacpdhrnacechuhsdqiccnapmugqnnppadianiqciqappsunemopqnshdimrueehnfpfdedcnecethhcniippsihbncmcacdpeqfpaennpeeqsbncbmetbhsmpmapctuqqrftuuisccfeseauetqsnilmtsnqnoccucihuahueansiagsupmniuahpsippqalncmudfpdqnnqritnqsisifcntchqasieqpisimsimhsasfiscuiceaeeaqninidesqqeselsqmptuncpuuaanimhiequovqqcnppahpcsmsaduascpunuquuhhtsfdppmcfeempanmmneedcenpcqecqdiccefnineaiocasmnsifenetacqapqphuieeisaagionihacaccofnanosqfedtsdseancsmnpnnsiqqnaebhssnsipqapedaioponmctamhfnccetsdsngnnndiiaioeaulspsababsuhidsuidoleessituainteasatqlpfsuaehqdesnpqpvpfehepcpmeueqzpsngdnutaidaiaaiqshpensehqpsconueauasascptaddatulctscfeipapanaocuptqmmsqechaaeabclsecutcudcmpuednemccpsieqduettscdaqnsumosqpiuu\n",
      "Длина строки: \n",
      " 3880\n",
      "Список \"акрослов\": \n",
      " ['potis', 'nunc', 'sumo', 'tunc', 'acuo', 'pinus', 'nemo', 'spes', 'demo', 'quin', 'mors', 'dius', 'asia', 'piso', 'utei', 'ioca', 'spica', 'niam', 'ibim', 'iani', 'pana', 'attum', 'elis', 'vsus', 'annio', 'padi', 'acco', 'scae', 'muria', 'icci', 'ioni', 'itus', 'napus', 'nini', 'pica', 'pisa', 'ceae', 'fauce', 'cipe', 'samo', 'cuia', 'nefa', 'eoae', 'isim', 'coss', 'oeae', 'dide', 'papa', 'uuis']\n",
      "Длина списка: \n",
      " 49\n"
     ]
    }
   ],
   "source": [
    "first_letters_juvenalis = take_first_letters('juvenalis.txt')\n",
    "print('Строка из первых букв строк: \\n', first_letters_juvenalis)\n",
    "print('Длина строки: \\n', len(first_letters_juvenalis))\n",
    "acro_juvenalis = acro(first_letters_juvenalis, new_lemmas_final)\n",
    "print('Список \"акрослов\": \\n', acro_juvenalis)\n",
    "print('Длина списка: \\n', len(acro_juvenalis))"
   ]
  },
  {
   "cell_type": "markdown",
   "metadata": {},
   "source": [
    "potis\n",
    "\n",
    "pinus\n",
    "\n",
    "spica\n",
    "\n",
    "annio\n",
    "\n",
    "muria\n",
    "\n",
    "napus\n",
    "\n",
    "fauce\n",
    "\n",
    "\n",
    "7 слов по 5 букв. остальные по 4"
   ]
  },
  {
   "cell_type": "markdown",
   "metadata": {},
   "source": [
    "#### Лукан. Фарсалия\n",
    "\n",
    "7) 'lucanus.txt'"
   ]
  },
  {
   "cell_type": "code",
   "execution_count": 358,
   "metadata": {},
   "outputs": [
    {
     "name": "stdout",
     "output_type": "stream",
     "text": [
      "Строка из первых букв строк: \n",
      " ﻿biiccisqgcabhhuqeasettiausrhhnpcqirnihiuhalmqaesticqsnuasottifsastfiiisnsasaeiimiccifioqiannicfnttpcqniaappadqnsaimiaumptemenpsunidmincqedpeetsnsafsnoqaetimdhsnipnaupqaulnqiupuehiaheiicictceqsmlmtgevrpciisasmeihpfpplttepetcahtcsiousieicsnrdqieuedeooepoenuthncrteureeuhauaucctiapedtpbpgneludsiaeicucbmhunchiimgmtmmsciiqaniapnbeuqasdpqqippuqphrcqqatuonddsqfdlssnqcdedudlhofinappccsnchthirepqrfcffedcphplsmfquicquoudtfeqtuqmseooeasnevsgigteceteulpessainpomfmimeodcasuiiieeabianmhfprdqpsctipacnpsirfdnniefchpodghiceeptddpsppiaosfenefppiiticidsonislistsdhitdaatmmdussctaqdesiehimettahaaffmpemalptvtteeseedccdecicdndpatupchfceqeaphepiisefianaamahstoqscsdtsnshsqisedeicnhccetsetuqccqrqqhqatnaicrthispisnsmfsfsfsmecioteacesunmdhaaandisnnedgneotnnmafarhanspsdpuueosancesdecpssdutacashnushneciuaesaqcneslnpicsiiudomdsefidaoistamssiqqiatmusiheqstfsiescbchhduedcequptcacmoopcpipcundaphauutfnqiuaputctsaniupmcisnoipiauphntshhhiqherphccpatppaifsouedndiacqhhpcpphanhmnseeoififlpancsesssfnpasscsetchdoosnaiienspohdmrehqarmhgnphnnieiphqmtipseundiuiicmmnadehsfifilsttnlbcssqonepiicuipuhsrsnnhshipiisimhhueamihifficsqehpcsghnanhaduvsvtalgtuihelsaecghabqactacmstpcfsaqautgincvpqlddtshpsdatouacfeadhphdnrnoispihiticeeeccnsuceefippsiedilnmitaoonagidcspnalotaupqqioeutifiqddqanphutgdotaehqaoaiiapthaaoqmhciaqunssipseneqitbuqchhhnpehouhiihmsenctaenprtaarpebpapgdiaaasrirniicuochudedetrtceiniaspousidtmfnnppcmdesndqiiteecpohaahehcucruenleimlnpdeuqnmpaipiosmanimutsapeppuscfdihdesmipipatuimeaaiqspecadltpueqgasucqauabunnucehntgqqonpnsotieqqeamtddnptqacsunutefpotseeulumauaacuntsisdsnspbucnnllsdaocllspdodnptterqqqqquqtqepispppbfpsatceeticdtdecptimpcatdbsmmiqlqeppiocaegehcpmnnsdcmimqoahcquqefqciqcaaiutcalasuqepqfaofipceihhcqrienqpohslmncdattoeemquauiacpneiposmceaapssanuisanusfctfatuestfuqnuemioeuqefnopuuuhfiuqmouousastideqhchteupptasclaciaspuqhpusaloehssosieifafaianqseernsaahnismiiuaeicitpsetasgeeeupaduieascccisulhsmaeafeutaqiatcdirpstsmmitsepesunetpnicnepsfosceusogacufesqctccqcmoocuiuqiraauiaeduhsqsecactbapptiasinmepisehshhfieeprapttedddqacshpadeasqdaasqaiadctrhipateemsispeauaipfassedietahhdiqubscddnqepdunprnibasiiaaicmuosnqasnnihhmqtieuhmeseahusphemaslgsuaaumebhuceqasituespndneiupiucacanssppfibmupfccacpammiaiphvgcpshshsceucoqpsecdidelqiihinheddcamsihfpaunaassatceiteesiinsehciuisqhaopiesnaccnufismenicadufndspussaetnslhreespeessutiuptusnchsiiasdcdimncnpqmricaucafioenedicmhdoermhanaeqqnucscnoeutaepeigeqeeecccepsainauqiuenpunentshsuefmsicsmauafiifqeudcaitaemhdaniatcaupasfutsueiidpisipsdcasapionsmnmnaaateqqcapeccqdstdaofhpinoiarpeiqnqssiasumfssnadncidtsnnqodamchdfuiicaacueleadennuhuisepptuuefquiehsefncqeiqccepfmcueeemnqonrhqtaimeenccepcaussccniiaaserqhishcrethccvdrihecpntrlcuqioppauienaiincpsneemneoaqienfopndchepmpufmaaiotsndptfmdpeisuuvedtucdcbeuptciefmucdefhensiuecceonpsoimsmnciepbiancntnaqhtihraaiaatqfmiahiaccimaeptucaiesihcndcipcunsqeuanhhnnashmspshrcbfisotcestctadsaimmmeoeuunphlcdhheieifcdaideeqqmpidnttssohmeuialoelefnciisuptascfeiuuuonqsoifopesinucieatqauiamecoteaudcifnqmceihrpaupnaiquaeashffsqpaadhapatmgisccsisbiqdcerhntnulirqccqnunsigimccioibmhoctsdcuceeisetmtdcsefcpaaeacsasdhcmdheteumeudeiqdqaccsfatehhsuchnucmsuutanqecinacciasacpclactcddaeccsounschifauihqusespaeddchqsppepceaoiuaqctnlnqigepcisemeebecctaiecdpuruipqtlsltcrdaiqfutichtelqeaeciucaippdiedehqdtpsnicshteahqeptqtcqipqiuanpacssqsnnohdannopcsdfqffeentpamnisfpsbcnqmhdsauitahnaluccdfnqusfhhpccnnnhcnhaeitanietdupiiasnapbeaqmdaiiscnmqaaimcedneiimnhuidotbitidefcpnshinlriseclosuiinapscidaossaonciaosueunlciclptccapshcpaedstcfdiieqatsnitptcnsnueaudsqecspdtcusetlrrhsehlqtaassspiacdsmdpnasimncaoslanuosnaaqishihaasatattqincndspfstmudctnauilcaiqatuipcpoestnianacdsataottamcacntnnidlctiecnqqdfrnneaqsnentasfmteiafaainncepefdhiasifsqceqaicpseenhtippsfhntocnufqpusespemcecppnsusictoitfcdindpuuicudclipsmssesptrnisqctnmnphpnqfasutfacpasencunqhtqleusepsndlflnhfpiandannspipipmifiaetuisdhqidnhcsnuetithccmcigeqfddaencfidnameasrtiaeaihhappsauuidlapdqicempqubaoectoeaioiipinsacsalaasoiieuqqpdupnedqpoqapttdqdittrieqaeasappqhtitnnsnicppisudqmsaatcrndaadsuasqtuippinpaetiqphohppaasipsofuctdtiiaipcsipiugimpcnthccnmfissmapqcdnsueaeteascntiniqfmhismsesutiasifapitsoadtceneecahfudrsqcnfnnpsuedcathaemhsaeaeatpdctacpaseenlhpfdchseeqflanmcqepilpeemiaqaepasdghenupmaeifatrhitihptesptpiffidduiishcmadasscpqinnafsadnusahttraulicuuqatoacnipfmeatchtamieueicianmpesdrtetpoehoiuhqsoaaeicpnpqiedheiiaignnftisesenangocuimrfeqfcadcieeoauisseaueneneueeiiisttlpahnscecqitnepctssohpqoqtqpumcnueqnuitpiuisacsspcaaseupadmccuepifqtceedpudhiusmllsatuadieucpiusiecqpuahmudniqnaaaqceatedlqqesteeeemtpmistiephssinadhapshaecuaehupmtniedetfoecrnaecnuiupupemtpenieorqiatusaasqfdastaqeiedhuledinsbaeulacppapoepshqeqqtmiiqedotscuceatidisledlsasniauqopevqsasussccuuoduetihstipnnsoqucsnimdpaiinbhpcictppoahucahcgqdcpssquesaesnistascqgaaauphssuqetdrapupispsclaoopldpcimaciaoatpneecasnmesppnpciaedepanusuatnaeiiicpeiiedahcsaqlsasmcecauisapsdtasoshssnsanmdnileaaasacptaimiiefiacotacuacilmnpomnihpihrhssnnntipoisgebcbhiescasbrqctadqcuccsustaqqtacescusmdrnqnacuhsucsiisepucscasunupsaosuqehqecirspnpossthieqsniebcccaacphpiuldnueeihuuoefparinpthnuhiccicethaimhiecopothuoseensqqlagaurudefqeqnmasicittsubfiucqiffnpppdscpoieteueppoesuaatasiecnsespiucpiqoheusnaupsiiriaciieipnuioippnisphaicahiuqcnbihhnqaqhniiqqqqmuosbpnipiapuisuqoucsiioenntcieuhpmpdsllucsdsnsaepcuimqeoeqtqicaqqdnqpmprmuqupitisisfeatanmuscpseecooiscsisncnpcpainmrapqtdrqaiesnnlonpreiqqcuftaaauncopstrsucappnccsianpdnhipqqchteqaiiessibsqquccdcriqtimiimescihphenchaieqppnhfceiaefaiiccscdnaetnachucmhnlqtqhsenbctdaictiioasamsiudfltltiqqapoeeppnnrunualsoqheihcmimqenscanccoaatmnernanddiadtleifclecfmeetrlsqeqnucpdcoamslqnpsacppmnfflueqatssebsumoibcapaoisscsdmnimcistastonsnohccaaahnelegoahainmfhssfsdnnitppmuiuihqsintneaspruaadsnsaisbsaiestsnhupcdnitqhaimdcosaonatedqqeenmeappasepiaqaissesatezuaeiquierascoameqicepaqiuaicieueemmmqfeuqaeaahniheiqdceuocnspbanessuoefeeqfnqonuoqqnrpmecucupsueuptacplshudrsneuhheiqpsdsqdatonqiiustlabnnenampeiaeebenccaaiisniepcircnidopnqsqsnhahnsnmcdaiiaeadnuiuaolodstrisgtasthrnriltiucheiniuitnlcfihcpihmlcssaidqeusilsnqnnqppsaqnpcncedtsiccuhcpthnmtchamtstapnanarppeeiehsehcpcniniuqsqnqmlafiiqqodnqsusoihqeeetqtdcoaeanassrsrimptdhdfpmsqtprifcusprssaofiaacshnpcsmaqulenauuqpleuhpuaaapiuislapieqsasctoaudpuircdssphnusauudcecplhthpmspledcluapneqiacdlpceeiiunpuupupdqrsciisciscqdctspleeraidstohnarstaiufiaectafqqcipooapanihdqcipiceuahmqaaaegbrccqnfchdqnhchquetnsettneuoiqinsafaicmnisameaefuhutipapcaqatanpdqqsifnpifnhcesiqoaapeinnilccaqadiglisiatcaauaenploeaimuoqiaociscqiiuniopflnughntspmedclniubiseinisianeatsddpimucpiitaedoaoqsorhiunlsaousndsasaepcitsncnaoeeestnadsilelsieucaetiesseivnopucnclpsqiipicfgolnnoefsefsurmccslouiimnnfcdnnmpurachsnpfccqpqsriaieetnqabedscicisccucoiqidnncqihqasdafgdiicppepirsscnaaaeshosaemtiuciteteuapuseaaahtptoseislptthahtuueqiahiqdueraarhssmaaheuiaoiauqsdpssehqrmaimopuadddlsuiieitcpquooeceusaieersieasaetcohqnsinnduaqeadnlaeitrddretaicscsnspiipaaspaspisqamaaseqiusomuiaucpcimusqeuiiantqgpdnessisahstdsaitmsenrapu csonmeecpndcacciauqieqoaaosshnnqueeiscshsnimncuisfimqhdserenearluadannmphicfmnffasnshesifsuhqqppmecahpgteianeiioepqoaehaappgeiqodpoiplqconpsaiapeaisenssiacqhapdisshasncepqcheeeeeoosauuslarnnheistufeiepcnnaaqiaafsnanssipmsaptfimtlduedqupmcnphhnceenpsmheinsuciihnsimucesuemantanstetpndqqtieessitqessnneaiiqrridisqngidithapucientsueqaeitshqeseoaciusuaimiuippsnluiqsqpsnepspeuheepehsfpnqpmuseutoeeihabuicisqcpeccittaqnfpesercmiaipaaulitghshoeinquuueudasipgdrrasuipsosqlaarcaterdeteeaapcihhrisqdenauiengdqcunhqtchthuuisnacquaarqppnqmmeintmaufscltqepdntuecsadlnuamcfficfovapaiumnipsipnincneifrmmnleedpheptpgeniaohqatspqrfaeiroccidrihteclahmqapesaipoptdqtqenencsfruesaisemispnuepeeniednmpcnaetfsscputdhuttnaudcnpdcqsdinadhmpfsoiqananeniaeicadeepiilonteipmhfssnstqinffesahsommilfcsaphseaoieiquamiappaainotsnoidesshcutuaiaecfcipureancstaqsncaqennsiazueaqcdiaquqtaicntaeanamiacialflipnnrqrqmmneaicshteqhqiprsnmaiudqppcienitcaaqeinisandecehmosaeqapficchinsqaqqaiuhhuhmiqchpibsuuipcuqnuanitmadfddmeheipsntneisdmlmcnrlddrpesenoahpneonhpcqpnsmiceesrcsgqatuptdinfncefnplcoelnmtiiitetqmiupipnipiacodnhmacutanusdmsapcmddchnnucosao\n",
      "Длина строки: \n",
      " 8058\n",
      "Список \"акрослов\": \n",
      " ['ecce', 'ipse', 'imus', 'lego', 'sumo', 'sapio', 'amnis', 'sanus', 'unda', 'lego', 'icit', 'pius', 'nenia', 'elego', 'asto', 'arca', 'ango', 'aspis', 'ioca', 'esca', 'anus', 'ater', 'tete', 'lena', 'cius', 'upis', 'aetna', 'coae', 'atto', 'iunio', 'icti', 'salo', 'unio', 'icto', 'mosa', 'mosae', 'itis', 'cimus', 'euan', 'aput', 'lota', 'anus', 'copo', 'heus', 'quic', 'chii', 'nuce', 'iane', 'icci', 'cista', 'semis', 'cote', 'nini', 'leus', 'cipi', 'trauli', 'setas', 'eoos', 'isim', 'seps', 'papo', 'ivno', 'same', 'panus', 'svta', 'iuni', 'ismeni', 'cala', 'aona', 'cene', 'ccci', 'iiis', 'ascla', 'eppi', 'asici', 'dide', 'sepia', 'cepe', 'eppio', 'piti', 'meuia', 'aloe', 'isis', 'anam', 'ciae', 'insu', 'uuis', 'aeaea', 'idri']\n",
      "Длина списка: \n",
      " 89\n"
     ]
    }
   ],
   "source": [
    "first_letters_lucanus = take_first_letters('lucanus.txt')\n",
    "print('Строка из первых букв строк: \\n', first_letters_lucanus)\n",
    "print('Длина строки: \\n', len(first_letters_lucanus))\n",
    "acro_lucanus = acro(first_letters_lucanus, new_lemmas_final)\n",
    "print('Список \"акрослов\": \\n', acro_lucanus)\n",
    "print('Длина списка: \\n', len(acro_lucanus))"
   ]
  },
  {
   "cell_type": "markdown",
   "metadata": {},
   "source": [
    "sapio\n",
    "amnis\n",
    "sanus\n",
    "nenia\n",
    "elego\n",
    "aspis\n",
    "aetna\n",
    "iunio\n",
    "mosae\n",
    "cimus\n",
    "cista\n",
    "semis\n",
    "setas\n",
    "panus\n",
    "ascla\n",
    "asici\n",
    "sepia\n",
    "eppio\n",
    "meuia\n",
    "\n",
    "\n",
    "ismeni\n",
    "trauli\n",
    "\n",
    "\n",
    "19 слов по 5 букв, 2 по 6, остальные по 4."
   ]
  },
  {
   "cell_type": "markdown",
   "metadata": {},
   "source": [
    "#### Лукреций. О природе вещей\n",
    "\n",
    "8) 'lucretius.txt'\n"
   ]
  },
  {
   "cell_type": "code",
   "execution_count": 359,
   "metadata": {},
   "outputs": [
    {
     "name": "stdout",
     "output_type": "stream",
     "text": [
      "Строка из первых букв строк: \n",
      " ﻿aaqcctaspneasietdfoeqnetqmoqepnmarapehcfnptoisninhiqhpeqminepauqqqoiiiraidceesamnqndpshetttqsfearnaineaaedpeeqsuccqnqiuetcmqsninduqqracndmpsssqcrhndpnqqqpqdpenoesainsqqaimaqpvscdtqiqcnsneqpcqhlnpumqdntmsgnsapceqtqshdnendqdanpsuruufoiqeihdcitqcadivhdpiaahhfhcualhqrndnqacpiiascsqvnefmfnvmdgsqqicqqatnnuqntduaviqqasfsssshsippnnnqcnoqndqqroopamcnquphildcqpitqtdpncccenadeqipcelsesnnqaaupsiiccoqteenniqemavsnncstiqhulusqasochcshctseipcqnaccsrspaaanennnnrcdptslahtctnsdtnqinednnicnipnnsccpsseitcdctpqsuscesupdcenccspmncsicmetoeoadnqhpninqnnetespadadedmsnedfuucnqiqnaceshcmqaaunpsqapcnqadidceqnuoidciqqnntciepaiaqhsqnsucpcqdenseqceeidcipnmcqimhcqoivanennnalattidseanocauqisooncpndnsqnsnasivcenpsdrqneuccqqspeqaqiecfomaaeeqiqiaahmfaqgrnncvuhpqesppepcandcncecehmeddqdiafdaqqaefscnnnqncaneqqeaeunaqinncqienqcposaaeiscsaoacnmsacencvqmcctapnqcspoovseaicncqeasnenuinteacpsseofeopsetiepeliraeqcrsccemshdpcqsvmaaidsvqqncipceaiicdschfennpemataiuprdciscculasstvcesvnscnnspcofeeqnnnutpouiqaaqcnqshefepufunnqeacqspepatoeqpnufineuasnnencsunonseotqeueiffqeunddmnccdiplqeiiiaisienuecrsicdsanipqopanpnqhrpiueaeaeqnpndentictdnchhnnp sensspsedecnaoqdncieedgsllnncpnptntiqpqsfsohetqrnavnqoniiqhndncerenmeecpuinsaiescanaaodpecncipqrsppeeihcpcismcccacimceeccqdehcqsmcnspieiispinncpeaqcoancnsqoacuudemtnuantteiencmnhcnnqnnccnsepnesqenrdtpnqsapnninsaitncicpitqinpqciganhpasatqoaheqqconpesddenpelupdnnpncvocoueinvnpdippqcceqemdpeieinncnqceecqnneuniospopcpsnlieoepcfaeietesnqpnsnudepseceqinnnntsanocfanfondupcbapqqcplqnudpqqdsanprcepaaaishiacueahpsodnhamnieanseaohansestfddctciaasutqpdheipeaienneodsapnsnssnecspepeuplaqefqencncnsofqaaseseneipaseecnconnqfmdfoieahqeiifefveunfamsimuvsuciunqcumnsdapuiusscdnnqeeinpnmseneqnqpicnqneaipuanetgumqehsataomeqhhidpgmsvtceticemalfhqltdvcaanapaapqloisnintemhcmcerslbedntdhocdtsuscicdrhnfsdcqmccnassmdphnosimtpqscsncercqvslnidnssiccsnppanpcncipndesvdtqoqinncpnprepcepcmuvdmpcqsnnsquecdadpdaqtponqcapesqlrpqniiccqsepanpsspefcoceeaqdeupfnppmussqnqscsensecqnqcpnnnncmoifnnepnseqsipvinaevneiretqenminsssmqevacdcmvmsnaannclvqeaqnsisqadqcisqpahnnpsnancapqcdedvdnofrviednaqpcsistqcahdpqsemeqiiqeqeenqsdoufepeqciincireucencrqcnsscsiccnnasdnqpqloeqanqsdeidqiqapenvnusmhncsmtmtqeqpcuneqcaeehuqsissqtnqtqqlinqqiqioncsspmpasuatncucdouvohnppdnenmdifqepnnuisqncseoenqivshanspsiqccuicepttepcnaeqtfnqcctsfoannddaqacioranshpteqsqhaefoenieanhiecoeeiaqcnedqinantseuesccecmiiiepuohrnpniiqhndpieasvhvucsmscecnipeemlnepsaddncssecqanstqniscihlcpicelclpvcsccdsephccaqncpcsoasiecicpphnqoaapmnqaehccncaneaanmcquhqcqinavesqeiqsanpneqssntmnrainnsqaqnspiacosnpudsmncasimpsqeosmvsnnaqmcscpceaunaeceqepsiqpnaeqanfniscnnqitinqnpiupuhinnqhseiincsmpnnqsdsemmducqasvqsapmdsdsflqopicidcanqtdqcincnonvqnscuqseceentseaqtvspuideiaoihnecdtamqpcpapqqenndecocqcaacpcncicpccoenqchssqqsiauicqqnmeedaccneccascqacdintveaeqdcdiitphicceciaacaaincemuradeiiistqiaacqdqelmnaqdefaesssesfdinscsdsnpnlsapcsqqtdaddqeacfpadeqqsiemqaecouqinsninvudnsdgsssamufpeqnppsaehevsvdeasfsudmecninicesdqssovivopuecipcc nnonqipithcscqencqnomenioqptqdudscdpqeqeschpsuueeqvccquvaadsceschnccdsaeesvqcecadiiqtqdsissnscmtqcvqaeodeeiisupdnncssqiptqdstqcqcdaqipandcapqaqsqpqqaappampaanqeaohiosdsanedncnpapieqnpmshniddiaisndmppasccnnsvcinshnqsntiafuiopnpuiiqdtqainitchpeitqancnnelcmsmcfdmqlneccasvrnnqscoaqnganaosieqnaicsnmqnsvrthtnqapntsmnnpqqonnsqasqinahsvdaqcnhqqctqsecvqpnpahhlqioisaelsoaasdasiqrtmqesneaspethqceeqcaoaahepqntaadqcnpnscepqntqpmnlm ataiuprdcincculasstvcesvnsqsqnaqaeqnaqcqdatcqeencidmipcreceneiqanqpmqepnnveepnsiemoemrsqnpcesoacipqqenqsecrntnpsqncpthqqunpehqqmsqscqucaoiminenpsqtasadnsqerpteuelstmqrptuluiqqnerispcpcipqnseqiteqdmepeappqcqmthqqpsiaqcpfandccufnpcpiccncaecnuvpreenaiepretsqicsvapscvptndnpqimipipasdaeqcpaedqianipnscasfnfqniopueiqadaicfippcoasspaepsmlasmqepaiqamqaaqqpcopqpaspachfnsueainanlopcsppenniuahnpqqeqscqcsieciaudnicqcvviaiqaqdancdfsveepslptdisqnannrqoertllapobbedstnccmeucqnppnadahqequneinnsqddqatandeeesnnnapecvrqefncpiiodneopipsfnspicepaqishcndpapemapnceechemfhppsaaeeiupoidoapprqtspqsuvhfqactepufcnsahqphcnipqpedseoausevehppmsidhsuaqdcnndanehtuedpaipspuepsioeemnpehicaanqapcfnquintuevdmvudrspchesqqepensodpnqirneninuqaninsppcaelnqpmtoqqctccqoppennvhpcquqthqancspnnmhurhcnpniqbnqisttcmcqvaescoclqcmesnactppthiecpiunpcnestcpdafeiaqielppsbeuconpnnssqahaeaeqsmehcinqquiqqmemmhspepupcdusancecdairieipeippspeccntcqteamcnispctnvtpvednsteaqiupspepatpaivqpcfccepcieedbsdheqcfaeeaaicinnscieacrqpaceasuenqieavimuecdadimuepetasaepmrtmemmimuevfapstctscnqufssneqpicieiineesssuenhhsnisaeneuisvansnqfnqcoeqsbnrqutnqhentunsisnnpdaaaonnnumtpicnuaallusaaeiepnsadaqaqaipiqnneeeeanemeaunncpmbaipascscnneqafuquespnoqnpepnqengnesnnvidqqqqeftuecsoefppmqimqfemsaesnaaqcunnetlcmaanasepseunuscanaeiqcpnncaevinecndnmuqnvnu qcqppnndqnficnvcuaqedhlqitdhqetaaapqcsnnpqaaqsqehehciacpfnqnnscqunefleqcepfpenlmnnsqqreqqqqpqtusnaeunnpsfoqesqspmrtcppqpiqinqqpsnncssqiptqdstpahqietsqttqdqdpaangsncdguqinctqqadniqnenqqqsnepoqudqqhcnnpipeiaqsvistsecaafphcatnvnvcanandqtpaeodqchecspimeapspqpiproeqsnutpdppmcqaisacohrlisnqqcetuenpqlfcsiueseeidnnnpdqnnfeodcotndptcnqavnqnmdnnqsaaptentcniapandcapqaqsqpannecandahnsqheidpnpoqtondeqtmceiaaamdodisqieiauuiecsfsnonsepoqpotmthannsdcmoicpqnhesqpiqtlosqpinameiocsceohiqqnevqmhmsievitaecdsanscciceanctinsumpediqaueisqpsvqfndiimeqpteceppuncapusascptqpnenspdqipcnenanfppfnplsqqnaqqpqpseqdpaitqcqnleucnpeaouqafpcanqbclanndqteipiectfihpmfaqbeaeqandqaaaicavtaaaacqqdinesmoantefnnacceaipeednndpaouoasnpcatqpliadaidlucevclnvdvdailuapadoiadoipfcipiiatrqgcspnlotcstcqelmtcqecdmqqsnqeconatptfacuqssmnnltmiqepofltmhcqiceccitpanoqthoasdmenonpsmqmcaomvnncnnnmupsfmmnnaemcptaelonsqasupsidseehipfupmtoncaciqcncqbftvqpoqtnmafatentniphnsfedefnnmvnqnaqsgpapmpaucdnluenpsevnmqsecvvecmmsncnqsdaannnsiesahndupevappdeauansnsitmiviectinebtfevinsanamnpcsciauvafprdvtpiuqcnnqnvpspcdcqimleaaslepdipeepafleercpemqdifpmfeaeemqisvicicpepnpqdqqdaauenceiipuqpaqrnepesnriiinesauhicanqepqaenpsquqtnqeehmmasenfqeepenetiplnneocqvnvnassntetinsteeeapipcfcncnpsicnvncuopdcqaiqeimshspsnqqhamcapteatqemumenqnnnpnsqpilnsaeepeqameoiveeeeqeeiasshiteecqnttnpiuedmiecetipnincsevndudsqqsnqeiqntnieqeauaaaiatueitcicpccpuoaaaceaitapsihcspnpttctfaduoedeuemqnsppsspquedteqftpdesnfieaspeietactpnnapcupsina pdeecocdnoedanapioqpupoveeqqqqseevniiqhndqeeepqtcctvqcmedicqpnsqqreqqqqqddspscnnisiqrmvsqnuviqpppanvtpetnundcdieiavffdadhomcntcptnseunspfpnhasdfffiusaultntdgvcfepesftiaadqehnvfmpgedsiqsenqcnaiitsccnnqsmdhdsifqchcsfndstqfsipehcctcecdcamqetnfdeecefnnnquluicpusfiistomnfshsqschfsienmiipoqoimtqoatmeiqvhfidgapnfcffnceunssoneqamencieuaninhdomuodmeneofcimmcdccqdacefditnquiptdevhpnfahhpniuviqqtecnpevtcaiodiadiapcsccemuaufpdedamqpinifenhripcqvvdqiefvehtsopnhaehieufqapaphevnrpcsqpnpsqssuefciecihtcueenndmoeuscucctmcdcupamcsnacaithatceoeepocnpssimvuhtsqcetnffguudpcoitaipeecqrnesqehsevaisvediidmmsqedfcattnipiesnifpnoaoagqpqeapultuuspuecpedipmcqneefffcqheueqnqanaaoseqneuseupiiesasqamcnnfeeovhsetfdenprepeasinsncccnivsnuiaaecnfiieefcqeftnsccfctnepierpiaioevqcupsiqimoeicdndqppimierptminadaausefsmqnnccetmsdpqcqatngdtqqqnqqhesmuqiuqrqpipfadccehsndfafqffeeefhsnqqncqppiqrmheheqierifpupdmfstcnsienpvqqeuqsecasnnqmehqnqmhsqoueuhieqppcpfandccufnpcncqnqnpsmcdcfsadpidmeiqhcapaediauabeqduqasihamdeqqncsmpaanasmpqoqcpsihiianiqqciqihccqshhqfcassphptdaohsvsifieeiuapppicfainpapliainuqsguqvmpcnndacnnsquheiqnmmeeemeaapdintanequqqtlegafppcuqfchaaaeicpnnadqhfvnaiipessadimosraliascdncsecifnvimmiiancqlmptscstsianctdnoaqupachpeieveiuacmcaanceeseinnvhiaidfqelinvpdqabopelcecmnccocmcimlhcuocchnpnqpqmnisricinn\n",
      "Длина строки: \n",
      " 7413\n",
      "Список \"акрослов\": \n",
      " ['voco', 'tuus', 'vivo', 'meto', 'penso', 'ante', 'omen', 'nomen', 'vita', 'cena', 'dens', 'unus', 'insum', 'quin', 'sano', 'sepse', 'mina', 'atti', 'adimo', 'caio', 'esca', 'pina', 'enni', 'menon', 'iani', 'meto', 'nemea', 'qvae', 'unio', 'vnus', 'elin', 'memmi', 'indu', 'euan', 'arna', 'dine', 'meio', 'teat', 'nete', 'nini', 'cipi', 'vedii', 'acte', 'cupa', 'lira', 'pado', 'seps', 'cere', 'nvnc', 'casv', 'thoas', 'svis', 'euhie', 'cene', 'iiis', 'tuei', 'anam', 'insu', 'sacen', 'ilua', 'pliada', 'peli']\n",
      "Длина списка: \n",
      " 62\n"
     ]
    }
   ],
   "source": [
    "first_letters_lucretius = take_first_letters('lucretius.txt')\n",
    "print('Строка из первых букв строк: \\n', first_letters_lucretius)\n",
    "print('Длина строки: \\n', len(first_letters_lucretius))\n",
    "acro_lucretius = acro(first_letters_lucretius, new_lemmas_final)\n",
    "print('Список \"акрослов\": \\n', acro_lucretius)\n",
    "print('Длина списка: \\n', len(acro_lucretius))"
   ]
  },
  {
   "cell_type": "markdown",
   "metadata": {},
   "source": [
    "penso\n",
    "nomen\n",
    "insum\n",
    "sepse\n",
    "adimo\n",
    "menon\n",
    "nemea\n",
    "memmi\n",
    "vedii\n",
    "thoas\n",
    "euhie\n",
    "sacen\n",
    "\n",
    "\n",
    "pliada\n",
    "\n",
    "12 слов по 5 букв, одно - 6\n"
   ]
  },
  {
   "cell_type": "markdown",
   "metadata": {},
   "source": [
    "#### Манилий. Астрономика\n",
    "\n",
    "9) 'manilius.txt'\n"
   ]
  },
  {
   "cell_type": "code",
   "execution_count": 360,
   "metadata": {},
   "outputs": [
    {
     "name": "stdout",
     "output_type": "stream",
     "text": [
      "Строка из первых букв строк: \n",
      " ﻿cscachhqcdiehasqsqcbacmvqmcqi etpnmnserpqqqtdonihsslniqppfpedefnietsstinttinaseaseiteeftsncsionqnnhacpeeqviaqoshcaumeeipqnesdfspecsqcsmaaeufsqasqscisfpatauaiucpqeaeeituieqnplnhnsqnnscilenansonpmqchcteanuhisaqhcssiicdsqetqnspusqdshevaehaesiehienphmavcmasnoqsaoeuarsqaaimtppqaonialsaipnnsqqunhissmsqaqmnnvhdnhpmhqfpnacqaalcccesofhtesderespictnhsadtoqfeedceiaenasthqqhnclhipiaqqiaicdenncalcinseapnhsqnnshmeqbsmifcttiessecpiaiqqcmeadnssqoiqetefaaahaoquqnsauchthstodnoqsclrcpcspnencnnqnlqaqauseasiqesaeccsqiahiotiqqstisloneaqninannansnsnhiapfoqsqsmiofcontpesasbhqbebnestnrfppcsaitatsetipcvcqpuidqvbuchedsdehiqfidsisttqasecptecelapapqpeoittppthaihcdehsvccqairneacqqrphnoshsqdfheahiaseehblsrnmsieiqaetiatseiciescotpnsncaqiuaqccuscdinsaqcacpsaiaiaecifpdeldmieqtceennmpidaceachaatniharpaqpcadprttneeeescfmcilspaeaemiqcqaiqnsiqsparsuneamepisqeaitadlnfdneiqqpmhlepceasqeeaiinaaqfisisssiaesssnseaaclpqeancmeatfaaqeecialonscssavoipndafarcasaascmeheiiuodoauheiteasqmqaopasipsoeeelcaqtqinreifqiiooeniuqinniniitepoqmanennnnnpunmdhdqsgncsamnsaetaadcnacvqceidmimqmmqeqsaacnceqqesinreqahfslnsevniieahecdcahnisnpaaehdpasaauihdqniibquesniaqpmmeqbchuqecsnanqnnoestnetaociqelsfqncaplpsaunnfssniecennuauvtltqsiqfssdseoitabqhnecaciieiqlavcpsqdhpqhccsstqsdauffqananetihsqsittcdhqtesbestennqqahieqchiqccddnqisqaieadminssasesaufttqvesvesqmfseigismdsvstapesevnqpslpsehsnemraetfhhasnaifstpaqthneccplfisvvaeahcaaeasiestssvlciaqciaiieiaqaaiicdhusqcatfveiaiciaaceallinacdcmaastdhhahiqalnsqiqqhicaiunnislqatnqqnaseleipehieqlhecmaqsaeqhdhaitpeqpcifptcuiaeosaqvniiqeieiessceuasqlspqenivcpcavnqiqnvtqumsecsahcasncpneqdhqccneqivlnqeesnhsssaiaqnqsclqhsushqphaniqoppednriddoaueqeiidefsdnniscusdsnpdhqcsiqphididohmddpqdidciuvnuseupthtpsqevsepqpsnacdfppaarqtnsmtaecduqautqriishfnqcpdsepeqsqahrfepsefqatquhnhfqquuopconipqaqdsqdpatalopesvfenqiepiupnspahcecciapsaiqacnihiamcndqcqhbvnscacddsperfhgaicsaepvhnuafapiefdnrieahpaninuptnehsnpqctaiuerhnecoqindcnfnhceteensmgneiinqqidfamcatslchaioehpnqespceuoamuseefqqqdehuunqhcdaochneenaunsacohiucstheufcfqqupqathcfoeifpiacqeaqeiiacsssncgnohifapqqnnqaurvpsafsahsqoicenainpsniesfqqcceicctqpaichtasqihaasvcsqthofqeqfcmfscueaqoanqeuddasaauvqlsnsiuoaavcsqcsqnnirqhitaiftdbdeinicdabhaqnpnsnndcooehthicomloqehindpisumncoqaionsounlsqoceaaqpqiedatesaqntsolpcuetvpteeppqamsqapsticshdndsaiepvdpredaschpeeqpnastapqdmevaiuthqtvsisqihpedhsiqdosqsreqdttpadelaheqictnipcfpqqptdehacbdiacelidurrcnqhdrephtstliqnamqthqedftqhctdpesnufnssnqeppapltasaopuievuanchtptqsspoeiedhhmduasalsinmqeaieqqarqrbfvtbensctaqplnntecsmcnsqescbsicqhqtqthqpqdaavvqaiispdqtticeditcetnihspptitnspenitceatetivvhltetpmaqsnsauduccuqfohsqqtapvpncmlestflnhpenfaafnariicvsptnrqaseapeqaehqpecceqicividqicnrcqseaescddieeaemniqtmensiqqenssmafcpqadcnvnqgqsqonhqctnedencivnnnqvashestpsciminstlmmpeiaoicnicqaiamectaeidiqqiahpesseliaaaaqiaqhqeimonlpmeqihnepnqdesqrienpnnasteanaeqecaqiqeevhisdmqqcafqnhmpiccileemqstqmpnuhcqisaefieiqlanafehbscecqaceisenvmqcnnnastdceslsncbtqcaqalchpcvqsnlhnvsaealensprfihsilpqehidndaivettqqecsdnnnmcimmrcqfepnaaounaeqilvqihnpsveqveecsaeleesumqahstpdiisenoproalsquetpbqtpsuecnnpseteteueapeetqqseuoscocanceqpdtectueahassqnpanenetumssocopafsapadspnciaqdlmsointcieiarssfiiiussumaotnpcasihaumdqhngvcnascainfnpqnteaaheiciaalrltiuheeieierthteqihimqfidlhamstaaahtlaloinfienipcaiaqndleqifohcheeieadiapiatamahqfpiemasptiegiihqaeiaecnbtlecsidfmfgamgpgeapplipeoaeaennacdequpllcaveieviteesuahictvetciaqqdtholqeiecescpiaispotehtaasaepcempbnsenunqslssupnnspmecrpcsenhdnafaiascocnhieidnscnsneaibtqssanssscmncqeqpmiseepqiepaiuahssdseaeiomeuiheiesicchaaqaivuqinqnqespqspmqnimhqqnaspmscshefeheaihavaqdcqqe ncmnasqirmfcptsspvpaohedsmqesaiilmsphqiqsspaevvaovfsnqpanqhpeasmhicshcihqfamcpdiienphslnssrpiehuqoeoflhshustspipeisafpafsnasiisvtiiniemipueionctrcaevvqqrmcasdshealvasvverleiceeqdsecaaifhneitacmabnaencpuciiedrtaqphgnaptipcenicplvcaecieumevasasufqndaeqsdaaefsschncscepcqthmhmqeisaetaepsenpndncimnfqeehgeimqcsscqainiqadpqsasaiehehafrrtpatpqiameapaqpuqavinnpaqqhacnaoaiqlpevcpqincvtaicqqihepceannesncedneanpicnenpiacanmqmeamasnfpsceqtqcngredqhamfecaeqdqeeneaioapnrffbiancipeieeiriaaavmhaghenhcpeqqaqniiipppaeaatabhpiepahpivamaessmdvtfeaaeeiatfidvvfedacpacisdhtaiqscaqpgieesipnmessistpetpmsdhmgqncppocaspvipsavohahmnnvqnnedhgeiiceplphsrecineitaciheipcaseiueqecacacciqvaanaennoieniitiqihctfiedltemqrscmsetcsfsqaupovsqssmcit\n",
      "Длина строки: \n",
      " 4279\n",
      "Список \"акрослов\": \n",
      " ['ecce', 'messis', 'lana', 'cena', 'pars', 'saeta', 'mens', 'neco', 'anci', 'arca', 'tete', 'lena', 'arii', 'opas', 'vnus', 'predas', 'icci', 'nini', 'elei', 'cipe', 'aoni', 'pida', 'cuia', 'eoae', 'sper', 'copa', 'qvas', 'eqvi', 'qvia', 'ictv', 'sves', 'senvm', 'vvae', 'svlci', 'aonia', 'isis', 'siccha', 'osco', 'ates']\n",
      "Длина списка: \n",
      " 39\n"
     ]
    }
   ],
   "source": [
    "first_letters_manilius = take_first_letters('manilius.txt')\n",
    "print('Строка из первых букв строк: \\n', first_letters_manilius)\n",
    "print('Длина строки: \\n', len(first_letters_manilius))\n",
    "acro_manilius = acro(first_letters_manilius, new_lemmas_final)\n",
    "print('Список \"акрослов\": \\n', acro_manilius)\n",
    "print('Длина списка: \\n', len(acro_manilius))"
   ]
  },
  {
   "cell_type": "markdown",
   "metadata": {},
   "source": [
    "messis\n",
    "\n",
    "siccha \n",
    "\n",
    "predas - - 3 слова по 6 букв\n",
    "\n",
    "saeta\n",
    "\n",
    "senvm\n",
    "\n",
    "svlci\n",
    "\n",
    "aonia - 4 слова из 5 букв\n",
    "\n",
    "остальные из 4х букв"
   ]
  },
  {
   "cell_type": "markdown",
   "metadata": {},
   "source": [
    "#### Овидий. Метаморфозы\n",
    "\n",
    "10) 'ovidius_met.txt'\n"
   ]
  },
  {
   "cell_type": "code",
   "execution_count": 362,
   "metadata": {},
   "outputs": [
    {
     "name": "stdout",
     "output_type": "stream",
     "text": [
      "Строка из первых букв строк: \n",
      " ﻿icaaauqnnnnnpmuslofmhneqdiepdeuscpptiafqilifupscqntipiiehacqepvphnhavcsnactsdnisaqfpoisiaspainmnnnnmiscacevmmnffpsaipetctesotsnpoiivnfccnpqeipsvnilfvunaatfopieiceqificelhrapchhectctntincnpicesfqqacsctsahnqmsiiqcqelemeaiscmancnoamqitecvifciodiqdaeofttrdisceqatpppeetbfufncsvnccinsfieiiectsiuiooeinfaenmninucqiopmistpmnhccfnvieeinenmeciitbltcoeifsporedoqdtnhcqnfntoansdnnuivapupavdameoopdlivimamocsddespmmcfnqeqqimeiecspivcsnapintaqccreseritthampniphvntpfdvqdqqstiftcdiedqqhlpsevminssipidviepquuvsusesebsinnshmcaccnhqeieccidenpftoeapiuvasamsqoivvfqvmipohscocattvpautfaesednihaucnpamiiflaevfnadqpnsnccoieseadqaccibqqidqnhsvpddciccalcfpiitcpvicnqedinolcmcmnldpasdnsateaonfppshdehdvqahsdviepftinnervfcsptedvupcdeahaitsslnqdaeecphpcuqpqeccfphufccudoemnhctsnnceeqieaedptambpnhssnusedasrccamatcpadppntfhsqvpcliasvsseisqpipnpcddadqmdvipcvndmmspnnmqnaeufutnasnifofceuphssnqiianspeeidepdnqnqfpedacpcdppalqciiaqtcipspsnszehunainniqdupceddqosgisfqrcopssupssqqinteqfitquipseiipfqaepqnsvesphvmqeihiepiacfpmpciaevapednoatafoefqnsatadantpeaqmataqefnopfhcdleqeitcedteaiqsooqssivpihorqhsqaqafavsisduraqiuustimecciasavfeqenchqncipaieeripnmnnlipmdctaidpaqhnesppiideaqmniecdppfcsqsiedosaqsiotntnsecpsaccrpcfadhnnvemguceaeihapaisaenqiiaiqiutemaesshvisemocniuhnpuqaicsdciqsunhqdsbcoonppmaqiaaavsupeadnieinvasiifosqsmnvueooesvdccagspditqcnanclqpndsdacaiqipcveaqpaiareaamqnndfpvtvlivabrppscseqcanncctsncleeatiiceshcpsosocnqvtoeltuensesisleffoeeiaccfpeqtopsterpapnciiittimsetpeciefdititadipnsrdnhqhnetemriiamrmiihmdivpinudfssiqltionfevnqpcuvptaqmepvnehavppveuadleeptatihcfcviscuipnprnssstisfimivqeapivsitidngcccalfqqssdevhscsfislussvnvonhclsfpqshadllnmiiimqcccfnpqsmgoenpvincfifriiscieofvcbnhmvinsaibaapcfseseeumitqiucecitadsnsohfqvpeuvtaasimldaqcivivtcstoicifcscvicslcduoppdvusipepvpsiptmesscttneachvemisqifhciectheapcaanmiecplfcpdsivncaiefmhvqaaviceedeppqspiciqniqifqpansddccaeuminqadicipnehdpeeepeehelqpqihavpptaciececaieanvnudnirvvsegicepirseccfdfaslqsmieainnsidtfcqnlotdoinanaqnnestinieifeodtfscqiqncdevdnfadniafsiipcivintfvrnamsnavncgrfsidhprievqnaoenefdhvrmphreiiarspseacvioslisdfqcngshpddsahseiocsdiibqacqintnaspaeseqenqnenhpqqesccmeviuqqovilnhnderqdadnpnpdqnislennqidchuhviltinpinicascvoqonqqmfemtdltvqaaenfovhnoneisiiesmenaqspqaanpiahcaeslaseqhcsafomeipnlpdaadpmaftvfadncaipauvivnecqhdohhvhnpideirhibsqhpenipsdqppomienetsepqsirpeqhivisipqpescivnaiiabcqueicdrccapipcpcisspvcuspmmphppmiitiisaiantacacniqttaapiipsivttiaenentcvdpsccqsqfcpiiaaednupndicdsaenvduhtpaccntsecqfciqemsiiqanqtsopsamfcncaappcepacdqvdudospprenineostuaqnunseavpeiqusdmpqspevmppnapqvphpchhoucanssdivnqddhcphifeeresueuailitsheilfnulqtsdtnodnqctgeqrsaamdnvblerepiomeiiavisvitvcddntnpissnmpdvtailtnsprnomlefvdpppqvdcnatcepusdmnccidificunpcnfsssennssenmscnqetesessshsnnhacpodshtdshsnmtsnoviidisvvpsedisauucpdsnnvcucsnnesmheqsmffutotripppiqstlffddpnsscetntnnuasnveeniiqapedsdpqimuseeppstqiencdqsvidavmaqvsprsqsistmafdlrniieelastoncpsipiiuaoeeocdptcsrpchudbmdseterifsosmaspmiessaqilssnduinsnihapishdqpanavcncifncvqiddnipbeadaiissnccemdieqlednqsmisaanpmtpvacgquinfdtsiceehirameaehtshstaimahqvcvvaiqiqocccalpegaiaqvmmepuspeaclsnqiiicmnpcthqgapduapesstfcauuposstivaviqndboncsntliaciiamsvvpapsndvdlaapipstaacpdqqfanecpisdgpisadepaqeaeghamiphdngnpvdaaqiavpfeniqmrqsseqeseipenfniacquepifqcttcehbdecaiaeiftsphaepdanidvvaiceeescaateiieicisnieiqqisteheqphdaehipatsiqpmcfnropdcchssedlhlsbdtucdmnfomatapoahcspscppatsctensmcsnflnpbvadsqtmppdaeaamaioigeiihmgqedmndgpsapccvstccnhtrepqiudatdssviaasttnnedapohsdqvcfdicehvfqsafmoivesvvdctnmnisadfiviqsetmvsuaimappliphdftvfvcttftbpectchedndfphpnnpmscapppicvtandldesoiniheapdmaiictvtiespasaisunoihncsffpldipueccthreepseieqhigannpedotcceaimeeopcntpdlioicfprsfcfpddcocccicmfnqdsvodsipqsenitrfrfffessttraentnpshhmatephevissmapeapsnvessdfinavtenslodnspspaievifiiivfihcpaiqppovntvaincvnlneqcffpulsqnqclaipccsapmnmntqqsresuuumcsnpssascfafmmabeqsaonlocqriavdaghceatsivrqetndfbialmfaccsairciaaodanrpctnmqacpoaqohddntssvssqcpatqcicsavtmescpctpmsopepinhetiqpubitqiituiecpbaisaeadpemuqqctnnapepciliqiacimeieaffaiaamtvgesmorugluunnpeutngaldpsdficslratncmnsudnpvecotteveccqcncpeimsmiideqnlenehifshmmehnlipqiteeaantadaddcpadpctepqetipfncfchivpttepsimlaaiiqeaamdaeeubdpnvftmhnfhqeicoappcecqdqiaeiacohisutddedisicnnfiltfmuenrmpiiieardniniooiehiifsufvvaprqnnqasehahpqhnnthdsvaeensilqvitslsrqaacndpeieelfcqimtvmfdccmqdpfoaeomeqecobtfqecneeihhtqquiqcuvpgicuiccednsnqadeiinsaeaiafuapncqbpsooaeviiiprpaaqilphedpeqtsmeuiasvuavebndnipiaeivsiouhmliocnotqecssqpiiatnqavsilaiuphsscdedicesqsoispiupegevdctsnnrvvctbegiauhnoasdtincspaaaasqaaetuammissiaqcdnluteenvvdphefivtdiiaspmptveefncpaeivpnhtsiqfepddaqesaaviinueisshnheapvodnqiecnbimcevpippvmcdlcevnansnessmduhovqeoachhtcctdsauvsonueeptseenfmmnhqaeqdnsnpaciadciqeceupcsueislouhpqdsipecepccaeaaacpgotpfdspsdmavseupnseqqidiupnaiatcvtosqcpqdhvqshmvhgtviccesdndnepnqanateaenfisistisnataqadqisnvveetapvivcvniencqpsdeoppmmnccnencececdhhsctavunqaiehedbmttifisaeaeiasvohpaoefiaivqepacpamavlpnpcecdasaiismmdpacfmmcenloetdsiieqiasuisoeheucistqapaqnpohcdafioqeegpqitqmiqitvpidfadaoiidccretccsfsuhptieniqhaieerociehfqaiscseaacmcnieimqmcvcoqatctqisfpcrnsgbcaaqhphfmsmnaecooateqiaadaphnctdqcsaqaaieiampcaisanndrgiucoqafhooedidceppdllcmesicilsadancocmnappviaonncneqisiufniitpcqesalmhquqvptiipniachiceeepaapmcfaidqnnaidnaiasfshgrdtiahrsnoefgcaepsimiesevavpmcnqhcetiefaacenpcafpsqifuvemcntcqqchffpposdhnacvlipqnpspmpncencscqsipicvutctecpqrscmvmeviiomtpemhrddcdmacsipsprviscepmevsihnctqvieinadlrasehpgitcmnnusvnitdeaaamufbdtsvnecpcutdqesidpeaenfspecseimvnvhppnndeldisfamitnaaipaicseiridsetsianpsiftliscptvmqivtcvclismosqocfvnpvieaceinvdcdvcideapeeaiptnppicppssppsmtdocqdhisnciqoqentipqfthnandeqnmsmioqdpvipmunipccqeiispcvsccmdmdpdnloeiiaqctuipvlasidcqdecoodnauftausocmiiiiiuiamtienaqhehavcpdcdamtroeaiidchgeufnpbitppvadpqrsinnpaidmptcmsthhssoppcaptqimnsefsfineesbsndeltaeeelhancinhepaorcettvhohidsiqvscalvhfsstiocvpnlpdqsaieucifcahvftaddieaavhvnppdifcnqeeectedoiitaioscvipcpfdqomviahnsvsgvimeiadptiieptdandfptuhcdcqialststoeeispitcessevciqvtiieicuapeuipatvoaediesvhsmeoinbreanmdifasiuiqmgcflipavppfnenitidopanqenacifcicfmcpmctlacpssidhpqapiiaiqaqqnmiitaciciuihqperaddeamsfeoasnqcimhnivmmpsicentesmcisnmdqtsseicivsvaptspcioosppndhpecaisaceuqiecdieaintmcdivsctddiepabvdanbimooihnscdtmtfsunnasifnisidsussscqsnarensdcecchqcodatdrnqvpicaomacmipnftetfesvnaedcquhldovpaohaqvediasnsafilmoepupnpiqpunuiesaciatffheevqeihascqldisqgqamceasnpvmicqcnacfqcctctmndmcadiecncnstonimetsvdccbiiieamhodicencentreipsqvbiepieqcrcdpvdqhcqadipsfiacndnsduialdeoehcaapnvuvinohptmnqnqicfvdschvrtqeeidlhvvdgacidfqdceqffipmiiditvihdvinqaaitncatcpchimebafvvptpnacqpvhhssniaehcsssmeattpdcmiuiaseingqaairfscshiisfqioqenofonsaiadfsacdimhmulspcqqsseacciiicpqnhttpudsfliquapsdnvvvufonsbeaednrtasaqoditrfimoveelviidhicpndslcnihntufaausnceeeoancivsnvqhelcesecqaeedpcecdcdearpohvdnbhsvnavdctaaiphoemciptctsqfqcvmnpcpdcettrphsamhfcbbbninqmpcesiibsascsimqieedstpgcunoqqopnanqsdsoseaamefauqnsfeiclhiveedieiqdsvqhepaeeleoiqspepcteseifcqcnadeeqentcpqdedcotapvdenidemleitappdnaoqienssedvpieaoffnthnavunnqneavpdeuqdcemitddisduibbciqpdcbstpmbnspuussvnfiippinivqueeidtsscvciacesqsptspnteilcueirviqicstcidpahvcqihvccpnnusfvmfssphiqaqcqeshannendqaqlnpspaqnvmicdiqftcsqcavecnmqpvpfnadpccxiatanfuedoqdappusisvttcvpvafvpeosthhiqntecnbteseihnecanhfbniqsanqcqqoipopscestffsiiiacaudunneeeapevpoaegeanqniicpbvaidqsgatnmacfchfvdahiiehsiltcuecacdsndiraqdnaittqvttidsiniincsqmrpptdiqennulmnsilptiqcarstftatedfpnifndaaaafaialhidpevidfgsecuiqvfvisnveapscoeeemelhdaccamfvctcsdsvfuiatscfdrctvosaccieidadvsggqctdimsehtaeiedhshcfqsfciiimfsinneiduouettnqnpcvmdqniavfmontdnsceesqshnmdcdmpsisvtmeiuuanmssiqsmpmpiasshopqhtetmepsthovmacvdfippirennepuvlstfalnetfincipeqpcaiavfdpspcpepmippcvaensmmnvtposiipnsqfenaqetnndcaarnlctalenniinilvclpahipfhaarvtpipnsnsfiidsodeisfvilsnntvcvpmivseduqoqqeiiaeqamatpitcdedncqmfnenhtaapcnsqqqudcncvaoinsaaavnudqiciadmetshfhahsepeavhpgosamfodpicecriiatinpdfncetftiolsrlhsapcepipdhqeicfefpstavcafedrqisaafpinisfqpnectepoeevqaaaabcctonaimiencpchpfndaasqdtisasttftinmefmiehotacucihnenapqqtucpseldaerrencptharaoqhpelrhmicallpvitcmahaiuvoetmslmfaecuadsmrnvpcssrfnaipprntspeaimlcinbctivisappiouhsiciitsvdnevioccpoualdailccmaspniiappvpbnhcncncaeqiiiebplnmeafiovqasnttiedatinsdaphnvisteefeoealodqvqhcvqmstnanqqepftvanqcciqnmfivsnvvpuancqncqeeosinilcqcqauicsqpevcfovesqdaecpiatplpntsneiqibofqacvpdusdadsdiripdmeapnnaacoicofacdmoinfsiacaictoptsqviianaeenqccnoeqpqcmnqtssnmnhlpahpaqhaoaoaucpldhvusapoccapcfachnspehabistqufpecsiednssncupsiireiivacdfdfcsisvnqppqadqnfbphangrvfoffunspmgftfiaiodneflinadfioapuohasivesditemqpenesnhmriaininapqhssqssvseqspfshaiiveaemeavfhnpqrnpmedippilcbthainonaoiaisiacvipeveqippsncnauvapieheaminneslsesoppmmdhdpneeqeqfhacoasffipsdoudfstsatfpitahspqaroiltqfqafosrnpaivcaiedcespandsmtioesppflanvidpamniahusinqcottaifpbnaserfvoseeamocuifiantnnqeiammehcivsiefahtpsnslmtachecqmhsnunimfamtendmtetsehcpnhqnmevfhedmlqeausiiqvvtdechtcaaaqvtveeachadefpcesdcnlsmicapiqihcccccifqdoqqctmppasactpmtsadausemtovsavmednahfecpcneapreafsepnsitifassvccvmrphlerineahscvpfcidmsndqfepeptcaticssetiogcstrvepppctieqirfdqmeqanaeptnqislfqicifmivgelpppvfedddiumooaiocrrshtfhtaqspnaaqahvafqiiieedpaeapchqeoahsptcnsbegpedcpcmashceuibfnapaiavccpiauaiavpctfpmlmasiegstthaqafvsinaoaqavpqmvqcavetcqqibeqnnaclhqopfuntevettifmvqqinessvmdfeaoafcdtiaetavqhmaomconqhppaantciiishisdibbvmsnhvfvhtapnddicpnhnuhasaimeitoieimhcvdsnadprtsvdccqhvatinainahpibnnplaaicsuliaaqtqnineqpasiqanmlarainsfsiaaumsnonoanheqsqehhvdimvqpceaqhevpscaescpossrpanhqshehsefeinsqqacplsdqriisppncdqcetaimdaifuasosntqflqhnpqinveinieasnpdasaeqnnepipdiamvnpiepqmepuhiauaefidaihdhsmdomvpqaeavplupcuqqhcmaerinqcnqcncqtfcnateatfdameasaipoehiaicaqdcaeeqpiapasqacdortasnsqmtpthesesaaiopdpqanssmphcinaoastcnecutpfqnemasqasddmuttqqqhnfvipveqgipdonsqeienmqcuttenrtpaphiapppssehmrhsiehsndqnepqlivevqitpeliecnddimpsicttuipdihiebrccaureeldhetqionpdrfdqauiuncshmmnvivqlvnrsdnpiptctptrneeqqhocpnnetateanniaesitnpmcpmiqqvffaacncoinhqadadaftedtinvquussnvcvcitopfaieinctcmlntiisenccmvvtassdonddstpnmpodsicieadaeiitttbeicpmselnnsfdafelihrultcrmtfbhcmqpaadfmithnnaieemvdnhiibmfpscticqlachmhuhaessnehipftnnhsnddidfuspenpaivciprbipsemahssiivfhaictteaeneqennamnpshnapehiquiiiecctttfrasdpchlcasssatcfslsmlmesdlhlasenvaisanssimpvnahmnpnusslsnmpiiviiicnainpnctpbuisahsqnasaiqsvpucptsscmutdatedimaafptfpvomiqavddsaagengevpalcicusnsiadnnsaqnnnfcuiargedtonqpvcantduoepnthhqahcicqqtspianllnaihsqdtqqnlsbaounfatstodenecurtgsinqpccaorispgeshistscaeoecsifvsimntheaensirasqsssicqcidmctmvphmalioemdpemifmpvmqicdsnmqptrnhlsdmootehsitqattlanvuvtstlhndnvsptifahseqrivaqsappivvepuipriaavmgqhscmmeittcvsmmotpagshoeteaaqdlpiecaivmvtoccuemqinhnaisebqmonqneasinngsiqnhdnmqaqeenmocsccvqncpmtipricspvqerbhuathqcioaqcahprfapqivnqnqfidhprueoqeiapvunqofuqcnshdfiphpsciqetelnqqiademndsnlrtticsifpfpninipcvieceiseesaociseednepslpufivcltfntvradpfchesetifnscaaecavmsaevaapinqsfpngmfpeauqmudfqfvesasstidavipamihhassuvahpienatmaianaqehabptimicsapitiicaaesfriiqslcinmnpscnvvsppinsbasacsequiictactafdaaitqfplihacqelucnirqnescnafftmirinurnqbinrhviqfsquhoctdsifimdriiappvsuqanhstcaspnmeshpvmqhqaameqpsnnquiqsfvivlvenessipmsdesvnivuevcqnqnicseseduchiaivpnameflfpvmevdifhqnsppspheiqevcprmmbdioicnsednhseolivfafpfiocspdorttrpstnudaoqiivcradmpdfiiopascqphioecfnidhhemqsdfgchfgmrdlfiiahnmhciepsvnpcevepiscsofmhtcqocsanpsvinoctevesmvcideqiqeadpcpsmepscqaachiastvneafftencpvcfiicslhevdqnmpqiiqriqnicvnsiqipiiancmeramqanpdsoqmcamsiphcnohsiunseepeevcinnutefcencctimcanesqanvtoltfuemtianccsacnempcitlsrihfttophqqcpeaqeiaiiihnensidhncsveeeqfeqhcfsesrepnnafevqqfelndasiieaavelnettcppduanfvceqvcaacvsspemhqheanscnuqninsshssmaslnnnneqchesncicfrpccsqafsecpnsfnmeiaensmhuashiuqqsiccpfpasapipvevstdaiccpnecnvoqnamhifpdnmfpeuqhseahmcneinvpcaanqiraecabhurtnnpotiacsaqedvsindssmnfcostqidhpiciecpnceaqpfennsevmoennnenratiuaothahhnndlmfehfssoieucqenaceqraqsspvqqmnarhtarratedcviercsisnvaqmatvereedaiuarqccppsuidpftaouseihqeqiiqqqcofdnnducaecephpviespicsviampcteequqvaattfaistrocsatiiciinlsrehliehphlvmaehaptallsplhovqtpiiecsiphclhcpriquspvcneqhniappaiqsqnqibcdnqctvfsatplsscstmavfinenpiatpqetnteqnifehtutiniveernsqospietpfnahfdvccpdefsehlisadsttdcuveqqtqaincipaqos\n",
      "Длина строки: \n",
      " 11981\n"
     ]
    },
    {
     "name": "stdout",
     "output_type": "stream",
     "text": [
      "Список \"акрослов\": \n",
      " ['iste', 'ipse', 'cieo', 'deus', 'imus', 'fons', 'idem', 'pedo', 'apis', 'area', 'chias', 'dies', 'sive', 'seni', 'novi', 'etsi', 'quin', 'pedo', 'ennii', 'ineo', 'anco', 'anci', 'avis', 'deni', 'cotta', 'stoici', 'asto', 'cito', 'nata', 'esca', 'enni', 'opas', 'maia', 'pana', 'appi', 'ateii', 'accii', 'icta', 'eheu', 'seio', 'vsus', 'mica', 'bais', 'idea', 'pedo', 'icto', 'nona', 'dite', 'cccc', 'viii', 'iiii', 'cudo', 'cesse', 'ficu', 'scae', 'mena', 'livi', 'teat', 'nete', 'naias', 'arge', 'avsis', 'nini', 'pica', 'pisa', 'coei', 'ceae', 'stiva', 'hara', 'cipe', 'aegea', 'annia', 'cuia', 'paphi', 'eoas', 'vrna', 'dvci', 'visv', 'fvsi', 'pivs', 'mevs', 'tvne', 'iopas', 'tvos', 'apvd', 'avsi', 'rvis', 'ictv', 'sves', 'atii', 'vrnam', 'tvra', 'tvti', 'svae', 'astv', 'advs', 'accam', 'acca', 'pera', 'hiis', 'iden', 'paphia', 'daca', 'ccci', 'tadi', 'anniae', 'eivs', 'viiic', 'viid', 'vetti', 'iiis', 'vnae', 'maio', 'pupa', 'ipsei', 'tate', 'piti', 'meuia', 'isis', 'calpe', 'puls', 'ciae', 'cudo', 'ocni', 'aeaei', 'peli']\n",
      "Длина списка: \n",
      " 126\n",
      "Слова из 6 букв:\n",
      "stoici\n",
      "paphia\n",
      "anniae\n",
      "Количество слов из 4 / 5 / 6 букв: \n",
      "102   21   3\n"
     ]
    }
   ],
   "source": [
    "first_letters_ovidius_met = take_first_letters('ovidius_met.txt')\n",
    "print('Строка из первых букв строк: \\n', first_letters_ovidius_met)\n",
    "print('Длина строки: \\n', len(first_letters_ovidius_met))\n",
    "acro_ovidius_met = acro(first_letters_ovidius_met, new_lemmas_final)\n",
    "print('Список \"акрослов\": \\n', acro_ovidius_met)\n",
    "print('Длина списка: \\n', len(acro_ovidius_met))\n",
    "k4 = 0\n",
    "k5 = 0\n",
    "k6 = 0\n",
    "print('Слова из 6 букв:')\n",
    "for i in acro_ovidius_met:\n",
    "    if len(i) == 6:\n",
    "        k6 = k6 + 1\n",
    "        print(i)\n",
    "    else:\n",
    "        if len(i) == 5:\n",
    "            k5 = k5 + 1\n",
    "        else:\n",
    "            if len(i) == 4:\n",
    "                k4 = k4 + 1\n",
    "print('Количество слов из 4 / 5 / 6 букв: ')\n",
    "print(k4, ' ', k5, ' ', k6)"
   ]
  },
  {
   "cell_type": "markdown",
   "metadata": {},
   "source": [
    "#### Персий. Сатиры\n",
    "\n",
    "11) 'persius.txt'"
   ]
  },
  {
   "cell_type": "code",
   "execution_count": 363,
   "metadata": {},
   "outputs": [
    {
     "name": "stdout",
     "output_type": "stream",
     "text": [
      "Строка из первых букв строк: \n",
      " ﻿nnmhihaqpmuqccioqunpecntacqsgsesmtiitaqiesatprhrpeaflnnnolqnqlseqedsseqponnuoqnensdenaeuceesahcutnpfllmpepscesauqtebehuhnsallnhpmtotcmhahiiainssfnsshhqfqahtmieshibhmhdhqhdiisatiieeeietnhhaipearadteiinsaehpspavoqehhhfpdnqncmhnisseiuhfiitndouepascrufeqhscanspdmhmuaepipsgdqisrnhqpiessoeasepedqqquqidiemhdeomaadhhiifqtdlhqaitgseuhcihtnnccdtpansnrdqsaefmhsaceqadqseddcusqdhqsicpaedrtiqencucpsnssnrtvvcfuqigsftfnnuodhcnpsepoqhuuqcbcpcdmsaeateuancnpdsnmumrhhifteacffcnienuclppuuumcmhaclshuceddnossnpudnnlfanqieiinhlspaqnehhtlaistqnamsectubcioasqitceqniquehanpncdpacleepnnnqsenicrahdpclttipdceaimameidlcmhiudcedptignnmeapcicfcnostdcfhqoifiedeuleindcpsumqspdqlfquuucpsuocrii\n",
      "Длина строки: \n",
      " 667\n",
      "Список \"акрослов\": \n",
      " ['seni', 'euan', 'atii', 'nisse']\n"
     ]
    }
   ],
   "source": [
    "first_letters_persius = take_first_letters('persius.txt')\n",
    "print('Строка из первых букв строк: \\n', first_letters_persius)\n",
    "print('Длина строки: \\n', len(first_letters_persius))\n",
    "acro_persius = acro(first_letters_persius, new_lemmas_final)\n",
    "print('Список \"акрослов\": \\n', acro_persius)"
   ]
  },
  {
   "cell_type": "markdown",
   "metadata": {},
   "source": [
    "4 слова всего; \n",
    "\n",
    "одно из них - 5 букв - nisse\n"
   ]
  },
  {
   "cell_type": "markdown",
   "metadata": {},
   "source": [
    "#### Силий Италик. Пуника\n",
    "\n",
    "12) 'siliusI.txt'"
   ]
  },
  {
   "cell_type": "code",
   "execution_count": 364,
   "metadata": {},
   "outputs": [
    {
     "name": "stdout",
     "output_type": "stream",
     "text": [
      "Строка из первых букв строк: \n",
      " ﻿oacaegqtistsmqdptsfippftchaouetipcsatihstiesdnscsdatpuhiiaesfddiaseamhasacbenuhrvmqaheeaeiashaistehinnloagfdhlithrfnnhphsaaiaiqcimsethtmbscsadoiobtesnoaioapmscpcqsiqddaaenicpcscomsihehhhhapmccaaatsahenasecpntafssfnhqqataamhnpnieeasuehqinnhucupsqniiciestftafcfeifiaieqeqgpbhcchgtahnthaccimiefsmlmasimpiasiisceuaicohtphhannacdsfcchiessipafacrinpiahidialhpuufiqahahdatspthmahsoheimdhqcpfsnaohomedbfshchhiptstkfeaundatihmeptfchpiaeuhclfqbtciiedundhfefaiahipmnsdhllcsfspadtpsccnftfcerifdesplphpadstusseacmecimcisdcihaedsqhipuhhicdiengtfamuhebiuatelhphnsnuaeitancanehcsicdeisuiamaepaaicrliihetsnahuaihaeofafsctdqihcpcfadeaicppcaehaahehsoatsmnueuafetemoossafconqssplcauimstcsucdtsailpeanepccppupsspqpnctptaphpiahaidoophtdfqschinhanaqtsniceaiifaposanntsareidmuhcbccpauehundcqsheehntfpfriadshntdcdpiiuaneuacicphcigiftdnocdeamiuiceetaeeiahldactpapsnpmdianeasaetciinpenmapaqofadiaiheqhfdaageeidphnaiaqtofdaansihunhiaelaseasamrphmceisshfhadtpiegtsnmdiaapeiclapnipihiqquadehidpcaaehedscihtqnhpeiuupceoaeaiaesfolenccraqssasmhpnnsitusqgibcphnnndumfuecrhnsiqeciipadpdsahpsqueoanetudcdfhiteopncbqicaptaaaaeocsaeplhalcimpobhacihclonaimadpaeasanilirlanaiiagieqaechptahqiceaeieupeteusenildinnscacqaqieeutofhcsssfeaeuouensddqeiiliiiaidiuascqfuatehdeiqscepihsemsmmcpappthlcceesiteeaomnfapcnspuanhiasecioiuastecphqocilcaehieuqlqiappeimeeohcpniseiieaidouecriedqescfdtqeicumsiqnaalaaefespaqiataiataasicfogsilptitieaiecanetsoidpneuncupqifhaecuuicctfsaedspismiaoaiuianmciipmilnapotlmaeclfhccuiabqansqrniausuhcteieiteinssqlausccatclmchbqmapdfsciacqqoefbnsaieacaoeenqapiapmgqnegtdidcchdcaaqtbtdbptianatoiedsqefruilceieecaqeiacihumsqcbttiqcetiehipiipecpeeqaesnapmcnbcahgmpptishmhandnbqcsoetqedhavqihentestcosuesnqhpbavminmhecunahamaatcmnctcseqdfpimnfhahqinciminlvdahaacmvhtiffbnahcsschennannciaifeodpuhsasemiahcessatharetfeaqnartaenhsaptpqinefncatpdanhgplpcnctedtddpaippsdibivaapsaamcfinnfbncpaetiitdacanecisccaadqaaensphiaomopssiainctcnpmnchnehfretllnuiiancqesureciciiaiihaapcmipdunmbecaaqaeaaiqadeahpttmgpaetsdmtinnhhqnqaheebhicpnsteabainsnhshdisqqseiaetihcsddlfnpsnnaiaedahtiebmsnnasicuaiihnesucesqqatohcniqiaihhdlmmeaadileiecatagictdisadndtifnaadetapbapiiacppcnfrhecpdagapsaideaqsfspasaaethaisidinsadiuirapichcethadqhiscahcpauasileipevhquaalhqcaadtitngiditcscpeapaasaanmfceatciidosiciscitbaictpcaespuipalsesspnaheafcsrdhiiseesttencshcrcsdqtocasaiaiealdfdsodarcdleiqpqmidsiiegonaieqiepciiccasaimuftleluuhctcmqibsinuhqmttnuncuadcqhtdmapehppiiduacidnumfaaqaannaatahfnasiesussltdpcnehnfeicnfuedpesphtmxrnrmatesaeacnexisomuiohhsaiecaiiuvxeiifoascauqspaqicnvhchenqcgmhascpimtahoshstaiiqfniiadcasmimaehccbciicaccatietlbtenlusaecfsapiepedcifetgapndiiscdaidopicnfedcsraucaasnctcmaamtuqlecrsenhmccsuihdataupaheuihuinhioiepitihinmhiidpoidgchlmsseiciaunapennenentssbataesadceusccmtheppnetqfiiausmedqistiasnsisretaiodqcahmidtsirqicdnuiiipfasstmeitlttoamagnebfcshodiiunudielsmnlccepaohapqisnnthphpccigsnpiispobdisqtosecmpiuschseaaeiecbhuelihiepcqhntmsamcapehaatmhqhiahashcpuchnttaalnqcssaeeqnlmtignunlfnsnhcespcqpmilitepsnaiinieahhocsaioedsdctaedniisteiacfifhpacopiipeoopeqngahaiesicbtonfaassiqirpsauqcaaauahiubaenpactsinbalftccihscinvpuhtmhpepqtqstbednhamihtacesidcuncnfiahheeetochcpamfitsepaitemfpsaeiisslbhfhaadqcifiuotfaadsefnofubaalaicpnpoopppncnipnonidieomtnhcaledscosfhcaaautnamulcaillhscqslehsetapcagtaeicacenenpsesqpiiatnsuceceheapistamthmhtomahppaasqdcatiipsifiiihpipfchcdaaaoticscstnclfpdfhouqeqpfsnufnbasamcmoifueahitciaiimqdpspndeecpdoqaagpittthqqrneaansfpuduhrdcpmdrptcdipfcfipseiciucnaheaoccsfhltfaacirtipquuotpmhntadfhnmuaqetaecaqanhcciiipiqahhitcnaedipqdqefauecchddamensiuctfbcchipidafaslitaeapisdmqardtddfcephdanbuubcnhiuocfupiumticpicqahfemisciilseiahaoftanbnepteppfoiancuospureseeshiupeeaipiifnstdiapennsqifaesuinhlemplulfqadtoeersmcnceoqaneehcteaansssupudsuceqtpssiraucadgciuqfnoqtbuehplshishtuliaaaaouigniiasihigaetstcaaqaaateddtieaouaetcuichhseaiuioiqcbeicpetaeluicdcelaianneamclcutahisfucccateniicdathlqihcdtceieitihddalemehqnnnhupishnntpnamncuiehctepfecfhlnsppoeacehidagnrisfodnhsudacmcnnathuapftrqeapaopspaaiiedasatpcecslsuaoaiiaaeitpcnpieisaadlsdaalhmtsstlnsanhuctniqhaapcrcipehuuencahluhauqaiaaaprpatinqsusstncdraepidnphfsthnpappiauuthutnnchfutihpteeaauctaalofsuinnpsgestfpatiqiahgcuahisuaalhhausadsnoqpsicohsneiahuqagnntsndicmcsacaqtoacsmcmanarciinbmshlgdnathsnemeiphpatlchdtphdpedpqdthlpeqpbaaiareacpicsslirelupnnrxaacpchdtsdchohqanadpepaecfshfrioiiiabsnpiasuiauhseqsadiqahaopcctuhniqtnhvaadhptussmihsdadsmqpinqtpnfbqneuhacfiheaqaimpnptndibfhiusafqiptqhesdonecchatanfuamccismiaeiacanfaoqcnmsdlionlsiudhdtuchdahqlnmenpfaenlfaagdcrdpaudcfpfdeumlecfnpitudsuumitahhlagdcfitessnsnnifiausdaaomiffdiaadhspimhunrdtlsaimhiscidiedhqehahpauccpaddeqpfbeheaeieuhqaicihceuqacsauetcsaiicacahbiancagenifnptafqqhiqnmuhacpsclpnqfacuafhcctfiiphdeeeaaeaseauitdhainehpciirchnduelsacaatatpccipsadpaiqpinatilpaattpfmapcaehissscddoaicppipaesnlsatddlhahsadapmhiiuhheqiepdenecdfipucuuhitqdiieapsnnpqhieapdnodeapdcqiieasetsscmsiascscidnmnpecpdnoadanhpodipucqhaincuecmspaqridcteqeedpepnlimihensfpsdislaehmouoaveegcqlophbnlfnaouaafpmenlaapsdzqttprhhmudssemiptncctccceaqmqcfcetaaepoadudmphqdaadcaoairtttsuecqcecictssdqaohtchcnfipasiepniisadcehquriihidaqapnashpescpihthsaqmocrsniefcdefbiciasheeqdfnseiqaaahecinghpiiaorsieacndsamheqcttagrumesicinaqiinteqoiodctemchpsfnidmeaunmeheucaotttiatdmtidicchhhtaldlpsmphlhtasaitppdsoceusaisephhoddiiacqsoormecmmchcehdcnnamahpfchnqeuidssfanlitmqhsmaaiibsaeavbddeihtipeihhiaeiacictuniuhsaaaasdftnsscsaasavtqqafpuiliettlacmichsaecnsqtnttmsshavscanaqnfslqqlqahfcnqshsnnpaasqeqlcdsetitcqhqsdahdsasaactriaiifpeehccncciasdqhptnlpheqcasmhhseeaqnsdhueciesahhnifuldoaiairhpltnaafcntiimbehehhqshssheuamefscmmuacsphaqpmcoapnmuanquoiedsvfalipiassponiisiiliagaismiaiicmcaaaqeeoblhhaanpcalmndifaidfveucmmetaveoqltentimileinaenaivtfmvdncpengatqioncrcialgttmemniaihavpeampdaatinspccagciocmtshoeaenecutmtnanaqphasisplttsundipepaspocnppidfsnqqucasahuiffsshnxsahmneaemaanpeasuelieneaaamfnaqaiipisavafaennphgmhdtaaatpqncifpahhcdnasvssioiauqncahpasotsii ausinhitpidhhsiadtacdeqnhucasloclbuqqcfedqsareacqsanauhnhfcbbmeucqaampfcabacsetbncfdhfqpiclsiiciefaodinmcstqtsasachssidcesipetntihehaiaceamqidctptqimnuthabcnafsaaaipsaqccamumnhaiismpunhuqnpppnuiaesmnhatdliscbesassieendlhieuancdadsdtfntdtaposclpmumoiashsecamaielfihshvnpscpesqmadmacpsfuuaemadassipeeatslearhuieadqigndfaqnanchsaairicieireqcepeutisalaeatiivnnoihanibqaaqrnqrnhueirafstcciciafnqsqncuvlpmtaaieaishtnmnmaiulescsdfhecnmcehuueupassdqntincfcianluhdpsegaineoaemfiethidshhqvuapatacqqpinuhihpepcaiiipanhhqapacaaciseennnaeuptpsumsnfomephaqtiqissttteeshacpieicmqiucetaapcuenlndaniahosehfcasbnupiacmastaacoeiehaceteasathuincssanctfsdthtampfteacioqseaeihaotsetcacadcamuihuhnddascsehibhsdiperaauaatohivipahsnaithinuacmohpbicesicihhusuoiisiasasetdqoricccvpsaelctmrhscdtcipfihenpqcdnqpuupilemqlliiignsesehdappcshspstfcsescneaacidsfopddoqiisreaadsidnqipabdieicieiaeusspapnqdnhscuatttsmmidiccnitccidscalihchfcuaqaqceeritpdspcqpqqdactmiiaipmlofaqhphosalfhdqsmlahqhseidcmipstahdehcanqrucaicmicongnuifetcfpetpiehaupsmqsdeccmfqmthpiadafpsdafodmopishfimaiiapheatfahissfetnsposmiiuiuhafidsaqcanlamansmccndednsnsedvshlaiuqahcaqcsivhpcegtlntpaqoqisdapspppucicipmcadihsnuefchsambtemifiaatilsliiitsbqmqlcddinaaardtisdnfdqmcphacphaeaueasqicctihnrapiopotuteediuesqiptidifqounpscemahnecfuidrsqmtfceupqqnvtaeshtclutfheiatahfncpvtmstiidimhpdidhnnehdstqdaismdinhaqhaiafedmpseedamaiaeiiqspuisucastuseenfqnshcidifoeuocmdicimanfdhetiatnueslqqncsiipiripathnpemsiuedllpiinnttuciepuhatccnciictqmpsqpilppteacrqsealhiicisppapptfifdftmceqtcetfnashsnomeseeacfdpieiinceahniheaanpesitedpfueapncnniiadipahmsebpdlmmiiheaafncsuminidacuaaedhaiaetihcpnnttucsaehanncinqcaabpoeitpaspimocanecnpcaiemsfetmnnepuamchnuianoihdrauaqsauqsttmodhuacqaahdiiaitiaehcthnqnaaqtbsetiinshcuaneqfiicmsnaauhunaqietpaphpdshuiiamdnitiuppdeefaduesimtiqssantpppsasprenohmtpsnesefnihtiasahaeiutdfscplalafnpsemanacsoqseaainmddoasenaptinhivaiuhodrspudachaistesrhpliaictsosapiammtttraafobmdmnnmqiphctpdpiehcsasacptideihcfeipundaiphctessbscsteduinuqpbahghasmngqpandnqplqfcsipieetcsiamhcsdiatifoamqtngqtiatipaeciapmtcmmidhcpudgunqmapaeaeaddicpctmoachllspasceapeasaeefndtsciiaaaistisniphibisfeuifeimhadnafsapcssqeachttqhaecdpanspsnfemumniissfasreasahahauuatbpacuinipdliffiavpfhaeiiaplaaeintdeaplaehecdcofspsbmsfremncloshpahiuutcuuiaocasqntenteihshnsupeahuqeirafttttohreapbdilhapsaheicaaaqofciipqsupiaqiiqninuasftsaleeouqnniaietnstocipuefacfnactircdiefccirshbitairlieasmtnsvuliepasetndcsaqopctspaiaqaaiicvlnfduiciassiatqidnarivaassiincaeensehdqmdnecapiamaepihqaihqscsmarsreaaonsadstitinhaaacntscdctehncasicqiefntfpdssemmdcasalailpspnsancqettcpnanilcnnddqhqiaucppspqshndfthcihodefciihpaadufptdaechmeciphhaditcqhsniaacnchmsanqpecemfiamadebdiiucbhdvdpsieietiacimptetnnuuacpehitinatlfqfatqefpsiptqmcufahcscleaaevrustnmnaaistpiispcseshthqqpqaqaacnmioaepshaqtmvussuqnphcleshhaennesufshgnuadcaipveisiupcdemcssiucfaeernipfniulptuducaspuniciroahsamdaammeqfpntopifbsldttahsttihobcqdidifsfshfpnmciueahsnsafpnmsmtcnecufdmhaiecopticiooacicfsetencoeqdifcsaqebaumscladeuqadthcdeterhcceoqieaocdaltaacptapiactacauinhacgomiisqstoshpeariihnmccbagtqeicpnfuesuipetcenuleshohitlrfpuaiftadhhhuaqelecheepcescnaudthehchsscqiantautscanpiiseescoqeemeiaauuqsaaaiufischhusuoeqeumqdmnsiddumccosaegnnngichhtdnieesfednsccdcpesuhpiplmacalttcdaaasnnnohrtpspasiicastabeebpecinoacepmlsacduaphcqaihipaiahphdaepdpmqddeceapsshffgshiamiuasnfftuhgipahuarefnhcteinqcqtetafeiaautidaenpsnihaiiliqeieschhntlspeaninprdeahpsaaadaeapahtfomaaaueseauanidcesslemicnhhoqpppupampnmdpcbmtindsqehaansaimnfsstsuacquhphcauchpiphaupencpifcpaencsqsfhifclpdtetmaaqdcianceepripfesepicpmshisqeeenqmensestaipaiiaccisttnfmidhasnaacaispncoiehidieidteetaesncendtmpdtimchiuepqeadieneqhplaannqhhcqhaetairfhlqceathcmmtsunsaueseseniciimduneisucfputaqsteiiaptefachcpgpsraincpnqitnubunbiqsptuhatnscmavinifphnenufhaceanauasitpacnacnpieuiesccadtqtespccipahicaaebiapdeioilnsbdnlhcaemiaiasfaiqpahmufamhcfrhevqpfcpqapdciaoihaehaeaispsaimssepioqstcmpasipqdashsnaeiiehddepesutssiofepqcancpmhaaaautsiidnanipqistpafnnpusnimchhrpteceosmaauenuebagdesnsnipcestffsnaufitacaailuehidslpcsnpainiupecpsmcrepiirqaenicttttacirpqaphhagquqlaiqnpfaaiaihiipstdnacieefnaenaqashcaiqaoesdqnmhacahaaofaacicoqfmqtsdnphhdpaihnagsseqraiiqinhntsdptpcmqphdacaccqlnscsafaiqfqqecmemcaapnaiesiittahhnsiiqecnecssamaeapspedeeaqpaptspcaetiuieiedodpaialtacbaphaapgcsnuaneedqshtaunuhnuintcsaeuieppsnahisuaqaceaqapqsueafaapbtueqhhdpaitphuoaputshiltdrupchhcqchitildmmrfncshdnefpcihaiqetnenaplnlsimoptpacaibdsdtaudtnfencpceisrmmphpfrcacmamnsehiavsqchetshsauliaaninafntfolaiidatmpcseimgemactaptsafenhnpthcthfrfefpdtmapacccipcgeqtcclaeesiaiegktpmciaipimibtdsstfhaafaapddpaiaipafaeisrphtbmpaphuqiimagvhaufiiannhsehshtsneeiiicnicihprenuetiphcsmaupgnssdharataiqqetlheaihiaaasanshahquosshslbfmssptaapespcqccnnpeeiasccnoieilttphdfdcisqppgausfdcdedssaiphnaplitiqeqhsictaficfauecpasnsstcanbpahgeiccraqdleftanoeaufnpplnahnnlclcdcthshcdigsciedtnadpneecatuhaiputtfuiqticiudaottpmgapaihiapcaanepuehnicsgcuafeefesicaqtohfeqccmtdbhiaammsipsaicpqsehacfndaiienabnsmueuufacipvqcumeaccaoauchsdcabiphdqanipelcqshheauauquhdpnbiadicecattdpuieslnnesiaprchcumcfascnphhismhautaacdasuaiaptnipasapeuqcenhddcheumnimbnghsiuihraadcitsqalncudtacnmuannqqadehqtusccthpnssseaeieasesietedigahstpaotqunsaccaacoceuceicudtshtqhdcpcssaemqecqaahiemsqqsapnsiieodiptciifcaietpqusifechhaeqececmaadiquhnpoaiicccctcasansilnvncimtuiipepcapascpacccpteapqtcacsapaecddooaqedcdlsnhdiiotiuaatdquepftuaanpisauapopheattqaehhihhatcqfohmbcicesteqqpaodunnooeephphacepcnpaiehnsqitniuuhdaepthteecibhdnshmhaipiocqeoiudnudcuiduncitpbqeepiialempactnqgnasidelcchsteaiqhanqsameaohhenlgfdbhelhddqadanaiesfuaimratdoasicscchtmsnqeotadgistehsrariinsenhqnonsslmenelsahiifiatcatantcuhfclacoipoqtiatfqccscqhsstpefdmchciccssttanfcefiacitaaatqlnarstlcciffruhcufsdslisssdeatcqaaicpeiaaseamcailhevmliicufnasanquacuamfcsspnqchiacasdqlpausuhirpnqnqencudoiiqhthlmrsunucpliheaeaociasdsdhpnsuehpnnqancicpsdiphlvenhiacqadpicqiqfftpqeectiaspniadhfcueasdefhpaaenttiamueadidhaflcttichpasodlhtoimmemeefhcqscnoimasihcqcandtecnqeupulacichashuoqncstfnqtiphatqnqeauiemnsnsdsqfqaeenmnanrdisamiiecpatcesiqsshhctiasqgfiicagiimraiaamoaahsldisihpevsaqtuqacucimaaqcpahshuniaslfeatcutolcpqadhahiqelpinsqpqpqieqgphcualvpoudspnirfspqnearfptcbssaeqedticqnhddtfccscecccptftaqahtstuaqamssapmpcninspiriatapseeulasaqespticindasapudsihaauefamdsealhethmittsfbcsqimqeaislnp\n",
      "Длина строки: \n",
      " 12215\n"
     ]
    },
    {
     "name": "stdout",
     "output_type": "stream",
     "text": [
      "Список \"акрослов\": \n",
      " ['iste', 'ipse', 'queo', 'nunc', 'suum', 'rapio', 'apis', 'mico', 'area', 'lana', 'ripa', 'seni', 'hiems', 'nato', 'unda', 'punici', 'laus', 'apud', 'ineo', 'mens', 'anci', 'heia', 'pius', 'astus', 'castus', 'aveo', 'ascea', 'reno', 'sica', 'amens', 'danai', 'pina', 'donec', 'cuna', 'sami', 'arii', 'temo', 'maia', 'upis', 'appi', 'ansa', 'thais', 'icta', 'eheu', 'ceos', 'uacuam', 'titi', 'idea', 'idos', 'inhio', 'mars', 'daps', 'uacua', 'phasis', 'reno', 'cccc', 'siid', 'frio', 'cudo', 'euan', 'aput', 'rauca', 'laco', 'aspim', 'mima', 'ilia', 'dama', 'iane', 'lama', 'isidi', 'simo', 'meta', 'itus', 'pisa', 'coei', 'ceae', 'iphi', 'hara', 'iano', 'cipe', 'astus', 'samii', 'uuae', 'pida', 'cuia', 'eoae', 'arei', 'nvnc', 'idae', 'same', 'atii', 'acca', 'oeae', 'pera', 'hiis', 'vnci', 'acir', 'daca', 'cene', 'tant', 'ccci', 'pipae', 'henna', 'didi', 'fadi', 'fadia', 'pupa', 'cepe', 'ipsei', 'tiam', 'piti', 'ndum', 'tagi', 'copti', 'cudo', 'maca', 'ates', 'phasi', 'aeaea']\n",
      "Длина списка: \n",
      " 119\n",
      "Слова из 6 букв:\n",
      "punici\n",
      "castus\n",
      "uacuam\n",
      "phasis\n",
      "Количество слов из 4 / 5 / 6 букв: \n",
      "93   22   4\n"
     ]
    }
   ],
   "source": [
    "first_letters_siliusI = take_first_letters('siliusI.txt')\n",
    "print('Строка из первых букв строк: \\n', first_letters_siliusI)\n",
    "print('Длина строки: \\n', len(first_letters_siliusI))\n",
    "acro_siliusI = acro(first_letters_siliusI, new_lemmas_final)\n",
    "print('Список \"акрослов\": \\n', acro_siliusI)\n",
    "print('Длина списка: \\n', len(acro_siliusI))\n",
    "k4 = 0\n",
    "k5 = 0\n",
    "k6 = 0\n",
    "print('Слова из 6 букв:')\n",
    "for i in acro_siliusI:\n",
    "    if len(i) == 6:\n",
    "        k6 = k6 + 1\n",
    "        print(i)\n",
    "    else:\n",
    "        if len(i) == 5:\n",
    "            k5 = k5 + 1\n",
    "        else:\n",
    "            if len(i) == 4:\n",
    "                k4 = k4 + 1\n",
    "print('Количество слов из 4 / 5 / 6 букв: ')\n",
    "print(k4, ' ', k5, ' ', k6)"
   ]
  },
  {
   "cell_type": "markdown",
   "metadata": {},
   "source": [
    "#### Фиваида. Стаций\n",
    "\n",
    "13) 'statius.txt'"
   ]
  },
  {
   "cell_type": "code",
   "execution_count": 365,
   "metadata": {},
   "outputs": [
    {
     "name": "stdout",
     "output_type": "stream",
     "text": [
      "Строка из первых букв строк: \n",
      " ﻿fdpisllaeiuqiiaposbeabqalpsiiputfansfcehqtutaimoissstspdqqasfficlocscsmiesnqpihihiuidqmtaclituetslhanictfatoepatfuocoaeiiaacpgisassaiaiuhaeffhsemanpeaadueealcqaicsodqrepdasffapfetsepefacsqhmqpquhaaliptisctseamcpiptiefbaseninismneecespaipucduieacdtsftmcscemqsfqeuclcqspteisaiodrgcqerfarlcmdhonpadlulghahpsotatdncioacscgcnadetefsadippiplitriigspldsaocdidpfiaipaffbsimapihaclsestaepdelelliupiridhfcmsiateocliofhacciecitmiorncpcsaufnlnsmpiatseceupuhmuiqaccmdnamccfsqsoaiciainfufetotiaihtiiaattedaohapeniiitadstelsdipssicrepaahupofpdinlinapaupauiqaaaephgsohclftfprrpptarfpcupamifnbcedemngtmecpddmetoispcpehiadhsfopdfofcsrlpqmhpdiiosdpptleqiiifpoccnahpeqcmqoltldupipdrlldestuecadionusscehsunqodaetelflpecsisctaapebttthiaiadgfiiiinahputiitemidsiusitheticscnfeqisdifipaeitiiuhtmsfiihediannispuluupieftisspaiiqbiolssinrfmctnticiupngatiiccqddphimaffdsdinieeqhbmsdeirsalicdcesthfcqieifhnetlqehoosfsicdupaocimfieniinsetesantnppofcpeeaedgfpniltpqeactiheateuqifaficducinpuitedecihnteieppiueiaponimdnohplfphsccscgflhttucnnephiiitphtouaicqdapbrqfrdfeltpidescauicsbiunmsaqsnfaceiarsfdmatidrctscnfifcstaufipesadliqilqschlisiiiclessflfuispteesdpcrddiclccasmfpbpiappaqstciapnonihamoaninhhisriiaaoctcpfhmioasueecfithtcfaaonrcsilqscpaiqmfplfmissaoplrpchanltehtmgnfpdaecnisqfosanueqhptethofqsqhccitseusursqmtofqcefatfpbaqfmiqcscobohdaiianahimfthcsfundpdicehrdptpiihhdnisluamnseupecsahpmppploppnctpdpppbipncnifhomitmprumlcacmiiofcoapffhanpdqmhtpmehscqafhiscidbcnismllineiacdthmascanpntpdanlasputnsfletnausaopifnpccifitleaiipaceihspfpciliqoiumcuuhisupeqcsaepameepqarilpmnipitapcaecsnssitsulqaeeaneiiieamqcmufupmetlschunbamsutcqtcmnuicifpuhuiquraqrccqshqdiinhaaptanacsfhuafcishpuuatctpibmfiphdipoefqsudhcuthpgbtftilhittetdcciaiancifqgatieeiidpnasmdgficfsaisbinfchpoisgafopdpdstprnbhloudihnnessiiicadcnbtrhfioastsiatsiscbstpttqiliurpauciudafsboecdnnadnqupiaiiiiemhqqriahdoenpfcilsaesttscunmpqqseasfonfdpgncilpedtaiffaaeftqdicntcdspcmigihfdssaiaopecimngnpphfeoaiaoaccinbpdihsscausussscsamnpptnaapnundmndhueissdossphassfncaaiicceuhsmhuhpqqctcapcgeqcatsmesshedicicstbeiomctpuhuhtpcrcnibqemcaecnfiuiaaiutpqmenqeeiondessppaqqeeqiecqenpuepeasiiiecsetffhuehpnhnobiiihufcoachacseitaauclsteieafiaehhncddqeumseinpsdsntdpltplcpohfmmppdgpifntsiidschbhsdsncpcgsmpicpchaqneiqclseosiaicgiheimaiupdscpscatpcaaaihtaisarcefuaeeaohbfeocaamopuouimquiasaecmnnhatffnqiidinpppasqaaidrmditeshodsghriaqtuhaccanhpchpqqdaocniasaihadiihmenttfschfcuqsietcquaahsehqpqtdaidhtfeeaeqaceiautaptppunqnidiipafhsiuiptecumdaafaccfhndmrncepeupgdaumasehiihmfsiiatsqcpuintmqdpennhunmnededoinapsscamqtuidgpuibmiafasipodlpahlinnisecsuleopbpatpaqcptseiiaftgaeualtcnntteemugsasishnaehnealeefpaeletahtuadetipilmttuqpeisietsusutaetmcsspefienqatcdeqonaquetqaatliaicncefonsseeiiapdffeifiiaauuqcuinfeniodtlnsdiqctpoitqoscphrppiieftanmtetnnticnnndusmttoahpoiqpncaafslrnciacueqqoeccsptpemclqnpquecqduagtsnselihisfpmlooeplpsnesicncaiaaaunfpntittsuieqspnplaieucdopdeaissnoeadaiefasrdsniiuhnaecletsfcuemonfesicctehndredmigdnaamsdsnpecidpduiodulpssmssidsfsdcoaginemaisuiidpnrmsacnftitaaqspodpagqdpasldahsslibastspaaafpaaiuhdoicqrcuiahdsauqdqdtsiliaeeohoehsapoinqpudilmutltpdnncincfdtualpmcnececdefiuacsliemcterbssecheichrolafiqltaidumusaeunpqitmeplfdauciidicahclindiputpmhaamnoppctqcrpcilpmhpitiscsecltidaqesqnncfcrssiiphpqeeeuitoptbqnfqioqubfcaiautiieufchdisucqheeupshphccshtsslnptdsatnalgdsacahlsapssmqdaflmdpfeaonqiieeinnpiccnimiaepohpsaieieicsqmiiepppoamuaaricbdhmsastnptniisisscdupfsnsarnddqsipecicsnptidsuidacaiaiatnetuunailipdpeftfqemnucadghtucatnoanahuaelamhitnfntaupisienennsduoiepnguthuiisplaffesqsntsiqnatliimlitilsdpapoascststsuiopgqqaqcuqshgoisceqaemlnacshisiatcqalciddeesnsopefmctiifesiinsfilppafniqrsaciiesuiuoaselhiissilnnaietdaefsnectmsuenimehhnepiaeafafiulfeeeiaqaaamautsimcsusidirpstsissrtfisfucfasineshprfeqprqicpnemuidihueccattmaiileeampempcafddnnmfnfipghpppmnltiecaccstealceeifmusaeoraucuspaiicarnpiqutdtpetetsmiloagcmfimnfiiasupdspamahpssaenffeacpotfhsadinfossudiiiactleuspggciltibiepnsfnucdcpacqiaihnhqmieohniiainsiircorsethahpimccsncsnnteaicouisadiespdaanpsstsgottasafuhqmmetsiunfiierlmsmtohhssifeqcucuscgmibmdclmeipphilcisaitisplmeethibaomppnacadifouasicnnadmitmmiicgntsoaccicqusiatdlehnecuiafpemoaqicpoatsqpafdshaqctnadstaaeagsdeoicectdsncqoucsaceieqatteeuuedoncafnugssoiiaeaaaeaphcfsiassiaagoslirroibimnnfaaihsmucecihaafomuanuatahpotaatcaottiesussaectltemqtttptpadcuanadfsghhfuctsihapmaibcshisppsnpeepamhannimntteeldimihsuohapcidieippcucnipncscemitpfamntoiitpoancspopudcoltaaddspiasriafactiipditsaiofhpichpsqltpapaqclsmneipiictssarchaitiediicminftmeescpidtccqlasdptimcahfnccatihanotpanimcsiurfeahsmhrqmusacbdcpciehidsiuaiciacinmfntpdmpmaaetdsebesipcntifnanhrunruascdatitinadilegemhislmoedcpptcucsiuuinsecibnbupfpumcfeaicfdccsroiancmpnistrnftocdtstpapchdsiedosinfsttuidhutospaeqfufchupmotmeaicstibsnaqileidisphdaqfsnqonnriodataiphhcfllldeeiismstcfepucefqmcusdimdscssqosmismiiueeofnuaimtnnmnutndiltiqiaeasaaierateppmahinanittamampiuiarubapnteacnesdecnqfpspppatnbuqdqeicgmadschgcihhhtisicsfnpmfqaetltdtnapfaoeepouhuuagneiqtinmamtodncetauaqhaaqssmpanoionpattqqsfseopgitaaumnuaebebibdisccfdcdiiecepteemshlpsaatpfnaincdcfgtsdaaeeapcgctntqpesaccfoahinhcidpipoafdhstnneeumdninshtbihheaqrdqpciiuiniampqsitsetemuanodpcithcifhdsmtcgidpapotthascadaiacequtdnrmihbcfbaitaeihoaeennehpscamhandcaqsosmpqritqeaddhitaaadenaqdieieusurahnfppscinaenmecpmhdshsntpaishaifnaoaaemclispciaqeoutheicrntafcacsaittssstsehhicacrciqundehciecncptulmncahsritlcpcchpccctidqqsqpccebctqpiumpggetqeaiuslatceoaeomtenpeacmisnlfcslsaehiqniaipcciiraeudlapqriaeacdqsfapiltsmpssdlpantidssnaclecshuufsusatuduseiioasafaqsdcdtnsiiscbhmcetcsctmtsueuicsfdimsrimvlrhtcsrnecfaieatudtfdnssfuitcansqaacndsieutsasaituaptmfotemaanpstteapmmacpqiftdantaniiausmaennnicatcsdcaunhnueutnpnancehsautiiclqoccnaaputnsahniomfnscannpgcnflmqcnsncutdacuhecqfqqphpuetshesaearqshdnlqqiipittcefsdrieoanaeetnsatmhchmahchceltsocoaqdqactneiqnnncflqittiscmptsoccqtitpagigssetacspsacutiaieaiqcgmteracfusfnqeotuhpnnqsascsncmniqnaatcaitmiltcaonhecqnsintpeancsitascfamcnfussbaplicqccihiiaiesappacaeanacenhcusenocnuisnapoerhnnestpdpapepisiioperctiisspqfcaciilitilpiipetetnsnadiaiiteeischesiapcfchiattaqilttacpusttnidinspiatqsufestciisrsgqqsaivflpiqasidbincspcptaacnthsmtsafindampoefdsdctnafdntdhipaiponhabnqshsauaiqcetnudrommndtefcepiufucoasatmdfdeasephitcuiqfuqheiioitiaiiitilsocpaaaiindppiecopmfagctuiprliefaemscoiarpteeeppisiafdafihamastqceloislituaancuniatifpooeuioampdteoiisdcuptciaipfscddeosnmiiustnphofsqnpeinitoaieqtciqqiisotsacspaddtpelnafacsptnfsheinsitihpdieolcuimistrutlatpadfmsapphatfttsenhttsttsiuabeiesprienpliqprihefaietadtalnehncsqpgpdeaaiusairstafqhucirgqacaasdclcusiduiaiisctattabqpstnetfrfshaahasiosusiefpathidhdessiumirgfeuseictctusdsgsiisairicequtddgnhiugmceeltssnbecalsiniathlsactpheumapeouidpifaamlluoiscdniimhnmmrhhudhacandcfehitashpqlfaupuacpiomsponaaciqncdpghacoueiqfisgulaiinssaicsseuiahmhtanhtsecasifislssiifbdtntietadansufhassaiphuicehciniiteaspbtiripttqtuqsipsciqntfteishtgmhttsildtlcmlthaemhsshfttcapnseesanepnnqefafuehuodemdaeeuareaummcsnnpsncasthhhushsmecqpfiaaieleddicamaoeieffctnsadafnsuqiisparhaoiasduasfinutcliilmcefumiecednnainsibltcneassmuneitfnasagdsamntniuscilqpeassciiteqdpaeihefdnfptmnmiannelaioqcdidpfitsptnteiphemnttiaaihmmhhpphseflaugchtuctthdbiniddqhuahtiacainmfidsielacssiamiccfuutuictcatfaesitliatdudanueaafthpchndhuoiaapiftsapqcqihcesaunspptiaimspinilsmcepisnibqpacsescipnuhpielshiasdqatfmhthsedomlsalisleomealusagmmheoecaisosaunailhdaenmitssqpdpdniaiitifielnppcsicempecasnfetpspinsessesseausrsprnfapaemaiunpeaufhdpusiqanirdencqsennstncticopguclhtfntnneslsptehnpcianhiplfleiaainppecscphfaetmhgcaiolpstectlcdccepslgfueitssiceppscitnuscpaiufpqcaitgespfppntssnatpdumrunctafsiisepimissniiqsasiaatmcsfopireeaeunceeneaaaaplenuiindateuuumitpeaoddisheumicqehidnsihtpeuifeaemtitgacncieodeheultqhuipeptcudshdtiosaiancepoiiooatrtufeettptppeofutssmhamhpcpesamssmaqcctoiiadlsmfseaodsdgsebmmctupafaiihlsaihamndnrscieitonfctsauqsioadifscltalmsufsmfnamcomnnunamsdrsedaisreemsuoapestisstonnsecmclaihtfcispfcqeueoniaaciocdqqcpanndeorniidisepephuninuthidffnstcsscisdiaecdtaceilnnndnaqsnsntaiccdcaiqfriarsahasdassialaigtcccaclcldqnpqrdoqtuqtqheiahiadqsurifanoaahcnmmmasspicmaiamahiedsudptcaornuidptaaesmaueuiphesmrsupiaaslnfqmmfsiininsbtdnifirqttnisaiicsmcaafhhtcemqiqcspnecpcfscigpitgqtessarapanoaiiuaetlhrpefqqaqscaneeaesehscusiisbseeenccheapdpcrehisdnhsrhusomdtbscttcnsugasuacsifaaputuhbieiisucunpitenacssaiuieuacehqfsasadaqesaainoupquiiesdniodiuntoihdqclosiamsahibhcaepoaacpsnnsasldttnctraufauhndptttdiiqsudinatrspnfaiqrsmaanhniunhnelniauipesuchdfhrrfefhelistiitriissifshmninauudieutcaesnmpnaridpmcqeseufhommeahupnuensbuaalaaueauaticfapendtaesnaftepginciiceecimntocscipnmsipfasbsciarmapchsitmiiaaiseibqtesaqpupiccdupnsbastipmiianscdudqonoqeadquapanqhtntanhdbasdiuoidtaitintdourlhilciaecictpilshtplimfiiousunlfehiqitmuqhimsusieachdcamueriiphsqcipuoueaemuoiudeeaactdiqaduunudttpueuacaqplhuqdenimesdtmqahdioremeliuiisfqcertipscfehsqipiaimocsiiduhctiifeimhieiciisfslsnrstcsehmqnsddardhnaslesipfssuohipfcemsarpcdhtuiqimeeifsmfcaqsaidddnnoldanepusshpmsiiumchirecphufclnacsdnaaiqahivntiutmtsmonahfarscspalscbpoaagtcntelampteaaauradstcpoeqnacdffipauptqnnmptdaiahhaeaiippnfioiniaesopdifsqqsuaailoesfqnaatiihintaqcshahctcqptscpinnmrcnafuemcplcnaoepaahtaaemhnmoaouenddiiacntlnppttqpldipihobshccmshuesqouiiretspiqoarieppaarunsgcsddrifitsaiiadeteinechdupspcqphcisashdahaehhimadphqissehpesardneamaceueueqnccasacndchadasqisieeimmchapadmlppnntatauennochuthqhisfcumopscsshrfsaeipapolsofpccnucshuiefpiaisascmsnicaiaciteotticqomhcuaeiaipampmunfscfnfccsscrihrcuthducctciplcaueqgcinepqhfamtmppmaeabsntncnammssqcsdfsaspsqucegnstnccudscsnscdcpergctcncashucbidipprmcqocqmemiduuqlschheicilrihsmhdatdcnsaidqirttnimeafncacaacmhabticilsaaedapgiictpsalcaietqpaesnmediiandaaihlcmptdnsloiluiueuciaptcsdapdacoihottsoahclihinuphpisahmipedmiiliisapidaomefdtaetanuttiqcuaaauedotsiiusmo qsfeaernddhniahmnpbpfpqpdqdeaititapadnclpeisnaacisahecpvssqcnfmmiifiuoaecsanicrtlsiccpmeqtntadclievmoaolcilvcfdleqcasilidtnpesafteevccfietnvpiacdhfhcnstsaahcfaafsiaiflhoavsmueosenphiqmfaletuivhvbpaiflsiscsmhvnfbigpeeeccpsevhfehhvagvrhnphetgqfrsnsisligicdhsvoprefnbenitqoqsenmcddnchpalifieeqanasurlqichceaaqfmqpafdooqsdavptcesalhheithhtvofeoohfiqqvhqmncrndaqedcanmcseaprennhqasppfpivnpcsacintfitpsogiaiifismpldnsihneebqaamhlcqnabqrvvaqldcdmgeaqtqevqatmadinhapihetqeqqciadadashfdmhssshasslsdmdeofevcgqipeeicqccqqnaapaiqaiepqqfqrebeslqulnphpidrepitnqsiditsrphitsnsenvpeopphmpaqihnolecincgpghnecshpedsvadppdeaotsqsslaacpnnhsndascnnettniepiccbfievfnssfviqvmcvpdmunmspiqvseicmpnaadevcshhqaantphieqiovccoifnamlnliioispptcveipsiameqaiodheoseimoehpnboabhqpaliaqinopmeqftnncqhcnsaaftipapesntoecfqqtiivamtvimsvssoaalfmdisaiepciccfpetnmgshpnhnethtsiitmreegeiqdqqqapdihaeudndomqatttnsrpintilqnnothaaaismstiepnmheaanqhuihqiaeenneqslgntdeqescquhcptdfashdlgbncaesahmahsiuqeqcneupaipssiadcuhihcmqhfgiiteqsspaaoqeccanhaaiqasuqisspchqheomamqiscpnsedsmsabhsschatoavtqnsefdadsdtdihaaaeietngndftpdisssaiaaqnniinircfsaicpaepahddcenivspqcpipidovatiastsupsuisnlisohdtbciieichiqhhaphqhnevrifacaechiasqeffopqvnicntnmessqqiqsionnisihtaaiatvasfmvciieuslpdceapsshlnsisicpeqtsoscnrnvlntqpalnmdgipcfeentcccidcqsqeofrssifclilncaaahtiorsqnneiecehrqqvvqeseifnpfmipqnscivluaoascdaalesreisanhnntsipeihtpncdtgahpmsdatiaifceeiarusfapfafdniaddaqimssefvhsnecttptafttnncvpeddqqtnmtainpniefpipohicitnclmdaadpifinciensseeapcqifsihnqdhlsmqnlnqeatcdrncndnnspedsscgdmmsolavqdsblqnnppshpvvpsqutohpgltanecsamsalailcinsdnaiqfeaiiusifieanaioiplqpqnlfqqdsncsaeslicnineasiduccccvqqmdcaaupnnifecacopaictapqscaqsrhqfmcncacodslmilcfmeeffutmapmligmasmmiisnlsosnpathisleppssfblacaaplihticrpncqpnstiiisdqdvqepdqisepuaqqmhececqnsenfsisrcqifnsgqpaifnsqmhipldnamedantchbpqstemhcalearmehqqsidqntpvsltafpnaafsqaeftnltpamtniatavsstssemnhiiiptaqicfppiniamiatddpafhianamansqvdinasemtctneetoanisddpccneaeocipcldmniaqftunmnhheidaepamtnhmtsahsahigsqanaanqensdaacnasgqvahqsifeudvoimcacqcastinhqipqendqcisnnaceosssdcinhcfnmsthqnpihnqqpenmqteeqqnsedstlcqdmsmndmpt lcaceerceciaioihsimsceaimpoddstatqpltemrfnastsa rqaaanqsndcihtmcvtssrntlaimellvhaistusritmfdpndmssgptadeddatlsqslcpchiaclrimcmilahattsqniatncstpepalttatdcedvcqefssfsqlppsadqqefaaleqsnsvimpssiehlamcircnnstptvntsaimdnicptpfpivihvadelnssdconemaevehapqlmdhaptmisssvraqaftnlnsaqnshpsdrepashsssoficnampshdodpipneoannrmfpshashistqhcnhhnpnptcnatsmcgqpltihaeioismraqivasitnpleaenhnddltcrtvethsvhmqpsnsahcupscasnltqasasncefcaaonetndimedmmomhehniipvqualqleeuidcsidinsgifeqspneaviesnnqcmicriqqconppiqqmncnqeqfaqaaiavqdbnifcieaqtipsfevdcvhpqfaipfnciiaiicqsdqcvlnasiiilcnaalionmiltpopplqtvnatidqcsthhtanniisooinsiepvitcitscinfeaphecccsseianoadpicssliaqcnlnppuelsspppirceucvrqcaqtvsnoptaaacefipspmaapbacibcfqabmtmsisapdvlmfimiahiiinoneqlsaetldmapesipfpppcesneqqueimnaiestpdphdscpsiqtcsgtateasecsmfqnqafashanqaqchaabciqifdfcqbhieettsoifsupndacvfcnbcieddtqdveciqfsnfaaafqqcscmadnlsivpnoisaohacipeapcpieigsspipoaftcsoavmifnftpfaihnitiqnhectieqecaqsedoqaseppqdsngicodnnapspainptgempmdvapvieivnspncahtdqmapisnqcssfvqqqamqcqlisaiqmisqcmacveiahhcnnqattpevsicmcimcsmpaasnqmmvqtqcioestvcineitthmtntcitumqqqghicninemqeseqvqffvatdscscafasecaiviieiicqmsccqsenasslpuqaabillsmiiodnnqvnolocsipqisavthadminsepsfsaaiviadvqpniivnrvocdndqoififqqndidapiqurslinnimreecrmpdmsdstdnnsnagcdpmsdpcfcanplimaefiqiepiionratniqgualuatreipcaaereneqhhtapnlocinfeiqacufipcccedqittrlaoiplppsacfsashnaeoinntpindtsnnithcsopdtsadninvoinpcaiohsiedpntmcfapiqaiippepffimntoefdsaormpncqaqdpncscegvamhqiphvacaaedgntpliqalcslesiiemeirsseciqaosqsnnttcapsvnhmlgtatqpnnnisigoiqcpflefocvsondieaphtdnitlssfdnuccasohnpamoaisbaeiqatniapbnnrdsamidphntfshisgilvfaoaesvedhqnsvmpcddatacdsctecninhdcidciapihqdncselfaepcldaapmnadntisibsvianahtqipbsadpremluiciccidciadimcsataaconpfcccqnhcscsisrnaeippoticaenibsqchlanssiitnnnlfpvtsqfneeaoosehvtnstntnfsvgsviaclaemnpaadcneptainnnfcieiaaiedpqfmvsofstlsacfldneaimemdvuecvaitesasldcahufnhpndtnaeiadvstvaaisstaipttttqssmfvoqhqshiiaasoaipilaaraiiiaqofppsdiaslahpclechndcsqatsvuhhihfpfqnodcmfehhmcceqaiinisvpcivprvdipvrcncmtplandqdeesauriaqpvsnpdhiaerotnfacaqonvipdlrippqfiooeectnvtnohpnpisttmqpdtntpstslmthhghataacbisnuaesepurhasttihesliiiimamisqdlhdasmmggehpaudnadqmeiithiedtfnvdcmindtfiaafaaapqcihoiiiitetanqssahhntssiieoleeiaanmltacnhppaiaitcpiidcdmtqeccsmqenvamstcehfesolacpipitpheniuupcpnmqunsnauqdaiiepiqvqssqidtnuvhslasiesmvvetdolsihsnssfaisaiapqstqivnnqeasiscsqsedngnelscqgqqeighe\n",
      "Длина строки: \n",
      " 14202\n"
     ]
    },
    {
     "name": "stdout",
     "output_type": "stream",
     "text": [
      "Список \"акрослов\": \n",
      " ['raucus', 'cieo', 'nolo', 'fons', 'udus', 'apis', 'area', 'chias', 'dies', 'enim', 'meto', 'musa', 'seni', 'musae', 'quia', 'etsi', 'unde', 'pestis', 'usus', 'onus', 'sedo', 'pauci', 'pila', 'dedo', 'asia', 'icit', 'anci', 'heia', 'bini', 'deni', 'celo', 'tela', 'caio', 'esca', 'musaeo', 'niam', 'alea', 'atrei', 'dumus', 'ibim', 'sami', 'ecum', 'lindi', 'maia', 'upis', 'milo', 'osus', 'fuco', 'coae', 'elis', 'icta', 'eheu', 'ceos', 'meto', 'aius', 'laio', 'homi', 'aura', 'seiano', 'liui', 'gula', 'sufes', 'titi', 'fano', 'aceo', 'itis', 'mona', 'dite', 'cccc', 'iiii', 'siid', 'sura', 'aput', 'insi', 'ilia', 'caco', 'pipo', 'icci', 'lima', 'sima', 'aero', 'iope', 'nini', 'leus', 'athis', 'pisa', 'theti', 'iano', 'cipe', 'atia', 'silia', 'pida', 'cuia', 'riae', 'cupa', 'eoae', 'susa', 'seps', 'papo', 'pido', 'atta', 'anti', 'copa', 'puit', 'tvas', 'idae', 'nisv', 'atii', 'dahae', 'fvat', 'advs', 'acca', 'hiis', 'evri', 'vlnas', 'clio', 'iuui', 'daca', 'ccci', 'iiis', 'auria', 'eppi', 'cepe', 'papa', 'tate', 'lans', 'tata', 'focvs', 'piti', 'esar', 'isis', 'amis', 'anam', 'ciae', 'ocni']\n",
      "Длина списка: \n",
      " 135\n",
      "Слова из 6 букв:\n",
      "raucus\n",
      "pestis\n",
      "musaeo\n",
      "seiano\n",
      "Количество слов из 4 / 5 / 6 букв: \n",
      "117   14   4\n"
     ]
    }
   ],
   "source": [
    "first_letters_statius = take_first_letters('statius.txt')\n",
    "print('Строка из первых букв строк: \\n', first_letters_statius)\n",
    "print('Длина строки: \\n', len(first_letters_statius))\n",
    "acro_statius = acro(first_letters_statius, new_lemmas_final)\n",
    "print('Список \"акрослов\": \\n', acro_statius)\n",
    "print('Длина списка: \\n', len(acro_statius))\n",
    "k4 = 0\n",
    "k5 = 0\n",
    "k6 = 0\n",
    "print('Слова из 6 букв:')\n",
    "for i in acro_statius:\n",
    "    if len(i) == 6:\n",
    "        k6 = k6 + 1\n",
    "        print(i)\n",
    "    else:\n",
    "        if len(i) == 5:\n",
    "            k5 = k5 + 1\n",
    "        else:\n",
    "            if len(i) == 4:\n",
    "                k4 = k4 + 1\n",
    "print('Количество слов из 4 / 5 / 6 букв: ')\n",
    "print(k4, ' ', k5, ' ', k6)"
   ]
  },
  {
   "cell_type": "markdown",
   "metadata": {},
   "source": [
    "#### Валерий Флак. Аргонавтика\n",
    "\n",
    "14) 'valeriusF.txt'"
   ]
  },
  {
   "cell_type": "code",
   "execution_count": 366,
   "metadata": {},
   "outputs": [
    {
     "name": "stdout",
     "output_type": "stream",
     "text": [
      "Строка из первых букв строк: \n",
      " pfarpsffoesfnsiipcseohiiaspetieasuaaitohachqinfiaqscoitirtccvvemeiapcihiaasfgptroaiiacdeicadtmrasapottahispatgpioiiineadfdltmpcplhpcnhpacvaprcphfmnihahmnaotaapratadvetopncqqnicqcqitdaapdntsedpisrdismnrihspieisvhachinaevcqteacaitntcossfcitqvaovnsiiiqhdpcricuvaisshlsphdmvomvsdltepfavslchdivuqreiciepsmvvcimtcidpadepicvfofdavtpsmuqpdndataqnpcsvtaivassesdhodpsnrhahiqtdnntfinqqaimtqtfandaqlufdhmpcqnectbipifpiatstepnphqnnattssovpipdsqeaophacenshctfdafpicpqtcsearsoaqefepqtnaidanmatpvpheedhiiavuqmicsisclutsistgihndeqcusqpqvaicefasabptofnhaieuuaalihpiifqdbqohmcaerthtiiildditppicccsasmnchteiropiossoinpgpnqhqittdpitnhiurcepvtcapnihqshtshmavasinaceapvnmfuhleieaieealsqaahditsupaiihtpsfdviiieaitqpfampcliqsvnchpnioqfotnimnttnpodtsibtiptmsicistpetmiphpasrqishmmfpqmsiacmatvtpdeeiqesseihttocpicivlntfdcvupecaamaescoaseaedcsacifiilctdectaimhsarvccsqpiddchipmeiaiafitisciaveaoptqiqsfhhuamsiftcicasaueiaannchhdeahriqpniaiaqisaspehrmiatmpcplittciihmsdtiaahlaalahqetsevidalaeohcpqsanqmtqihvebaafhiieoslahiooshinppatmelsqifeatopiovoipacchfpipcpsndmlicpfipaattiadpictmaeevihoioauiueqsicpcsadtehsfnhvdieoadbsohaiitimtitotersvarvcdsitipruettbesnionnaevqshpqpecsdnrqldtaeiiacniueacfntnphsspahddispdrvfshvfnhmiestcippanphaaiepicgstiiiietquindnidvoprrcshhqtfctpaeeeqnsiiuiicapeddipaspiaatasdipvsnahistthhacoehmicnetadcfoaafavvaqatacrcemcdqindnlpttcbnhdvcviicaepnalqvdmalfciplntoesaiihqtpipionmitepricpsaocieppnhnevaliteotldcirmlafnsqsvucdcinafenrdaipldfvisaetisatrfsvahsfnfcfchrdctupiqehscuiielssurrtcilpnucumienlcnmvhbstsrcpachtsachsrteiadbcicmqtaftpnaiddcaoeiqasucneaesicaldtushrmpasvqceslciscnaiiqnalaieaiaccdiavvbcsoasdmccpchsfctrssaoqoaaqpieauatlsttsicelipsaqictpppoastdchlndaqpidcsoivhpdpneasioaoidhpnheohapddatppatnfbfttvplvnpqdfcprqiuvsapmtueealcfacivscesinstptdcctapltteqevtfsiacdmeoduhioctanutqpitpsipvaasvsaiptitnaceshefnasceraielfpcvempffcupmnotsdatvhieicsvfqeadqhisniicltssthamiddamanbnnipicdtqdcadmspfeqiaeaaqiashfisceccsshsveicipetbhvfiecafhmticiuaaidosdpiftptapqrhsaasevnnndlucieiiricesnieipmadpaeoivtlahidpnmtgbacabftctccdasoieqenvupdvvthruescipectrhiqncvcdhcpassiscipctdhadspttiadidtlcsuinqaicccaceoisqilfsfhicfraacgiisissiiqvnaitecovaaanvcpsqdoneesccaaciihsinpmddrstsingahrlqhtanianspepssneivdvtrsseencscthvafanfinlciidnahquftshatifihuefioodpclicfanquntpiasiuhaaaigtaivdqdiopfefsqhnncoihiismstilctcfciciiheschinpifcaicfgfidvvlctirfvindiifmtfsqeioamlbieepprnuqnaepcsttchseiinuticnnivathappeicitphdqoaitpiitacccnadchenoghhiflsseuohatlaniabopisheadtioeq.ppasissdnihsnhbdhidpinpfutenntnntnpivosnapsqmntipdteaandndiihenectbcihsppcisuaiipnabcvthiaapetsciotspqiaiebdhadisvsaehbrhectopichasitdstiirddpgfplciaittaiesvsaacsimciipamallaicuffivhavqaaciaqhleiictfniqnecroidcapctdavniasabvidpnldqidtpqesvtenqptsinapnalifdidppphmssnninpttoeqsstasqsfcppiisiiaacoafhiltfspechfphshtttishdiemiianimldhmisilaehatveostifppianppmtqpdfeishcnsitdaatesuvipvfcpnectsavcpbmppiaflsqqpigsdnvpingeihpsciafscqpftpipqmsnnddocplcssfdoihniipqceuocbssetlhsaqepfcluapcfsvccihsivacpspddtnaltpaonsspuinstaonlvnnqaavpuvaahiessiadhaatmhlbcnsutvvnfpieifeifcbaalaptahipfcemtaahsvdqndhaueaivuevnctnblasftapcchlpnarsqroshnamdnqaftinpipcaiauntfiacqfcictetvidocopacpfmtirancfaahupantsgdcmshivhicvsqfufqnprpneeidfvmbluciauvacifihaatrvcmpleascmosdpapfqsisvirpttptaqsvptapdeedpfuadritofiasififailqepqstrpfpdtcmnhossteavhieiaitsvcadpiipsesipcidnracvcnacheacvspaittnpcapmqphcaspitvoanseuaqrqsdsicfsrindvdpfvshpfapaptcupsqaqahtnntgsrmitnslivrepidshtasfqsadantdvqmhcdsiaiicvradlotoaappnacitpioebpvdfaaeavtiiecaculrddpamiisqcqcfdtdapplascqatrcsthcncmnsmsmoidaphestpsoishinbsnvctnscmafhhdicticuerinquctficrafeqnnteeabqqaacpfntaaphqsensaqqimrienaadieqsccqsicrdisciphincdnaimqbnhscdqvaeecfqdeiaattqetnnvqsnneqqivlaiqeeecinnrnnnnoqdqsiiaudsneaifheqpqqtssivtmtdenhvdetmfsacisricptfaqleleusrhqaenpoashatvhmcvmdmqemhpnagpspocctnfimctcciddmgqnoiammidsqcceeladchcbfpifaiqanheqttuiceiitlidvmietdqnnamieahcedsntpfhhcipiemeatmicomnmsvgpibmnfatminipeaangtiganiaccvshcamnsdipaecmacvcnttpinathpcmddqodisptncivfhssiefvaoaicctoetcsnaspdtinifqsaiipsedntcsnassdvhtinacaaisstphtipptiiavloitcpeqmehpeddtficvithannivvcsamnmptpdclabaedasnqaciqipudttmhhciiaqvaiuhiveccdiqtqpepsgqiapdeatqeiirtqrmspfnelhqcvhtcqniidpitfceecicphmasvismcdtqseinqnqhtdaaindmndosctucnaeoccacfpeasttfiidnlpfhfdanmmsddqsissicvcqqdascsapsndbiqadfdhhqvehnsdnfaalmaddedaesbdrcpcrltaiiseinahvesaachnaeqastqqaridnaeetrtdaiosnaansqctlstetebaitemftqqcipidftenepchpirevhicfpipasapecralalpticqdnsiaochoiivaaipatlrvftasinnasiinpcsisenqenicvhvuqataintquvqpssusadeineqiihsieifmnedumtasatdnecvnaninqtmacafnhtenqgaalvppiapoqqcqngcqeuiicopesrsaaastnqmcmhloeqccriiaamfhcsinqaatcnsiiqiduhnhutlavlrvdioqficahaaqptibsaatpcqqasiondsandstheatciacfhincmtsieivaaiqvfhtnvdnhpatdcniciafepcrsvviemsmqheaenmiocddsvisppadhapqoscaocqcfenmseincisupnqrstsotiooodiacfqvuvapehtqidqndeahdpasdsersctoitviivnpiisdcthfcuhdptnmqnsdaparestaueoetcepcomonghmqctpttcrvscncncqdtiispimsrcmtidaqmhiihihsrinniecniiipheasoiphiaaenaqfhfnnghdfnqaqapsepphhcnqohqucnofsecsnihgcsasmdscnoiccapinqhpcriasascqcameadtnpftcmqstsrppaussttfiaadheonraenscsdptissiqeihhoiicseeauedsrvaetitfpsapdfsqanccfaiadtahqfndquqcifoaficicpiraoseiipdusntmifsmcbacoavanaansaeecititqiqihioaialpaiacrhdqaacpnfuqaaoaeqttdcviipiqivtqldlieqiaeoscvvmtsclnvqsehihtccqsiamcdemiicsoqfnttqiinshccpoviicnivsnsmqfhvcieavtcqfsnccnlcapcessntiuocpptiifvuinmecesnosqihuiqnatvsiheqtesunaitseinigcvnccsmehfaiqipasshsrhlpaphafsiinatiaisfitisapuiipcqisiasiidtrslqciaipsepoemppghiaqtaacaaipvoqaspqspnpcqqmhtdpiqeqhbdutgvpacieiqicappesaqqcnshaneiveviatsaidgcnhtcnpaqshapssvnfiaqpdpstiispntietahoqsaeacdioinpcauaortpaceqenmaiqrccheisvanunamnsnfnuinftvatfanvtnnccpoaqnafirvbtctschespopsqvnmhdtm\n",
      "Длина строки: \n",
      " 5591\n",
      "Список \"акрослов\": \n",
      " ['como', 'ipse', 'mico', 'veto', 'hinc', 'scio', 'quin', 'icit', 'baca', 'atti', 'sica', 'como', 'pina', 'cera', 'tete', 'iani', 'tito', 'fici', 'ansa', 'icti', 'qvae', 'nedum', 'idos', 'aceo', 'itis', 'viii', 'iiii', 'siid', 'baco', 'dama', 'asina', 'assis', 'leus', 'idan', 'iphi', 'iphin', 'cipi', 'cipe', 'atia', 'eleus', 'eois', 'susa', 'coss', 'copa', 'cvra', 'svis', 'natv', 'aqva', 'natvs', 'aqvai', 'davnia', 'ivre', 'svta', 'davni', 'avni', 'hiis', 'dvmi', 'litt', 'isis', 'maca', 'ates']\n",
      "Длина списка: \n",
      " 61\n",
      "Слова из 6 букв:\n",
      "davnia\n",
      "Количество слов из 4 / 5 / 6 букв: \n",
      "52   8   1\n"
     ]
    }
   ],
   "source": [
    "first_letters_valeriusF = take_first_letters('valeriusF.txt')\n",
    "print('Строка из первых букв строк: \\n', first_letters_valeriusF)\n",
    "print('Длина строки: \\n', len(first_letters_valeriusF))\n",
    "acro_valeriusF = acro(first_letters_valeriusF, new_lemmas_final)\n",
    "print('Список \"акрослов\": \\n', acro_valeriusF)\n",
    "print('Длина списка: \\n', len(acro_valeriusF))\n",
    "k4 = 0\n",
    "k5 = 0\n",
    "k6 = 0\n",
    "print('Слова из 6 букв:')\n",
    "for i in acro_valeriusF:\n",
    "    if len(i) == 6:\n",
    "        k6 = k6 + 1\n",
    "        print(i)\n",
    "    else:\n",
    "        if len(i) == 5:\n",
    "            k5 = k5 + 1\n",
    "        else:\n",
    "            if len(i) == 4:\n",
    "                k4 = k4 + 1\n",
    "print('Количество слов из 4 / 5 / 6 букв: ')\n",
    "print(k4, ' ', k5, ' ', k6)"
   ]
  },
  {
   "cell_type": "markdown",
   "metadata": {},
   "source": [
    "#### Вергилий Энеида\n",
    "\n",
    "15) 'Vergil_Aeneis_Mynors.txt'\n",
    "\n"
   ]
  },
  {
   "cell_type": "code",
   "execution_count": 367,
   "metadata": {},
   "outputs": [
    {
     "name": "stdout",
     "output_type": "stream",
     "text": [
      "Строка из первых букв строк: \n",
      " ailvmiamqiivkoqphspahvipneiehtaetvvchnqaviditaebptnaliicsnqshieaaegiiasqcoeaetcnhiqivaietipeitqctnssstvfdhttsdiiviivtaaievaiespdfnetimqpmnsvasccdeaasitcispfdceefhiadfinvheeeasnteeapianpaccdcmnchvldoovaemptodtsitpltipasspnfedlcataaqqcchqphsniairvihttnnphovopfmmhlbcttaatithgmirmhiqcrscsniihaacicsphvhfrecaaveqqcaobcvshnvnavsasnomaseiemtvppsigahpcopqicgmiccntathcacpdmmtsqsoeantfscibmviepqvpnnnaatavehapdaseaqlntaecmiltciimmimpihfrqeesaifoaiplqemehcaahlanrambacqesssmnhhnatappiflpicsdtetvtsedpabhdriqehfltptsipcatdoladqqopmoitopnvnetoihcipdqpbsarnqanpaqestspavtdtsrmqvnnssavvtaadsheanovsvsrocpqatitoqovngdvpsilsqipocqitaafavttisqminstnvtmaiaifpapaomfeopepmbhacpiqvennaflnnvhqrsіrsdhantfvrcopeaiifircaicdeqccqncmfppepierhimiipcfaihiaiheaedptspphvaqhinimnniieociiteemtpseqidiavhiieinhnepdhcpedsaapasplecdaaiaqsicieitepdhosvcadnchacdqiqcvhffbgidipdcghaensphcinsqihtipsmfipssm\"csaoohpfabpvcavieeldnnqeqpithivqnqqdsvtqffsttoptfpcvesnvlseenoqeaihehrnnntcsvvtcqnholsehipspfasdlcipcbtipcqtaestilldndasifsiomsietonivimcealeilrtdpeicatiivrpehvsvacoqefdfishhsdshmsadeaceaiispativveascpepsiqvvdgtafimoosptiqaeemveiaqipcedivsrefvvqevpclqvlpaifspdfoipahiisaommaaaihlvmcdfshecalnechnatveacesifaaippqdclitvviiphbschnpdceadoialtasaetteeaiscitveqfnlavasilaraaaamftaicifinefccvsqbpfvlaccaiihpcivinthaaevpsivchnadpdfatsrscecpdntiehspraaovverdaisteiepaevsaciodnfelvtcoaccnqnlacinchamcihsnfepfiiisendantiaceevcdeaaoaesvmhvsieidftnacarnmssetinheaaarphiehsshctcneflneaeiadvisicsdhaidvcdaeiqvsvedrhtmaahvsipetnsievpahcdhsinqvdqaacisppqohimivpecpiccsainqivotqoefleiipnadsihdttpsaicviidlcpiidaaicelectthdmasacfvachnvemriamgrtaeaqpehnttohitdirfvadmoleaceisciddpsnqeiharvoitdepqdvlmsdpahehlqtacmcmtophieepntstnfihlbocnhpeephicicalcarhqtneqeiptqhnniimmdetoihishatnvtcaiaastsnesccshvpatncaiaeinteqvvaseihctpvpohlciieahdirairtpehdelaosasvibleaqpiisqadadssendedtqideemehaelaenaieap&lcplchpceocpsalhevadlvnhisvnhehdohinnsslmacempcpsaqqeeetipaeppaniaiivhtqefrispoqhesianaspaespvlaeiqscltainfhpehelpqepnhhhavlahtdvhldoseaoppdpcqspsvpiisthdifqdivinnihqvqiieehvqdiileaariaqcceeavpnfetascosehvivaqqasiceatpvssscnhesaapdticiitisdfcivpoitqtebsqspepihcghccteaeehehcltsttiipiitaiecfviemnpnsepvciprceiaccpthepssdhhidisnphidisnvvpflmhoncipnfiaesrnlcitclpvdocavvipmtlspldinsvsvnciiaecacacpecinemptlspoooiehraiamtehahadnhhhsfcavmgvpvcaqqcdisnpshacsisvpaiasasnienddnhehbgdhqcptidqhspeliicaiphqivvqpndnsinieplsiadnetmqctetvnssqeacadoqsassemtpmcviehdddsdchaoirmrpstscaniiqdiciftapedtpagsoiiedtsddcicncefmpiiepmttnsltthgvcnrhpihtcepidmigantfecremsqtartvdeanpsipsnaqnndiastpdinaapnphcmphlmvacedfcfeiriqsnardmeaaaahaaihmcadnttiapodsbtotdpnnqecitmqpsdotoefhqdsalndltepdpspmavresihpqimnamqntdidithlnpcnnnqnneahnississseoahaldmasmitdfimacicocqqpmiicnavpheetsinancqenntdeqtfffaaeciahtmtmqvhfhpcvhvssmtisieeaacedeciqovahhqshqsnstdteiqchngceaeifesttsfpqeivtscncacqrsasseeqiieqilqairqthndntachooenndicnicshftcpsfeqadfilaetrvltfhndfqitqqnsavqicstneaeieafaftshtemeqnlihitnadesspdsasiicdhcidavevvfndshddcsaltnkcavphhqsihvesaoscidttqtdqnsnaemdssdicmccptvoonihqcomsmcnsqfstifqqehieaahtqgepcadaecishaaenhaepvbdepapqascoshhiahfpsnnndsacsmotlshietvandoseafevmiepepqvmivisccelftchcstdcncicihnicncnctcletctcecficrqlasqcrirptnoiihaisie·ssnpahhdninqeepsaaniicocfeaapqcfdrsaesaicsqtihnhenfdvcpdneiatvdmvivpivaslcallvdvmdtcipcaiqasnpantvssochgccchivnenrhatamaancsoapatbthcepepiteeitiflfhhcnniepphpetgaqvtcmsdhednetenhpnasvenosivbptobqaeatnqddhpetdntipssehvipfotamhtqvhshdtsiasheetecbaiihgmmdcscianaoepeicaciaaatpnnccteseincaiodahneedqlasihppiieqcahqctpieatppheiapaanqittipdaaqohasnsctatamsticafsenqpeacevaddiiftocpftdavnppaapesecfedpleodciaieivpmfhidcharqaathhdiimincdaapevecfcaotiscsihqonhqnahnnhseipneaqiamhaapcitcpctnirpdcqhaaqaadsmsisentaitrnvsvtatirqanmotqhminqehhpledvttevancidcdddictcntiedaqhpfeeehtdireiseitfaifceciviqetcispaicqnnvriiqmipeaqvstfvcnaemaicnsntvvhifcsstetlnhgavncpaicscatipiapicmiaetnevtvecpicpidtcsmonseoaplatapadidpicrriccchpmhmdcpbbpadnnptieqvvtanenitacopdctmihvdgpretithdaniabeoososdsendnvqcetqqthocvioovdicieiaiqianstsiqtctnshidcqbtaailsahiaecsvphdsdsaaieimqdvmahepdasdaiephcipfsnhaasohviemedrdopqitsdqfeticcnfpiicpefpctatproislaimdhssqtfvqceivssaetepessactntidespipqeivlpettgfvivvmcehgcaeaihtaptcsieihmmiqlqtstnaadqhoacdhpntctcmclqoeqehsedhqvidncpnqdtvppnpfnqpeiaofdstvtedsnpeahcenpsqfvcnadtihqnnactasaanfcidisticpcmocfoeciqahnqcpipnfanlhsshceirievoadivfpispihsqtlinqtirnpivhphditicneaviceadoavsdqcnptcncaoshnecpiditideeiseqhisaavhiesnhdhedditrmqtpvctvhvcqvtnsiccqdctitpvqsbqhfhcavdqpidaaclncpivpqqiaraehpanqiiqsdia\"vihanfohsamhdcoshdflppcpnoihmiaspapcviphqqiqoqmhdqvanrihddailffiaevvnstqaqissdsttpislhaflhiqtcshiqoscdsplsmieisthdqncmessiqmdcahlsrdceangieipasqevpeseqahhphqreeeisfilohrphasspeahrenfpnleaqsrfmotanvvcaaivqaichaadnntpiveivqqsfqvecodthpsaihstaesqfqstooevqcfnivhdoshtphmaqielescashpitataehaaaalpdavahvssqiqdnaiacfapviaafinqcetdthmihatfnsimataslsqilhsoecappevariiiniafcfhicpmechcavnoenoahnsagaciseceefhnpecvhn\"atpheqqvnasitfiihiidaccpodhtcidhpmciaaeascnaitvhhrhpqavsvmmcesispaftsadeqlsqfnssaadthaadrancaeagtqteasqddinfnfsmpesihtdmhhmitoipqehpaetamdisapvenmhnehsoiatasistsesedmdthfntifqaaqpsiiqaqvmfnaaahsecqfhliiottqhhfatafmdaepcqfhcqivvaiapnmmeonpalqesiodeihcsticqicidpqmeqevtfidapisscsgstrpcpaapdsiaeecfeteraithiqlccnshonnisorcbtadtlrvearbslopasivefneitshchhdaaihovcctnaampieihcdianpssasaoisrqsaaptcasetdiadsshsfpehnsvcdqqaapidiedqhfavtsqtethciicenavdhmpinipaittstiviccivqmsvcmfiosnfsmarshasrcrhiiiahmaftibapppasqtatvavcchalpqcfeapcfnldmipvpccfmgtpeitihtfcecdlsnvicqihqnlbtiaqiahheiccdpnmveacpveqqcqnqqsvashcmmaaaotlnoficsqettaevhvacqfavsmsesttivelnotaptmifassevcefeivcstqaaaciaaeqlcpqqhabfdigvfitavaevevececamqaiedqeqtcaissoenacaphpvctoqehnciltaheaheaqdphhiasispschdislsntaqfscasrecpqmtlmselmsoeasctaofaavtvatcseiqtptqedoeaeptoenqsccdeaevcaishtogiqeapditaenlptmlacaidfeeaianhppatvdvpprhvisidshsscohoaataiaaqaaciqiadirmhfrttsvdpeadllssdhdaidarnipceidaifepfnpfhcepacptpesehdqccdveidipidtphhmvtrphptonalsetscepeimaethgqaspaicmasdetstadmfhcveqvahrpnthaidhqcahrhitprvaafdienalviddnaiqeneatafdcainistqqtnseqqqvociccinechmieqaasvhfbhfdtafmpiaccgtaanposvitiaaiiheecetdnphsnfcarmrnehsiohvghiqemctcaaoicerhtsfffnehicssinheihpmaalvamnnctsapoatqhslhqstheelepqpfnddpfovithoqsenhtannhfaieisvsnddcvfiaiiqqespoaqerisaqhcihsadvtemadaiemtfssthihfsfplimncarpashdrpnaaiaeisrapgdavaghleptepshaeaicfhcslpathvabvcactssrnoctceqadoivifcpcammloaidpqhhfeitmaaiapataasnlqrdiasidtpqpmidmtpchppqfhcnanceoatvipeepchnalacnbsehiqecaiatadtqadtaivqplnhlsnvfomfaiadmaedpaedahviennqicdiotravtaentassffci\"affdnsaneepnlhenqpicbdpdicihaetqroenhvenohtneamclpqaesfpoemnnasmeqnnisstsmanqpinasicldcqscerataqcqieqmavvhdncpaqpdaaieaoirbpecscvaepcitiansvedhvemhidahidatsnsppqhsacdepppamoececivehahsrerstantstelmaismnpfispcpvidcsapmaecqcphtiiciticephsqsohshreinaaveqfoanpfoqeiostasdshdcefvfdedssatpicamontttvipldavqpfctcfndavvnesccametitsqqpeaoisnineeespthscahapvvqenfcaiqhiiicaiaeqqnoaspfniqtampparvqeeoecppectvipsctemseihvcihiaipqispqsqmtailehotepsaesspiefsiedtdacgivinbeqnddvfaaotdccvdeodtitncciieciaieptbhladnmdgnaaaatoeasoccmeadeasiisdqvitpqapfiaqscaiceaateedtfddetcapsttnsfnsdtscpmtihaivbpepomadvichsateencoihdiedaesedfcshdervsepeiaialvocvvecestcpeqvaenetceaecaiihiqbsnsdnenotdiflftiaepcscccvaqaacetniponcpmqaaonatesiiqvqqansandsdeiaeheiekoitdnardarabichntqeincqaqptpen\"eqncoemathtccmtietaqhqtssnffpahsisannaapefhnhmidqailatvmeaaeicnrqqeaicepiheanpqamsqgvaseitcemhvatqentccnpdclfiiaifqmgihqmivhefstsinaiaoniqaqpetannprqeatianspicidhoittattatmpaisedtscaarafnsinhlvqiqfdahviplpqsanthfaesdonasfintsaoapieqidnapitddqnpciastiemhspdtaehasvftepainapnahcaiavasnqpsfehnmedhofipoidehavdiantsafttiqtcadchintthseofviedfhaaaposeaetheihmitvsdhamltaatfdcsahivptcvactsohtsfsaviithiadqvlivceqaeqlheicqqnetioiohcnaepacotqvciieptecivdagshscnitqilicdedcctsoltdpicavppmqacptsvqaveiifhicnahddlaafeqlpiaipvpdttdmaiovtdcssvoenipscsothsmemnvlhmitidddmaaiictcqhtmfeqhcevatsiocreodqlqqeatifqhaifctcleascviovissosdnaicoaadpsnsidnmghpiscgvosstasoctpcivpanvoscpmihqdiifvdahpatcsaithohadniaiehhsatatiaeivhsnicpiasdtmapoadeasqfedppteicaoieqqamhacsivadscmqafacatvqmeipdonsshhorvevoidmasvasititnddiittiivmbtvicaeeshnnvccehvoapvicmbtpsttmqpnanaiimihmmascsatcevipivctinndmaefndihhvophimiehaehqscnteifhimaaviiidpsdpihvtpsnfativcrnpqpqiponnhasavndctiovineiqsdbpefrneeqafocavaspenchepdvfcroanidmdqqtmtetvqdqfnaeicmctdlsihcfimsiabinimfcnctmoiphpdiqitmpmheltnqdfaeioteaqoevacivpmqa\"asqmqsvsmaeriicoicnefshtannpmvcistdqhhahqeavacvvpaecbipspcaneneelaehcdcsebsmppcimectoldsnsrcqdcdlccvdaqdqicqpntpnpvacasnssqtdltpqapatieqivspaspheindngnnavananssfoqiepsasstdmrlnatgeaqinvifitdnmicneitepafdhcdicictdepcicdmdpsbmnsdcseafpcihtfeqtaaeloodatasmttoqiaeppfvtttsheavahpsshavvcoocvppisniseesrtvtbhiq\"itddiiadgnaphanvispttesmoaimcvlthhtpidiaecihhneapaisecccdpfpertichqnsnsbbtitasohqvvidctafcavenaisatidqpspfqdeasmtsdphtqticpeavhtsavmpclloetaciahipcifmidteahqvnnhtcqcctaotsefnqtfqaaehnhcdetcadqsvfsaalhpmvcqhqhhvfisiisaccphtvcftcsqpcdovfpamsaneccnhhcslcacocshciflltaqhcesiapevtsitaavpihsnpnepnmrahsvchpddeileaiooptdtnssqvpfqhnmcnadepvaimtspindioidvcesaapeacntctdsasteihtnicadeaoovcsmsnsmfvcpebbssqscqiprldfvqdeslfafttttvqelafsisaianponhpneihppqcpiceefeaavhtlsvhsmtainaotfcposcdigvpathpdeevdtioatpledpinsmpdqcnpntpvtnaaaiiqasbhsepsaidsteqeicfrcccasvnnisicsshlvatnqadvncmoitcieaitaspqsicnirnonfvisnctiiqsihdtnlacacafpptehactvvedpcthcvhbetapcptsdtcpismtaeimdhcoconcispeadosanqocmfheiqanttpemspqsbatitfhsihinvpanqaiahassifehfhceaiqscenoodlliiciiaaiaaseeriiiaismsacpmnsnscsdbhdppghdiafiqieacnpmihpasdfdtsehtatmvvoaiqihaataaavptpinivhaeicnppesfinhvvaahdhlhsphtdmitsqdieiapettchsitnheaamaaadqafpmnpepiioodeaptooshltoetpnhioihicmdcdnnvnesnhfddsdfiatbevdaividviaqriniesmpeqfethdccpiacceqsaattsientofedanvmooaeptvesdvvstfdiiqposssfotvevateatsiqsmadpdacpfeissspqpdadplqcvicmaiiapidcacfsqiccncisqeaeafnvfcdismdeevaniiicvimhitrinaeeqhpfhslsshdidnftqdnvrrpqaohaiaqidqmaednsvtdvsiindsisnaveipccnnassooeivdsvsahsnaihidqvshasmhiinapstpaqnhfiaaivqaaiolmqcnitttmaiqnvsaidnslvqiastgtnanvssssvcnncsetdelpicmipvtaeravaecbpsieteihfv\n",
      "Длина строки: \n",
      " 9877\n"
     ]
    },
    {
     "name": "stdout",
     "output_type": "stream",
     "text": [
      "Список \"акрослов\": \n",
      " ['iste', 'creo', 'avena', 'aera', 'mons', 'apis', 'cado', 'vaco', 'sive', 'apto', 'cena', 'ovis', 'abeo', 'istic', 'etsi', 'creo', 'icit', 'iovi', 'anci', 'pleo', 'heia', 'vicae', 'bini', 'vena', 'doto', 'ceno', 'caio', 'nata', 'esca', 'pina', 'cera', 'arii', 'opas', 'maia', 'appi', 'tito', 'ansa', 'saga', 'olea', 'elii', 'qvae', 'cani', 'calcar', 'asso', 'riam', 'padi', 'mars', 'itis', 'viii', 'didit', 'vace', 'tacho', 'sent', 'beta', 'laena', 'osci', 'caco', 'icci', 'vinni', 'sima', 'teat', 'nete', 'aetne', 'pica', 'ceae', 'atia', 'aoni', 'pida', 'pindi', 'eoos', 'seps', 'atiae', 'atta', 'anti', 'qvid', 'ivssa', 'avla', 'havd', 'svas', 'casv', 'dvce', 'dvces', 'vsvs', 'svasit', 'posvit', 'atii', 'natv', 'avsa', 'vivvm', 'anvs', 'lvdvm', 'avre', 'svta', 'avsvm', 'latvm', 'lvat', 'eqvae', 'avno', 'acca', 'vsvm', 'actv', 'svasi', 'oeae', 'hiis', 'vnci', 'avres', 'vvas', 'aona', 'tant', 'eivs', 'viid', 'iiis', 'vrii', 'didi', 'maio', 'sanna', 'cepe', 'papa', 'tata', 'tvte', 'arni', 'ates', 'caice', 'peli']\n",
      "Длина списка: \n",
      " 124\n",
      "Слова из 6 букв:\n",
      "calcar\n",
      "svasit\n",
      "posvit\n",
      "Количество слов из 4 / 5 / 6 букв: \n",
      "100   21   3\n"
     ]
    }
   ],
   "source": [
    "first_letters_Vergil_Aeneis_Mynors = take_first_letters('Vergil_Aeneis_Mynors.txt')\n",
    "print('Строка из первых букв строк: \\n', first_letters_Vergil_Aeneis_Mynors)\n",
    "print('Длина строки: \\n', len(first_letters_Vergil_Aeneis_Mynors))\n",
    "acro_Vergil_Aeneis_Mynors = acro(first_letters_Vergil_Aeneis_Mynors, new_lemmas_final)\n",
    "print('Список \"акрослов\": \\n', acro_Vergil_Aeneis_Mynors)\n",
    "print('Длина списка: \\n', len(acro_Vergil_Aeneis_Mynors))\n",
    "k4 = 0\n",
    "k5 = 0\n",
    "k6 = 0\n",
    "print('Слова из 6 букв:')\n",
    "for i in acro_Vergil_Aeneis_Mynors:\n",
    "    if len(i) == 6:\n",
    "        k6 = k6 + 1\n",
    "        print(i)\n",
    "    else:\n",
    "        if len(i) == 5:\n",
    "            k5 = k5 + 1\n",
    "        else:\n",
    "            if len(i) == 4:\n",
    "                k4 = k4 + 1\n",
    "print('Количество слов из 4 / 5 / 6 букв: ')\n",
    "print(k4, ' ', k5, ' ', k6)"
   ]
  },
  {
   "cell_type": "markdown",
   "metadata": {},
   "source": [
    "#### Вергилий. Буколики.\n",
    "\n",
    "16) 'Vergil_Bukol_Mynors.txt'"
   ]
  },
  {
   "cell_type": "code",
   "execution_count": 368,
   "metadata": {},
   "outputs": [
    {
     "name": "stdout",
     "output_type": "stream",
     "text": [
      "Строка из первых букв строк: \n",
      " ﻿tsnnfonsilnvphssdsvspsnvqelcrpnnqpnmctiqnhbhpfelnnfehhshnnaeaaqapeeppibpiindcfhfcem1fdtamonnntaasnaqoadqmlcancioahmpinhefedpcbiehepntmicaesrnhpqditftaemasqvi1dnidhepnetaafeeqneetaqsicisvebddebvifldidtneeonsnaeqnsdeniaaiemmeanpiqaopqspcpetadlpppiqmqaqfpcticvhihndtdnneac1snsvmiitdctptiippaemiviooaimiepqoadahcmnrnimstcacataosnnoppimin1cthtsssmqiaiicelpisefcanfldidievvtigipcspedftqdnfnddaeicsepnviiisepceavcshrddsvaqnnshhhanf1pncvpnvanctqpsisealaasischtlnnnseotciairhchcepapaceaiiadseapttctavvfdachnqcdaaqqioaici1fctaehvahehhmqdepachnqvhpaacsespsensnccsihsimesthshassomalpipfpnfpsfhe1picedtsiesacifcincdpimspimicimsiodhnisdaivinaniscciinmpcoiopddhdavcedccfdtlednndlvsddtppptdhptdhihmadftadasncp1qoqdnhcivoancqanhpqsvcteoivmcssipvndishhfihqadeadiocnisceahiahaccdc1epcsdidnqnnvipmsnevvogpvfpsenntmavaacsemshhnttamaiccmaiafiisaiinnsnaohdpgqsii\n",
      "Длина строки: \n",
      " 840\n",
      "Список \"акрослов\": \n",
      " ['fons', 'inanis', 'anci', 'deni', 'maia', 'asso', 'mica', 'viii', 'vndis', 'vndi', 'iiis', 'eppi', 'didi', 'papa', 'ocni']\n"
     ]
    }
   ],
   "source": [
    "first_letters_Vergil_Bukol_Mynors = take_first_letters('Vergil_Bukol_Mynors.txt')\n",
    "print('Строка из первых букв строк: \\n', first_letters_Vergil_Bukol_Mynors)\n",
    "print('Длина строки: \\n', len(first_letters_Vergil_Bukol_Mynors))\n",
    "acro_Vergil_Bukol_Mynors = acro(first_letters_Vergil_Bukol_Mynors, new_lemmas_final)\n",
    "print('Список \"акрослов\": \\n', acro_Vergil_Bukol_Mynors)"
   ]
  },
  {
   "cell_type": "markdown",
   "metadata": {},
   "source": [
    "15 слов всего; 1 слово из 5 букв; 1 - из 6 букв"
   ]
  },
  {
   "cell_type": "markdown",
   "metadata": {},
   "source": [
    "Рассматриваем то же самое по частям"
   ]
  },
  {
   "cell_type": "code",
   "execution_count": 311,
   "metadata": {},
   "outputs": [
    {
     "name": "stdout",
     "output_type": "stream",
     "text": [
      "﻿tsnnfonsilnvphssdsvspsnvqelcrpnnqpnmctiqnhbhpfelnnfehhshnnaeaaqapeeppibpiindcfhfcem{fdtamonnntaasnaqoadqmlcancioahmpinhefedpcbiehepntmicaesrnhpqditftaemasqvi{dnidhepnetaafeeqneetaqsicisvebddebvifldidtneeonsnaeqnsdeniaaiemmeanpiqaopqspcpetadlpppiqmqaqfpcticvhihndtdnneac{snsvmiitdctptiippaemiviooaimiepqoadahcmnrnimstcacataosnnoppimin{cthtsssmqiaiicelpisefcanfldidievvtigipcspedftqdnfnddaeicsepnviiisepceavcshrddsvaqnnshhhanf{pncvpnvanctqpsisealaasischtlnnnseotciairhchcepapaceaiiadseapttctavvfdachnqcdaaqqioaici{fctaehvahehhmqdepachnqvhpaacsespsensnccsihsimesthshassomalpipfpnfpsfhe{picedtsiesacifcincdpimspimicimsiodhnisdaivinaniscciinmpcoiopddhd{vcedccfdtlednndlvsddtppptdhptdhihmadftadasncp{qoqdnhcivoancqanhpqsvcteoivmcssipvndishhfihqadeadiocnisceahiahaccdc{epcsdidnqnnvipmsnevvogpvfpsenntmavaacsemshhnttamaiccmaiafiisaiinnsnaohdpgqsii\n",
      "840\n",
      "['fons', 'eppi']\n",
      "['anci', 'mica']\n",
      "['deni']\n",
      "[]\n",
      "['viii', 'iiis', 'didi']\n",
      "['papa']\n",
      "['asso']\n",
      "['inanis']\n",
      "[]\n",
      "['vndis', 'vndi', 'ocni']\n",
      "['maia']\n",
      "['fons', 'inanis', 'anci', 'deni', 'maia', 'asso', 'mica', 'viii', 'vndis', 'vndi', 'iiis', 'eppi', 'didi', 'papa', 'ocni']\n"
     ]
    }
   ],
   "source": [
    "first_letters_Vergil_Bukol_Mynors = take_first_letters_special('Vergil_Bukol_Mynors.txt')\n",
    "print(first_letters_Vergil_Bukol_Mynors)\n",
    "list_let = first_letters_Vergil_Bukol_Mynors.split('{')\n",
    "print(len(first_letters_Vergil_Bukol_Mynors))\n",
    "for i in list_let:\n",
    "    print(acro(i, new_lemmas_final))\n",
    "acro_Vergil_Bukol_Mynors = acro(first_letters_Vergil_Bukol_Mynors, new_lemmas_final)\n",
    "print(acro_Vergil_Bukol_Mynors)"
   ]
  },
  {
   "cell_type": "markdown",
   "metadata": {},
   "source": [
    "#### Вергилий. Георгики.\n",
    "\n",
    "17) 'Vergil_Georg_Mynors.txt'  "
   ]
  },
  {
   "cell_type": "code",
   "execution_count": 369,
   "metadata": {
    "scrolled": true
   },
   "outputs": [
    {
     "name": "stdout",
     "output_type": "stream",
     "text": [
      "Строка из первых букв строк: \n",
      " 1qvcshllcpefmfntipaiedqqtctaaantaqpsqnqndiivldiiaiavcehagiaccidvpfpaaihaeavasvvsnesnsaspesssnamvferevaliqideeesqlccpevnvsohmnanfoipmevpvtnptiaatntipidmecliqefhcdqvttvaoscihbcsepnaentsaimccismansegevdminraphqpleevntdvactaeacdimesnhiipqsqchmomchsmcaisanihpecantfmmvaeannqfribsviifecetstseamantepiaaeaenfmicpsetascqaqsfsaoqsfsecedciftpadnhfqisettcctoefqdaaiqacimliccidspfsaaervoasaesaacidcnetennsnpnntndiasnaeqeiitaniphivmdvncesohlsmavsptevgsseicsaadththpicsofialedvsasicitosvfaaviviepfctapnfernesaeagdqhnliiqtdehvavaf1hnvhmfhtpnscppcapvphsshdqsenhqtevfqanctomnnfiasiqieinhncitpescsrpfcniecfnnefiafpempnnopcnqspetprstaantseqdannfnlbaedfqbqvaeaemfp[aielfosnlthinsihhvrhbasnsatfaafaaithohaesqismianqdtpipaqqdfehshilsasepneeneopaeaeanvecdqeqniietonradairsaisesfntchasatpdsvlnqqediheaqaeaaamqvarcqdsiavedaponstfaaaaecmthnnstsnqripeapihpintrcocpnvvtcmaeplicasnicoctinsiqsaihqvhssaftfvaappicieaetpcsifaqdncptmnvoeohceecepectafaafirppspbdevciisecpcishpevnstpeqasenniqdnhavacnnnmcqbceoafsmnianadsmnesimqadvoqhsfrfstsfasfpifanaqsisihvchpceaahsnapvgemicliiitvchhssaianise1tpcoachatpapepmiicccidavpiganafebsaniciiitrtemctspcfetpnaeeadcisaopessantpcapanalsescdattcmtcphdfivipenccceianttpifiiaeqenhiqffiiasscshssrinncsfsepradchihaspceaectidacsiappiinsmssaepbftlaaiaccstaqinldihsbtcivsqsapacfdcpivvcnvmveedfeaipsflamvoeitstphncanfieaqdnpanqasepiacvoecsdinhphmsshlhnqsrcnicesmpaeaihnvdqlncvphadeqapailceieacasiitstlqpsphaaniaatqiaststnpcvpaiesiicthpsccioahftgeslcinrnmpiaihempqnsanvpnaseslidgsvapftdcsesaqvsipesnncvamtabsdpmaeisnqvdaqcpibceqvepcdnqcstcnphtecnorosliainashehtlvcsphstsisplmaddecemanppsaqimfpftqievcnncnilpivippqpspibaiidnanvvamt1peamminpqffdapeooaapvvvoitppshsfisacvnseessptvnvasqsipspehnoctttiisrccmatsemeefpniivahpvddanedvncaahdeacineiiehitifavfoqecnpnqcinhlrnperiaepmqiieivpnacdsvevenenpsessiaifacaaiincmeaceeomvafpinlsevtiqivossateeasploadiceoheathqsosstobtpatimascaqsiaalqicsvqcdeaaitfvahmhpadcefnafsaphpsntpienaeqeveoeepqtqmtsshagiatmdepqvpatmmisipeqoqfvtascdccacaaeivacdlopectshdtfcaisiosevseeippcgppeoocttoecehpgqqahenoticisvtfsaestdvhqdaecdihciahfciesivaccvcooivinissvtaenmhsiisaiaaittteinavqvmmiqcaqteairpciriefiqfiidcpdaqqisrfmqaofinsaldidtgvaehqanhcetnsqqdqccpiephaqdpihasichefpipct\n",
      "Длина строки: \n",
      " 2191\n",
      "Список \"акрослов\": \n",
      " ['ante', 'spes', 'icit', 'decem', 'pons', 'cito', 'enni', 'appii', 'iani', 'pana', 'appi', 'qvae', 'insi', 'osci', 'icci', 'nete', 'actaea', 'ceae', 'iphi', 'setas', 'riae', 'nico', 'vnvs', 'svvs', 'evnt', 'svta', 'vvam', 'ccci', 'asici', 'sepia', 'cepe', 'aeaea']\n",
      "Длина списка: \n",
      " 32\n",
      "Слова из 6 букв:\n",
      "actaea\n",
      "Количество слов из 4 / 5 / 6 букв: \n",
      "25   6   1\n"
     ]
    }
   ],
   "source": [
    "first_letters_Vergil_Georg_Mynors = take_first_letters('Vergil_Georg_Mynors.txt')\n",
    "print('Строка из первых букв строк: \\n', first_letters_Vergil_Georg_Mynors)\n",
    "print('Длина строки: \\n', len(first_letters_Vergil_Georg_Mynors))\n",
    "acro_Vergil_Georg_Mynors = acro(first_letters_Vergil_Georg_Mynors, new_lemmas_final)\n",
    "print('Список \"акрослов\": \\n', acro_Vergil_Georg_Mynors)\n",
    "print('Длина списка: \\n', len(acro_Vergil_Georg_Mynors))\n",
    "k4 = 0\n",
    "k5 = 0\n",
    "k6 = 0\n",
    "print('Слова из 6 букв:')\n",
    "for i in acro_Vergil_Georg_Mynors:\n",
    "    if len(i) == 6:\n",
    "        k6 = k6 + 1\n",
    "        print(i)\n",
    "    else:\n",
    "        if len(i) == 5:\n",
    "            k5 = k5 + 1\n",
    "        else:\n",
    "            if len(i) == 4:\n",
    "                k4 = k4 + 1\n",
    "print('Количество слов из 4 / 5 / 6 букв: ')\n",
    "print(k4, ' ', k5, ' ', k6)"
   ]
  },
  {
   "cell_type": "markdown",
   "metadata": {},
   "source": [
    "График. Непоказательный. Не нужен"
   ]
  },
  {
   "cell_type": "code",
   "execution_count": 307,
   "metadata": {},
   "outputs": [
    {
     "data": {
      "image/png": "[encoded data removed]",
      "text/plain": [
       "<Figure size 1440x1080 with 1 Axes>"
      ]
     },
     "metadata": {
      "needs_background": "light"
     },
     "output_type": "display_data"
    }
   ],
   "source": [
    "import matplotlib.pyplot as plt\n",
    "%matplotlib inline\n",
    "dict_help = {}\n",
    "X = [0.482, 0.667, 0.765, 0.840, 1.959, 1.070, 4.097, 3.880, 8.058, 7.413, 4.279, 11.981, 12.215, 14.202, 5.591, 9.877, 2.191]\n",
    "Y = [3, 4, 10, 15, 15, 12, 39, 49, 89, 62, 39, 126, 119, 117, 61, 124, 32]\n",
    "plt.figure(figsize=(20, 15))\n",
    "plt.bar(X, Y, color='pink', edgecolor='black')\n",
    "plt.title('Количество \"слов\" в строке из первых букв в зависимости от объема поэмы')\n",
    "plt.ylabel('Количество \"слов\" в строке')\n",
    "plt.xlabel('Объём текста в тысячах строк')\n",
    "plt.show()"
   ]
  },
  {
   "cell_type": "markdown",
   "metadata": {},
   "source": [
    "Таблица со всеми данными"
   ]
  },
  {
   "cell_type": "code",
   "execution_count": 344,
   "metadata": {
    "scrolled": true
   },
   "outputs": [
    {
     "data": {
      "text/html": [
       "<div>\n",
       "<style scoped>\n",
       "    .dataframe tbody tr th:only-of-type {\n",
       "        vertical-align: middle;\n",
       "    }\n",
       "\n",
       "    .dataframe tbody tr th {\n",
       "        vertical-align: top;\n",
       "    }\n",
       "\n",
       "    .dataframe thead th {\n",
       "        text-align: right;\n",
       "    }\n",
       "</style>\n",
       "<table border=\"1\" class=\"dataframe\">\n",
       "  <thead>\n",
       "    <tr style=\"text-align: right;\">\n",
       "      <th></th>\n",
       "      <th>N</th>\n",
       "      <th>название</th>\n",
       "      <th>количество символов в строке</th>\n",
       "      <th>кол-во слов по 4</th>\n",
       "      <th>кол-во слов по 5</th>\n",
       "      <th>кол-во слов по 6</th>\n",
       "      <th>частота</th>\n",
       "    </tr>\n",
       "  </thead>\n",
       "  <tbody>\n",
       "    <tr>\n",
       "      <td>0</td>\n",
       "      <td>0</td>\n",
       "      <td>Вергилий. Георгики</td>\n",
       "      <td>2191</td>\n",
       "      <td>25</td>\n",
       "      <td>6</td>\n",
       "      <td>1</td>\n",
       "      <td>0.002135</td>\n",
       "    </tr>\n",
       "    <tr>\n",
       "      <td>1</td>\n",
       "      <td>1</td>\n",
       "      <td>Вергилий. Буколики</td>\n",
       "      <td>840</td>\n",
       "      <td>13</td>\n",
       "      <td>1</td>\n",
       "      <td>1</td>\n",
       "      <td>0.002616</td>\n",
       "    </tr>\n",
       "    <tr>\n",
       "      <td>2</td>\n",
       "      <td>2</td>\n",
       "      <td>Вергилий. Энеида</td>\n",
       "      <td>9877</td>\n",
       "      <td>100</td>\n",
       "      <td>21</td>\n",
       "      <td>3</td>\n",
       "      <td>0.001848</td>\n",
       "    </tr>\n",
       "    <tr>\n",
       "      <td>3</td>\n",
       "      <td>3</td>\n",
       "      <td>Валерий Флак. Аргонавтика</td>\n",
       "      <td>5591</td>\n",
       "      <td>52</td>\n",
       "      <td>8</td>\n",
       "      <td>1</td>\n",
       "      <td>0.001640</td>\n",
       "    </tr>\n",
       "    <tr>\n",
       "      <td>4</td>\n",
       "      <td>4</td>\n",
       "      <td>Стаций. Фиваида</td>\n",
       "      <td>14202</td>\n",
       "      <td>117</td>\n",
       "      <td>14</td>\n",
       "      <td>4</td>\n",
       "      <td>0.001483</td>\n",
       "    </tr>\n",
       "    <tr>\n",
       "      <td>5</td>\n",
       "      <td>5</td>\n",
       "      <td>Силий Италик. Пуника</td>\n",
       "      <td>12215</td>\n",
       "      <td>93</td>\n",
       "      <td>22</td>\n",
       "      <td>4</td>\n",
       "      <td>0.001558</td>\n",
       "    </tr>\n",
       "    <tr>\n",
       "      <td>6</td>\n",
       "      <td>6</td>\n",
       "      <td>Персий</td>\n",
       "      <td>667</td>\n",
       "      <td>3</td>\n",
       "      <td>1</td>\n",
       "      <td>0</td>\n",
       "      <td>0.000886</td>\n",
       "    </tr>\n",
       "    <tr>\n",
       "      <td>7</td>\n",
       "      <td>7</td>\n",
       "      <td>Овидий. Метаморфозы</td>\n",
       "      <td>11981</td>\n",
       "      <td>102</td>\n",
       "      <td>21</td>\n",
       "      <td>3</td>\n",
       "      <td>0.001616</td>\n",
       "    </tr>\n",
       "    <tr>\n",
       "      <td>8</td>\n",
       "      <td>8</td>\n",
       "      <td>Манилий. Астрономика</td>\n",
       "      <td>4279</td>\n",
       "      <td>32</td>\n",
       "      <td>4</td>\n",
       "      <td>3</td>\n",
       "      <td>0.001419</td>\n",
       "    </tr>\n",
       "    <tr>\n",
       "      <td>9</td>\n",
       "      <td>9</td>\n",
       "      <td>Лукреций. О природе вещей</td>\n",
       "      <td>7413</td>\n",
       "      <td>49</td>\n",
       "      <td>12</td>\n",
       "      <td>1</td>\n",
       "      <td>0.001265</td>\n",
       "    </tr>\n",
       "    <tr>\n",
       "      <td>10</td>\n",
       "      <td>10</td>\n",
       "      <td>Лукан. Фарсалия</td>\n",
       "      <td>8058</td>\n",
       "      <td>68</td>\n",
       "      <td>19</td>\n",
       "      <td>2</td>\n",
       "      <td>0.001745</td>\n",
       "    </tr>\n",
       "    <tr>\n",
       "      <td>11</td>\n",
       "      <td>11</td>\n",
       "      <td>Ювенал</td>\n",
       "      <td>3880</td>\n",
       "      <td>42</td>\n",
       "      <td>7</td>\n",
       "      <td>0</td>\n",
       "      <td>0.001956</td>\n",
       "    </tr>\n",
       "    <tr>\n",
       "      <td>12</td>\n",
       "      <td>12</td>\n",
       "      <td>Гораций</td>\n",
       "      <td>4097</td>\n",
       "      <td>32</td>\n",
       "      <td>7</td>\n",
       "      <td>0</td>\n",
       "      <td>0.001434</td>\n",
       "    </tr>\n",
       "    <tr>\n",
       "      <td>13</td>\n",
       "      <td>13</td>\n",
       "      <td>Гомер</td>\n",
       "      <td>1070</td>\n",
       "      <td>11</td>\n",
       "      <td>1</td>\n",
       "      <td>0</td>\n",
       "      <td>0.001815</td>\n",
       "    </tr>\n",
       "    <tr>\n",
       "      <td>14</td>\n",
       "      <td>14</td>\n",
       "      <td>Катулл</td>\n",
       "      <td>482</td>\n",
       "      <td>3</td>\n",
       "      <td>0</td>\n",
       "      <td>0</td>\n",
       "      <td>0.001028</td>\n",
       "    </tr>\n",
       "    <tr>\n",
       "      <td>15</td>\n",
       "      <td>15</td>\n",
       "      <td>Кальпурний</td>\n",
       "      <td>765</td>\n",
       "      <td>10</td>\n",
       "      <td>0</td>\n",
       "      <td>0</td>\n",
       "      <td>0.002096</td>\n",
       "    </tr>\n",
       "    <tr>\n",
       "      <td>16</td>\n",
       "      <td>16</td>\n",
       "      <td>Вергилий. Добавления</td>\n",
       "      <td>1959</td>\n",
       "      <td>13</td>\n",
       "      <td>2</td>\n",
       "      <td>0</td>\n",
       "      <td>0.001194</td>\n",
       "    </tr>\n",
       "  </tbody>\n",
       "</table>\n",
       "</div>"
      ],
      "text/plain": [
       "     N                   название  количество символов в строке  \\\n",
       "0    0         Вергилий. Георгики                          2191   \n",
       "1    1         Вергилий. Буколики                           840   \n",
       "2    2           Вергилий. Энеида                          9877   \n",
       "3    3  Валерий Флак. Аргонавтика                          5591   \n",
       "4    4            Стаций. Фиваида                         14202   \n",
       "5    5       Силий Италик. Пуника                         12215   \n",
       "6    6                     Персий                           667   \n",
       "7    7        Овидий. Метаморфозы                         11981   \n",
       "8    8       Манилий. Астрономика                          4279   \n",
       "9    9  Лукреций. О природе вещей                          7413   \n",
       "10  10            Лукан. Фарсалия                          8058   \n",
       "11  11                     Ювенал                          3880   \n",
       "12  12                    Гораций                          4097   \n",
       "13  13                      Гомер                          1070   \n",
       "14  14                     Катулл                           482   \n",
       "15  15                 Кальпурний                           765   \n",
       "16  16       Вергилий. Добавления                          1959   \n",
       "\n",
       "    кол-во слов по 4  кол-во слов по 5  кол-во слов по 6   частота  \n",
       "0                 25                 6                 1  0.002135  \n",
       "1                 13                 1                 1  0.002616  \n",
       "2                100                21                 3  0.001848  \n",
       "3                 52                 8                 1  0.001640  \n",
       "4                117                14                 4  0.001483  \n",
       "5                 93                22                 4  0.001558  \n",
       "6                  3                 1                 0  0.000886  \n",
       "7                102                21                 3  0.001616  \n",
       "8                 32                 4                 3  0.001419  \n",
       "9                 49                12                 1  0.001265  \n",
       "10                68                19                 2  0.001745  \n",
       "11                42                 7                 0  0.001956  \n",
       "12                32                 7                 0  0.001434  \n",
       "13                11                 1                 0  0.001815  \n",
       "14                 3                 0                 0  0.001028  \n",
       "15                10                 0                 0  0.002096  \n",
       "16                13                 2                 0  0.001194  "
      ]
     },
     "execution_count": 344,
     "metadata": {},
     "output_type": "execute_result"
    }
   ],
   "source": [
    "import pandas as pd\n",
    "all_info_list = [{'N':0, 'название':'Вергилий. Георгики','количество символов в строке':2191,'кол-во слов по 4':25,'кол-во слов по 5':6,'кол-во слов по 6':1, 'частота':32/14991}, {'N':1,'название':'Вергилий. Буколики','количество символов в строке':840,'кол-во слов по 4':13,'кол-во слов по 5':1,'кол-во слов по 6':1, 'частота':15/5735}, {'N':2,'название':'Вергилий. Энеида','количество символов в строке':9877,'кол-во слов по 4':100,'кол-во слов по 5':21,'кол-во слов по 6':3, 'частота':124/67115}, {'N':3,'название':'Валерий Флак. Аргонавтика','количество символов в строке':5591,'кол-во слов по 4':52,'кол-во слов по 5':8,'кол-во слов по 6':1, 'частота':61/37203}, {'N':4,'название':'Стаций. Фиваида','количество символов в строке':14202,'кол-во слов по 4':117,'кол-во слов по 5':14,'кол-во слов по 6':4, 'частота':135/91031}, {'N':5,'название':'Силий Италик. Пуника','количество символов в строке':12215,'кол-во слов по 4':93,'кол-во слов по 5':22,'кол-во слов по 6':4, 'частота':119/76394}, {'N':6,'название':'Персий','количество символов в строке':667,'кол-во слов по 4':3,'кол-во слов по 5':1,'кол-во слов по 6':0, 'частота':4/4516}, {'N':7,'название':'Овидий. Метаморфозы','количество символов в строке':11981,'кол-во слов по 4':102,'кол-во слов по 5':21,'кол-во слов по 6':3, 'частота':126/77965}, {'N':8,'название':'Манилий. Астрономика','количество символов в строке':4279,'кол-во слов по 4':32,'кол-во слов по 5':4,'кол-во слов по 6':3, 'частота':39/27487}, {'N':9,'название':'Лукреций. О природе вещей','количество символов в строке':7413,'кол-во слов по 4':49,'кол-во слов по 5':12,'кол-во слов по 6':1, 'частота':62/49013}, {'N':10,'название':'Лукан. Фарсалия','количество символов в строке':8058,'кол-во слов по 4':68,'кол-во слов по 5':19,'кол-во слов по 6':2, 'частота':89/51010}, {'N':11,'название':'Ювенал','количество символов в строке':3880,'кол-во слов по 4':42,'кол-во слов по 5':7,'кол-во слов по 6':0, 'частота':49/25046}, {'N':12,'название':'Гораций','количество символов в строке':4097,'кол-во слов по 4':32,'кол-во слов по 5':7,'кол-во слов по 6':0, 'частота':39/27206}, {'N':13,'название':'Гомер','количество символов в строке':1070,'кол-во слов по 4':11,'кол-во слов по 5':1,'кол-во слов по 6':0, 'частота':12/6611}, {'N':14,'название':'Катулл','количество символов в строке':482,'кол-во слов по 4':3,'кол-во слов по 5':0,'кол-во слов по 6':0, 'частота':3/2919}, {'N':15,'название':'Кальпурний','количество символов в строке':765,'кол-во слов по 4':10,'кол-во слов по 5':0,'кол-во слов по 6':0, 'частота':10/4771}, {'N':16,'название':'Вергилий. Добавления','количество символов в строке':1959,'кол-во слов по 4':13,'кол-во слов по 5':2,'кол-во слов по 6':0, 'частота':15/12560}]\n",
    "df = pd.DataFrame(all_info_list)\n",
    "df"
   ]
  },
  {
   "cell_type": "markdown",
   "metadata": {},
   "source": [
    "График. Распределение по произведениям."
   ]
  },
  {
   "cell_type": "code",
   "execution_count": 349,
   "metadata": {},
   "outputs": [
    {
     "data": {
      "text/plain": [
       "Text(0, 0.5, 'Условная частота \"акрослов\"')"
      ]
     },
     "execution_count": 349,
     "metadata": {},
     "output_type": "execute_result"
    },
    {
     "data": {
      "image/png": "[encoded data removed]",
      "text/plain": [
       "<Figure size 720x432 with 1 Axes>"
      ]
     },
     "metadata": {
      "needs_background": "light"
     },
     "output_type": "display_data"
    }
   ],
   "source": [
    "import seaborn as sns\n",
    "plt.figure(figsize=(10, 6))\n",
    "sns.barplot(x=\"N\", y=\"частота\", data=df)\n",
    "plt.title('Частота появления \"акрослов\" в произведениях')\n",
    "plt.xlabel('Поэтические произведения')\n",
    "plt.ylabel('Условная частота \"акрослов\"')"
   ]
  }
 ],
 "metadata": {
  "kernelspec": {
   "display_name": "Python 3",
   "language": "python",
   "name": "python3"
  },
  "language_info": {
   "codemirror_mode": {
    "name": "ipython",
    "version": 3
   },
   "file_extension": ".py",
   "mimetype": "text/x-python",
   "name": "python",
   "nbconvert_exporter": "python",
   "pygments_lexer": "ipython3",
   "version": "3.7.0"
  }
 },
 "nbformat": 4,
 "nbformat_minor": 2
}
